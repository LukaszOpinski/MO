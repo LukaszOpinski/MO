{
 "cells": [
  {
   "cell_type": "markdown",
   "metadata": {},
   "source": [
    "#### Praca domowa nr 1\n",
    "\n",
    "Napisz kod w R i dodaj własne komentarze wyjaśniające jego działanie.\n",
    "\n",
    "1. Liczby Fibonacciego (kolejna liczba jest sumą dwóch poprzednich)\n",
    "Napisz funkcję która obliczy wartość n-tej liczby Fibonacciego\n",
    "2. Liczby pierwsze\n",
    "Napisz funkcję która wypisuje wszystkie liczby pierwsze w zakresie od 0 do n"
   ]
  },
  {
   "cell_type": "code",
   "execution_count": 1,
   "metadata": {},
   "outputs": [],
   "source": [
    "fibo<-function(n){#nth Fibonacci number\n",
    "    varhelp1=1\n",
    "    varhelp2=1\n",
    "    varhelp3=0\n",
    "    if(n==1||n==2)\n",
    "      return(1)\n",
    "    for(i in 3:n){\n",
    "      varhelp3=varhelp1+varhelp2\n",
    "      varhelp1=varhelp2\n",
    "      varhelp2=varhelp3\n",
    "    }\n",
    "return(varhelp3)\n",
    "}"
   ]
  },
  {
   "cell_type": "code",
   "execution_count": 2,
   "metadata": {},
   "outputs": [
    {
     "data": {
      "text/html": [
       "3"
      ],
      "text/latex": [
       "3"
      ],
      "text/markdown": [
       "3"
      ],
      "text/plain": [
       "[1] 3"
      ]
     },
     "metadata": {},
     "output_type": "display_data"
    }
   ],
   "source": [
    "fibo(4)"
   ]
  },
  {
   "cell_type": "code",
   "execution_count": 3,
   "metadata": {},
   "outputs": [],
   "source": [
    "primes <- function(n){\n",
    "    result<-c()\n",
    "    for (checked_number in 2:n){\n",
    "        no_divisors<-0\n",
    "        for(checked_divisor in 1:n){\n",
    "            if(checked_number%%checked_divisor==0){\n",
    "                no_divisors<-no_divisors+1\n",
    "            }\n",
    "        }\n",
    "        if(no_divisors==2){\n",
    "            result<-c(result,checked_number)\n",
    "        }\n",
    "    }\n",
    "    return(result)\n",
    "}"
   ]
  },
  {
   "cell_type": "code",
   "execution_count": 4,
   "metadata": {},
   "outputs": [
    {
     "data": {
      "text/html": [
       "<style>\n",
       ".list-inline {list-style: none; margin:0; padding: 0}\n",
       ".list-inline>li {display: inline-block}\n",
       ".list-inline>li:not(:last-child)::after {content: \"\\00b7\"; padding: 0 .5ex}\n",
       "</style>\n",
       "<ol class=list-inline><li>2</li><li>3</li><li>5</li><li>7</li><li>11</li><li>13</li><li>17</li><li>19</li><li>23</li><li>29</li><li>31</li><li>37</li><li>41</li><li>43</li><li>47</li><li>53</li><li>59</li><li>61</li><li>67</li><li>71</li><li>73</li><li>79</li><li>83</li><li>89</li><li>97</li></ol>\n"
      ],
      "text/latex": [
       "\\begin{enumerate*}\n",
       "\\item 2\n",
       "\\item 3\n",
       "\\item 5\n",
       "\\item 7\n",
       "\\item 11\n",
       "\\item 13\n",
       "\\item 17\n",
       "\\item 19\n",
       "\\item 23\n",
       "\\item 29\n",
       "\\item 31\n",
       "\\item 37\n",
       "\\item 41\n",
       "\\item 43\n",
       "\\item 47\n",
       "\\item 53\n",
       "\\item 59\n",
       "\\item 61\n",
       "\\item 67\n",
       "\\item 71\n",
       "\\item 73\n",
       "\\item 79\n",
       "\\item 83\n",
       "\\item 89\n",
       "\\item 97\n",
       "\\end{enumerate*}\n"
      ],
      "text/markdown": [
       "1. 2\n",
       "2. 3\n",
       "3. 5\n",
       "4. 7\n",
       "5. 11\n",
       "6. 13\n",
       "7. 17\n",
       "8. 19\n",
       "9. 23\n",
       "10. 29\n",
       "11. 31\n",
       "12. 37\n",
       "13. 41\n",
       "14. 43\n",
       "15. 47\n",
       "16. 53\n",
       "17. 59\n",
       "18. 61\n",
       "19. 67\n",
       "20. 71\n",
       "21. 73\n",
       "22. 79\n",
       "23. 83\n",
       "24. 89\n",
       "25. 97\n",
       "\n",
       "\n"
      ],
      "text/plain": [
       " [1]  2  3  5  7 11 13 17 19 23 29 31 37 41 43 47 53 59 61 67 71 73 79 83 89 97"
      ]
     },
     "metadata": {},
     "output_type": "display_data"
    }
   ],
   "source": [
    "primes(100)"
   ]
  },
  {
   "cell_type": "markdown",
   "metadata": {},
   "source": [
    "#### Praca domowa nr 2\n",
    "\n",
    "2.1 Optymalizacja – ograniczenia równościowe. Znajdź maksimum i\n",
    "minimum funkcji.<br>\n",
    "$f(x,y)=2x-y$ pod warunkiem <br>\n",
    "$g(x,y)=x^2+y^2-5=0$"
   ]
  },
  {
   "cell_type": "markdown",
   "metadata": {},
   "source": [
    "### 2.1<br>\n",
    "$\\mathcal{L}=2x-y-\\lambda_1(x^2+y^2-5)$<br>\n",
    "$1. \\frac{\\partial\\mathcal{L}}{\\partial x}=2-2\\lambda_1x=0$<br>\n",
    "$2. \\frac{\\partial\\mathcal{L}}{\\partial y}=-1-2\\lambda_1y=0$<br>\n",
    "$3. \\frac{\\partial\\mathcal{L}}{\\partial \\lambda_1}=x^2+y^2-5=0$<br>\n",
    "\n",
    "Z 1. oraz 2. wiemy, że $\\lambda_1x=1$ oraz $2\\lambda_1y=-1$, stąd $x=-2y$<br>\n",
    "Z 3. wiemy wtedy, że $5y^2=5\\Rightarrow y^2=1\\Rightarrow y=1 \\lor y=-1$<br>\n",
    "\n",
    "a) Przypadek, gdy $y=1$ <br>\n",
    "    wtedy z 3. wiemy, że $x=2 \\lor x=-2$<br>\n",
    "    gdy $y=1$ i  $x=2$ wtedy z 2. widzimy że $\\lambda_1=-0.5$; podstawiając to do 1. mamy sprzeczność<br>\n",
    "    gdy $y=1$ i  $x=-2$ wtedy z 2. widzimy że $\\lambda_1=-0.5$; punkt spełnia warunki<br>\n",
    "    <br>\n",
    "b) Przypadek, gdy $y=-1$ <br>\n",
    "    wtedy z 3. wiemy, że $x=2 \\lor x=-2$<br>\n",
    "    gdy $y=-1$ i  $x=2$ wtedy z 2. widzimy że $\\lambda_1=0.5$; punkt spełnia warunki<br>\n",
    "    gdy $y=-1$ i  $x=-2$ wtedy z 2. widzimy że $\\lambda_1=0.5$; podstawiając to do 1. mamy sprzeczność\n",
    "<br>\n",
    "<br>\n",
    "Mamy dwa punkty do analizy, $x_1=[-2,1]$, $\\lambda_1=-0.5$,$f(x_1)=-5$ oraz $x_2=[2,-1]$,$\\lambda_1=0.5$,$f(x_2)=5$<br>\n",
    "Jakobian, czyli gradient ograniczenia to $[2x\\:\\:2y]$<br>\n",
    "Przestrzeń zerowa dla $x_1$ to $J*Z=0\\Rightarrow [-4\\;2]\\begin{bmatrix}z_{1} \\\\z_{2}\\end{bmatrix}=0\\Rightarrow Z_{x_1}=\\begin{bmatrix}z_{1} \\\\2z_{1}\\end{bmatrix}$<br>\n",
    "Przestrzeń zerowa dla $x_2$ to $J*Z=0\\Rightarrow [4\\;-2]\\begin{bmatrix}z_{1} \\\\z_{2}\\end{bmatrix}=0\\Rightarrow Z_{x_2}=\\begin{bmatrix}z_{1} \\\\2z_{1}\\end{bmatrix}$<br>\n",
    "Hesjan Lagranżjanu to $H_L=\\begin{bmatrix}-2\\lambda_1\\;\\;\\;0 \\\\0\\;\\;\\;\\;-2\\lambda_1\\end{bmatrix}$, czyli dla $x_1$ to $H_L=\\begin{bmatrix}1\\;\\;\\;0 \\\\0\\;\\;\\;\\;1\\end{bmatrix}$, a dla $x_2$ to $H_L=\\begin{bmatrix}-1\\;\\;\\;0 \\\\0\\;\\;\\;\\;-1\\end{bmatrix}$<br>\n",
    "Określoność $H_L$ dla $x_1$ to $\\quad [z_1\\;2z_1]\\begin{bmatrix}1\\;\\;\\;\\;0 \\\\0\\;\\;\\;1\\end{bmatrix}\\begin{bmatrix}z_{1} \\\\2z_{1}\\end{bmatrix}=5z_1^2$, więc punkt to minimum<br>\n",
    "Określoność $H_L$ dla $x_2$ to $\\quad [z_1\\;2z_1]\\begin{bmatrix}-1\\;\\;\\;\\;0 \\\\0\\;\\;\\;-1\\end{bmatrix}\\begin{bmatrix}z_{1} \\\\2z_{1}\\end{bmatrix}=-5z_1^2$, więc punkt to maksimum"
   ]
  },
  {
   "cell_type": "markdown",
   "metadata": {},
   "source": [
    "2.2 Optymalizacja – ograniczenia nierównościowe. Znajdź\n",
    "maksimum.<br>\n",
    "$f(x,y)=-x^2+2x+xy-y^2$pod warunkiem<br>\n",
    "$g(x,y)=2x+y\\leq2$"
   ]
  },
  {
   "cell_type": "markdown",
   "metadata": {},
   "source": [
    "### 2.2<br>\n",
    "$\\mathcal{L}=-x^2+2x+xy-y^2-\\lambda_1(2x+y-2)$<br>\n",
    "$1. \\frac{\\partial\\mathcal{L}}{\\partial x}=-2x+2+y-2\\lambda_1=0$<br>\n",
    "$2. \\frac{\\partial\\mathcal{L}}{\\partial y}=x-2y-\\lambda_1=0$<br>\n",
    "$3. \\lambda_1\\geq0 \\: (\\lambda_1=0$ gdy $2x+y-2<0)$<br>\n",
    "<br>\n",
    "Przypadek a) ograniczenie 3. nie jest wiążące<br>\n",
    "Wtedy $\\lambda_1=0$ i  $2x+y-2<0$<br>\n",
    "Z 2. widzimy, że $x=2y$<br>\n",
    "Wtedy z 1. wiemy, że $-4y+2+y=0 \\Rightarrow 3y=2 \\Rightarrow y=\\frac{2}{3},x=\\frac{4}{3}$<br>\n",
    "Widzimy że punkt nie spełnia warunku $2x+y-2<0$<br>\n",
    "<br>\n",
    "Przypadek b) ograniczenie 3. jest wiążące<br>\n",
    "Wtedy $\\lambda_1\\geq0$ i  $2x+y=2\\Rightarrow y=2-2x$<br>\n",
    "Z 2. widzimy, że $x-4+4x-\\lambda_1=0\\Rightarrow 5x-4=\\lambda_1$<br>\n",
    "Podstawiając lambdę oraz y do 1. mamy $-2x+2+(2-2x)-2(5x-4)=0\\Rightarrow -4x+4-10x+8=0 \\Rightarrow x=\\frac{6}{7},y=\\frac{2}{7},\\lambda_1=\\frac{2}{7}$ Punkt spełnia warunki.<br>\n",
    "Jakobian, tutaj gradient ograniczenia to $[2\\:1]$. Jego przestrzeń zerowa to $J*Z=0\\Rightarrow [2\\:1]\\begin{bmatrix}z_{1} \\\\z_{2}\\end{bmatrix}=0\\Rightarrow Z=\\begin{bmatrix}z_{1} \\\\-2z_{1}\\end{bmatrix}$<br>\n",
    "Hesjan Lagranżjanu to $H_L=\\begin{bmatrix}-2\\;\\;\\;1 \\\\1\\;\\;\\;\\;-2\\end{bmatrix}$\n",
    "\n",
    "Określoność powyższego $H_L$ w przestrzeni zerowej Z to $\\quad [z_1\\;-2z_1]\\begin{bmatrix}-2\\;\\;\\;1 \\\\1\\;\\;\\;\\;-2\\end{bmatrix}\\begin{bmatrix}z_{1} \\\\-2z_{1}\\end{bmatrix}=-14z_1^2$, więc nasz punkt to maksimum<br>"
   ]
  },
  {
   "cell_type": "markdown",
   "metadata": {},
   "source": [
    "#### Praca domowa nr 3\n",
    "Wybierz dowolną funkcję (najlepiej relatywnie łatwą w liczeniu), wybierz punkt początkowy oraz\n",
    "przyjmij inne założenia, jeżeli są potrzebne.<br>\n",
    "Przeprowadź:<br>\n",
    "1) Bracketing. Funkcja oraz wybrane punkty powinny pozwolić na przeprowadzenie minimum 1-\n",
    "2 iteracji do znalezienia odpowiedniego przedziału zawierającego minimum.<br>\n",
    "2) Ternary search, minimum 2 iteracje, rozpoczynając od punktów uzyskanych z bracketingu.\n",
    "\n",
    "Nie ma wymogu precyzji wyniku tego algorytmu, ważne aby poprawnie skrócił on przedział.\n",
    "W celu ułatwienia sobie zadania proszę pamiętać, że funkcja powinna mieć w analizowanym\n",
    "przedziale jedno minimum (powinna być funkcją unimodalną).\n",
    "Można korzystać z kalkulatora i innych pomocy, jeżeli chcemy wykonać zadanie na papierze.\n",
    "Można, ale nie trzeba, narysować wykresy przedstawiające kolejne kroki algorytmu.\n",
    "Można napisać program w R lub Pythonie który wykona to zadanie i opisze wykonywane kroki.\n",
    "Celem tego zadania jest lepsze zrozumienie działania bracketingu oraz ternary search. "
   ]
  },
  {
   "cell_type": "code",
   "execution_count": 5,
   "metadata": {},
   "outputs": [
    {
     "name": "stdout",
     "output_type": "stream",
     "text": [
      "package 'Deriv' successfully unpacked and MD5 sums checked\n",
      "\n",
      "The downloaded binary packages are in\n",
      "\tC:\\Users\\Łukasz\\AppData\\Local\\Temp\\RtmpcfkFBq\\downloaded_packages\n"
     ]
    },
    {
     "name": "stderr",
     "output_type": "stream",
     "text": [
      "Warning message:\n",
      "\"package 'Deriv' was built under R version 3.6.3\"\n"
     ]
    }
   ],
   "source": [
    "install.packages(\"Deriv\")\n",
    "library(Deriv)\n",
    "\n",
    "f<-function(x){(x)^2+10*x+2}\n",
    "df<-Deriv(f,\"x\")\n",
    "d2f<-Deriv(df,\"x\")"
   ]
  },
  {
   "cell_type": "code",
   "execution_count": 6,
   "metadata": {},
   "outputs": [],
   "source": [
    "band.search <- function(f, x0, delta) {\n",
    "    points_band<-c()\n",
    "    \n",
    "    f.x0 <- f(x0)\n",
    "    f.pd <- f(x0 + delta)\n",
    "    f.md <- f(x0 - delta)\n",
    "    points_band<-c(points_band,c(x0,x0 + delta,x0 - delta))\n",
    "    if (!all(sapply(c(f.x0, f.pd, f.md), is.finite))) { #aby funkcja kontynuowała, wszystkie wartości muszą być skończone\n",
    "        stop(\"Function value is not finite\")\n",
    "        }\n",
    "    \n",
    "    \n",
    "    if (f.x0 <= min(f.pd, f.md)) { #Jeżeli w punkcie x0 wartość funkcji jest nie większa niż pozostałych dwóch punktach, \n",
    "                                # to oznacza,  że w przedziale od\n",
    "                                #x0 - delta do x0 + delta musi znajdować się poszukiwane minimum\n",
    "        return(range(x0 + delta, x0 - delta)) \n",
    "    } else if (f.x0 > max(f.pd, f.md)) { # Jeżeli wartość funkcji w punkcie x0 jest większa niż w pozostałych dwóch punktach \n",
    "                                        #oznacza to, że badana funkcja nie jest unimodalna w minimum \n",
    "                                        #(ponieważ musi posiadać maksimum lokalne) i funkcja przerywa działanie.\n",
    "        stop(\"Function is not unimodal in minimum\")\n",
    "    } else if (f.pd > f.md) { #Ostatnim przypadkiem jest sytuacja, wktórej wartość funkcji w punkcie x0 leży \n",
    "                                #pomiędzy pozostałymi wartościami. \n",
    "        search <- -delta #kierunek spadku funkcji\n",
    "        f.x2 <- f.md\n",
    "\n",
    "    } else { \n",
    "        search <- delta #kierunek spadku funkcji\n",
    "        f.x2 <- f.pd\n",
    "        \n",
    "    } \n",
    "    \n",
    "    \n",
    "    x1 <- x0 #punkt startowy\n",
    "    x2 <- x0 + search #punkt startowy + krok w kierunku spadku\n",
    "    \n",
    "    repeat { #powtarzamy aż do skutku\n",
    "        \n",
    "        x3 <- x0 + 2 * search # x3 to punkt startowy + 2 kroki w kierunku spadku\n",
    "        points_band<-c(points_band,c(x1,x2,x3))\n",
    "        \n",
    "        if (!is.finite(x3)) {\n",
    "            stop(\"Proper interval not found\") #za każdym razem patrzymy czy wartość x nowego jest skończona w rozumieniu przez R\n",
    "        }\n",
    "        \n",
    "        f.x3 <- f(x3)\n",
    "        \n",
    "        if (!is.finite(f.x3)) {\n",
    "            stop(\"Function value is not finite\") #za każdym razem patrzymy czy wartość funkcji dla nowego kroku jest skończona\n",
    "        }\n",
    "        \n",
    "        if (f.x3 > f.x2) { #idziemy tak daleko w kierunku spadku, aż wartość funkcji dla najdalszego krok przewyższy \n",
    "                            #swoją wartością wartość funkcji dla drugiego kroku.\n",
    "            result<-list(\"optimal interval\"=range(x1, x3),\"points band\"=points_band)\n",
    "            return(result)\n",
    "        }\n",
    "        \n",
    "        search <- 2 * search #co pętlę podwajamy krok\n",
    "        x1 <- x2 #co pętlę przesuwamy się z krokami dalej, w stronę spadku\n",
    "        x2 <- x3\n",
    "        f.x2 <- f.x3\n",
    "    }\n",
    "}"
   ]
  },
  {
   "cell_type": "code",
   "execution_count": 7,
   "metadata": {},
   "outputs": [],
   "source": [
    "draw_iteration_band<-function(n,precision){\n",
    "    x<-seq(min(result_band[[2]][3*n-2],result_band[[2]][3*n-1],result_band[[2]][3*n]),\n",
    "           max(result_band[[2]][3*n-2],result_band[[2]][3*n-1],result_band[[2]][3*n]),precision)\n",
    "    plot(x,f(x),lwd=0.01) \n",
    "    points(result_band[[2]][3*n-2],f(result_band[[2]][3*n-2]),col=\"red\",lwd=7)\n",
    "    text(result_band[[2]][3*n-2],f(result_band[[2]][3*n-2])*1.007,\"x1\")\n",
    "    points(result_band[[2]][3*n-1],f(result_band[[2]][3*n-1]),col=\"red\",lwd=7)\n",
    "    text(result_band[[2]][3*n-1],f(result_band[[2]][3*n-1])*1.007,\"x2\")\n",
    "    points(result_band[[2]][3*n],f(result_band[[2]][3*n]),col=\"red\",lwd=7)\n",
    "    text(result_band[[2]][3*n],f(result_band[[2]][3*n])*1.005,\"x3\")\n",
    "}"
   ]
  },
  {
   "cell_type": "code",
   "execution_count": 8,
   "metadata": {
    "scrolled": false
   },
   "outputs": [
    {
     "data": {
      "text/html": [
       "<dl>\n",
       "\t<dt>$`optimal interval`</dt>\n",
       "\t\t<dd><style>\n",
       ".list-inline {list-style: none; margin:0; padding: 0}\n",
       ".list-inline>li {display: inline-block}\n",
       ".list-inline>li:not(:last-child)::after {content: \"\\00b7\"; padding: 0 .5ex}\n",
       "</style>\n",
       "<ol class=list-inline><li>-10</li><li>-4</li></ol>\n",
       "</dd>\n",
       "\t<dt>$`points band`</dt>\n",
       "\t\t<dd><style>\n",
       ".list-inline {list-style: none; margin:0; padding: 0}\n",
       ".list-inline>li {display: inline-block}\n",
       ".list-inline>li:not(:last-child)::after {content: \"\\00b7\"; padding: 0 .5ex}\n",
       "</style>\n",
       "<ol class=list-inline><li>-2</li><li>-1.5</li><li>-2.5</li><li>-2</li><li>-2.5</li><li>-3</li><li>-2.5</li><li>-3</li><li>-4</li><li>-3</li><li>-4</li><li>-6</li><li>-4</li><li>-6</li><li>-10</li></ol>\n",
       "</dd>\n",
       "</dl>\n"
      ],
      "text/latex": [
       "\\begin{description}\n",
       "\\item[\\$`optimal interval`] \\begin{enumerate*}\n",
       "\\item -10\n",
       "\\item -4\n",
       "\\end{enumerate*}\n",
       "\n",
       "\\item[\\$`points band`] \\begin{enumerate*}\n",
       "\\item -2\n",
       "\\item -1.5\n",
       "\\item -2.5\n",
       "\\item -2\n",
       "\\item -2.5\n",
       "\\item -3\n",
       "\\item -2.5\n",
       "\\item -3\n",
       "\\item -4\n",
       "\\item -3\n",
       "\\item -4\n",
       "\\item -6\n",
       "\\item -4\n",
       "\\item -6\n",
       "\\item -10\n",
       "\\end{enumerate*}\n",
       "\n",
       "\\end{description}\n"
      ],
      "text/markdown": [
       "$`optimal interval`\n",
       ":   1. -10\n",
       "2. -4\n",
       "\n",
       "\n",
       "\n",
       "$`points band`\n",
       ":   1. -2\n",
       "2. -1.5\n",
       "3. -2.5\n",
       "4. -2\n",
       "5. -2.5\n",
       "6. -3\n",
       "7. -2.5\n",
       "8. -3\n",
       "9. -4\n",
       "10. -3\n",
       "11. -4\n",
       "12. -6\n",
       "13. -4\n",
       "14. -6\n",
       "15. -10\n",
       "\n",
       "\n",
       "\n",
       "\n",
       "\n"
      ],
      "text/plain": [
       "$`optimal interval`\n",
       "[1] -10  -4\n",
       "\n",
       "$`points band`\n",
       " [1]  -2.0  -1.5  -2.5  -2.0  -2.5  -3.0  -2.5  -3.0  -4.0  -3.0  -4.0  -6.0\n",
       "[13]  -4.0  -6.0 -10.0\n"
      ]
     },
     "metadata": {},
     "output_type": "display_data"
    }
   ],
   "source": [
    "result_band=band.search(f,-2,0.5)\n",
    "result_band"
   ]
  },
  {
   "cell_type": "code",
   "execution_count": 9,
   "metadata": {},
   "outputs": [],
   "source": [
    "ternary <- function(f, lower, upper, tol) {\n",
    "    f.lower <- f(lower)\n",
    "    f.upper <- f(upper)\n",
    "    \n",
    "    #kod do wykresu===================================================================\n",
    "    brackets<-c()\n",
    "    x_pairs<-c()\n",
    "    brackets<-c(brackets,c(lower,upper))\n",
    "    cat(\"Rozpoczęcie optymalizacji. Wartość dolna: \",lower,\"Wartość górna: \",upper,\"\\n\\n\")\n",
    "    iteracja<-1\n",
    "    #========================================================================================\n",
    "    \n",
    "    while (abs(upper - lower) > 2 * tol) { #aż do momentu gdy różnica nie będzie mniejsza niż 2xtolerancja\n",
    "        cat(\"Rozpoczęcie pętli numer\",iteracja,\"Wartość dolna: \",lower,\"Wartość górna: \",upper,\"\\n\")\n",
    "        x1 <- (2 * lower + upper) / 3 # zmienna x1 ląduje w 1/3 aktualnego przedziału\n",
    "        f.x1 <- f(x1)\n",
    "        x2 <- (lower + 2 * upper) / 3 # zmienna x2 ląduje w 2/3 aktualnego przedziału\n",
    "        f.x2 <- f(x2)\n",
    "        \n",
    "        cat(\"Analizowane punkty w 1/3 i 2/3 przedziału: \",x1,\" oraz \",x2,\"\\n\")\n",
    "        cat(\"Wartość funkcji dla tych punktów to odpowiednio: \",f.x1,\" oraz \",f.x2,\"\\n\")\n",
    "        x_pairs<-c(x_pairs,c(x1,x2))\n",
    "\n",
    "        if (f.x1 < f.x2) { #jeżeli wartość funkcji w lewej części jest niższa niż w prawej, ograniczamy przedział ze strony wyższej wartości\n",
    "            upper <- x2\n",
    "            f.upper <- f.x2\n",
    "            cat(\"Wartość funkcji z lewej strony niższa niż z prawej. Aktualizacja wartości prawej strony przedziału na \",upper, \"\\n\\n\")\n",
    "            brackets<-c(brackets,c(lower,upper))\n",
    "        } else {            #jeżeli wartość funkcji w prawej części jest niższa niż w lewej,  ograniczamy przedział ze strony wyższej wartości\n",
    "            lower <- x1\n",
    "            f.lower <- f.x1\n",
    "            cat(\"Wartość funkcji z prawej strony niższa niż z lewej. Aktualizacja wartości lewej strony przedziału na \",lower,\"\\n\\n\")\n",
    "            brackets<-c(brackets,c(lower,upper))\n",
    "        }\n",
    "    iteracja<-iteracja+1\n",
    "    }\n",
    "    \n",
    "    optim_point<-(upper + lower) / 2\n",
    "    cat(\"Znaleziony punkt optymalny to: \",optim_point)\n",
    "    result<-list(\"optim_point\"=optim_point,\"brackets\"=brackets,\"x_pairs\"=x_pairs)\n",
    "    return(result)\n",
    "}"
   ]
  },
  {
   "cell_type": "code",
   "execution_count": 10,
   "metadata": {},
   "outputs": [
    {
     "name": "stdout",
     "output_type": "stream",
     "text": [
      "Rozpoczęcie optymalizacji. Wartość dolna:  -10 Wartość górna:  -4 \n",
      "\n",
      "Rozpoczęcie pętli numer 1 Wartość dolna:  -10 Wartość górna:  -4 \n",
      "Analizowane punkty w 1/3 i 2/3 przedziału:  -8  oraz  -6 \n",
      "Wartość funkcji dla tych punktów to odpowiednio:  -14  oraz  -22 \n",
      "Wartość funkcji z prawej strony niższa niż z lewej. Aktualizacja wartości lewej strony przedziału na  -8 \n",
      "\n",
      "Rozpoczęcie pętli numer 2 Wartość dolna:  -8 Wartość górna:  -4 \n",
      "Analizowane punkty w 1/3 i 2/3 przedziału:  -6.666667  oraz  -5.333333 \n",
      "Wartość funkcji dla tych punktów to odpowiednio:  -20.22222  oraz  -22.88889 \n",
      "Wartość funkcji z prawej strony niższa niż z lewej. Aktualizacja wartości lewej strony przedziału na  -6.666667 \n",
      "\n",
      "Rozpoczęcie pętli numer 3 Wartość dolna:  -6.666667 Wartość górna:  -4 \n",
      "Analizowane punkty w 1/3 i 2/3 przedziału:  -5.777778  oraz  -4.888889 \n",
      "Wartość funkcji dla tych punktów to odpowiednio:  -22.39506  oraz  -22.98765 \n",
      "Wartość funkcji z prawej strony niższa niż z lewej. Aktualizacja wartości lewej strony przedziału na  -5.777778 \n",
      "\n",
      "Rozpoczęcie pętli numer 4 Wartość dolna:  -5.777778 Wartość górna:  -4 \n",
      "Analizowane punkty w 1/3 i 2/3 przedziału:  -5.185185  oraz  -4.592593 \n",
      "Wartość funkcji dla tych punktów to odpowiednio:  -22.96571  oraz  -22.83402 \n",
      "Wartość funkcji z lewej strony niższa niż z prawej. Aktualizacja wartości prawej strony przedziału na  -4.592593 \n",
      "\n",
      "Rozpoczęcie pętli numer 5 Wartość dolna:  -5.777778 Wartość górna:  -4.592593 \n",
      "Analizowane punkty w 1/3 i 2/3 przedziału:  -5.382716  oraz  -4.987654 \n",
      "Wartość funkcji dla tych punktów to odpowiednio:  -22.85353  oraz  -22.99985 \n",
      "Wartość funkcji z prawej strony niższa niż z lewej. Aktualizacja wartości lewej strony przedziału na  -5.382716 \n",
      "\n",
      "Rozpoczęcie pętli numer 6 Wartość dolna:  -5.382716 Wartość górna:  -4.592593 \n",
      "Analizowane punkty w 1/3 i 2/3 przedziału:  -5.119342  oraz  -4.855967 \n",
      "Wartość funkcji dla tych punktów to odpowiednio:  -22.98576  oraz  -22.97925 \n",
      "Wartość funkcji z lewej strony niższa niż z prawej. Aktualizacja wartości prawej strony przedziału na  -4.855967 \n",
      "\n",
      "Rozpoczęcie pętli numer 7 Wartość dolna:  -5.382716 Wartość górna:  -4.855967 \n",
      "Analizowane punkty w 1/3 i 2/3 przedziału:  -5.207133  oraz  -5.03155 \n",
      "Wartość funkcji dla tych punktów to odpowiednio:  -22.9571  oraz  -22.999 \n",
      "Wartość funkcji z prawej strony niższa niż z lewej. Aktualizacja wartości lewej strony przedziału na  -5.207133 \n",
      "\n",
      "Rozpoczęcie pętli numer 8 Wartość dolna:  -5.207133 Wartość górna:  -4.855967 \n",
      "Analizowane punkty w 1/3 i 2/3 przedziału:  -5.090078  oraz  -4.973022 \n",
      "Wartość funkcji dla tych punktów to odpowiednio:  -22.99189  oraz  -22.99927 \n",
      "Wartość funkcji z prawej strony niższa niż z lewej. Aktualizacja wartości lewej strony przedziału na  -5.090078 \n",
      "\n",
      "Rozpoczęcie pętli numer 9 Wartość dolna:  -5.090078 Wartość górna:  -4.855967 \n",
      "Analizowane punkty w 1/3 i 2/3 przedziału:  -5.012041  oraz  -4.934004 \n",
      "Wartość funkcji dla tych punktów to odpowiednio:  -22.99986  oraz  -22.99564 \n",
      "Wartość funkcji z lewej strony niższa niż z prawej. Aktualizacja wartości prawej strony przedziału na  -4.934004 \n",
      "\n",
      "Rozpoczęcie pętli numer 10 Wartość dolna:  -5.090078 Wartość górna:  -4.934004 \n",
      "Analizowane punkty w 1/3 i 2/3 przedziału:  -5.038053  oraz  -4.986029 \n",
      "Wartość funkcji dla tych punktów to odpowiednio:  -22.99855  oraz  -22.9998 \n",
      "Wartość funkcji z prawej strony niższa niż z lewej. Aktualizacja wartości lewej strony przedziału na  -5.038053 \n",
      "\n",
      "Rozpoczęcie pętli numer 11 Wartość dolna:  -5.038053 Wartość górna:  -4.934004 \n",
      "Analizowane punkty w 1/3 i 2/3 przedziału:  -5.00337  oraz  -4.968687 \n",
      "Wartość funkcji dla tych punktów to odpowiednio:  -22.99999  oraz  -22.99902 \n",
      "Wartość funkcji z lewej strony niższa niż z prawej. Aktualizacja wartości prawej strony przedziału na  -4.968687 \n",
      "\n",
      "Rozpoczęcie pętli numer 12 Wartość dolna:  -5.038053 Wartość górna:  -4.968687 \n",
      "Analizowane punkty w 1/3 i 2/3 przedziału:  -5.014931  oraz  -4.991809 \n",
      "Wartość funkcji dla tych punktów to odpowiednio:  -22.99978  oraz  -22.99993 \n",
      "Wartość funkcji z prawej strony niższa niż z lewej. Aktualizacja wartości lewej strony przedziału na  -5.014931 \n",
      "\n",
      "Rozpoczęcie pętli numer 13 Wartość dolna:  -5.014931 Wartość górna:  -4.968687 \n",
      "Analizowane punkty w 1/3 i 2/3 przedziału:  -4.999516  oraz  -4.984102 \n",
      "Wartość funkcji dla tych punktów to odpowiednio:  -23  oraz  -22.99975 \n",
      "Wartość funkcji z lewej strony niższa niż z prawej. Aktualizacja wartości prawej strony przedziału na  -4.984102 \n",
      "\n",
      "Rozpoczęcie pętli numer 14 Wartość dolna:  -5.014931 Wartość górna:  -4.984102 \n",
      "Analizowane punkty w 1/3 i 2/3 przedziału:  -5.004655  oraz  -4.994378 \n",
      "Wartość funkcji dla tych punktów to odpowiednio:  -22.99998  oraz  -22.99997 \n",
      "Wartość funkcji z lewej strony niższa niż z prawej. Aktualizacja wartości prawej strony przedziału na  -4.994378 \n",
      "\n",
      "Rozpoczęcie pętli numer 15 Wartość dolna:  -5.014931 Wartość górna:  -4.994378 \n",
      "Analizowane punkty w 1/3 i 2/3 przedziału:  -5.00808  oraz  -5.001229 \n",
      "Wartość funkcji dla tych punktów to odpowiednio:  -22.99993  oraz  -23 \n",
      "Wartość funkcji z prawej strony niższa niż z lewej. Aktualizacja wartości lewej strony przedziału na  -5.00808 \n",
      "\n",
      "Rozpoczęcie pętli numer 16 Wartość dolna:  -5.00808 Wartość górna:  -4.994378 \n",
      "Analizowane punkty w 1/3 i 2/3 przedziału:  -5.003513  oraz  -4.998945 \n",
      "Wartość funkcji dla tych punktów to odpowiednio:  -22.99999  oraz  -23 \n",
      "Wartość funkcji z prawej strony niższa niż z lewej. Aktualizacja wartości lewej strony przedziału na  -5.003513 \n",
      "\n",
      "Rozpoczęcie pętli numer 17 Wartość dolna:  -5.003513 Wartość górna:  -4.994378 \n",
      "Analizowane punkty w 1/3 i 2/3 przedziału:  -5.000468  oraz  -4.997423 \n",
      "Wartość funkcji dla tych punktów to odpowiednio:  -23  oraz  -22.99999 \n",
      "Wartość funkcji z lewej strony niższa niż z prawej. Aktualizacja wartości prawej strony przedziału na  -4.997423 \n",
      "\n",
      "Rozpoczęcie pętli numer 18 Wartość dolna:  -5.003513 Wartość górna:  -4.997423 \n",
      "Analizowane punkty w 1/3 i 2/3 przedziału:  -5.001483  oraz  -4.999453 \n",
      "Wartość funkcji dla tych punktów to odpowiednio:  -23  oraz  -23 \n",
      "Wartość funkcji z prawej strony niższa niż z lewej. Aktualizacja wartości lewej strony przedziału na  -5.001483 \n",
      "\n",
      "Rozpoczęcie pętli numer 19 Wartość dolna:  -5.001483 Wartość górna:  -4.997423 \n",
      "Analizowane punkty w 1/3 i 2/3 przedziału:  -5.00013  oraz  -4.998776 \n",
      "Wartość funkcji dla tych punktów to odpowiednio:  -23  oraz  -23 \n",
      "Wartość funkcji z lewej strony niższa niż z prawej. Aktualizacja wartości prawej strony przedziału na  -4.998776 \n",
      "\n",
      "Rozpoczęcie pętli numer 20 Wartość dolna:  -5.001483 Wartość górna:  -4.998776 \n",
      "Analizowane punkty w 1/3 i 2/3 przedziału:  -5.000581  oraz  -4.999679 \n",
      "Wartość funkcji dla tych punktów to odpowiednio:  -23  oraz  -23 \n",
      "Wartość funkcji z prawej strony niższa niż z lewej. Aktualizacja wartości lewej strony przedziału na  -5.000581 \n",
      "\n",
      "Znaleziony punkt optymalny to:  -4.999679"
     ]
    }
   ],
   "source": [
    "result=ternary(f,-10,-4,1e-3)"
   ]
  },
  {
   "cell_type": "markdown",
   "metadata": {},
   "source": [
    "#### Praca domowa nr 4\n",
    "1. Opisz kluczowe Twoim zdaniem różnice pomiędzy metodami Gradient Descent a Steepest\n",
    "Descent. \n",
    "2. Czym jest tzw. learning rate/alpha w ww. metodach, i jakie mogą być konsekwencje zbyt niskiej\n",
    "lub zbyt wysokiej wartości tego parametru?\n",
    "3. Czym wytłumaczysz różnicę w zbieżności metod Gradient Descent i Steepest Descent?"
   ]
  },
  {
   "cell_type": "markdown",
   "metadata": {},
   "source": [
    "1. Gradient Descent omówiony na zajęciach za kierunek obiera wektor najszybszego spadku wartości funkcji, tzw. antygradient. Długością kroku w tej metodzie jest długość tego wektora pomnożona przez parametr alpha, czyli tzw. learning rate. W naszej implementacji Steepest Descent obiera analogiczny kierunek optymalizacji i początkową długość kroku (również opierając się na antygradiencie pomnożonym przez learning rate), jednak ta metoda <u>dodatkowo przeprowadza optymalizację wartości funkcji na odcinku</u> (łączącym początkowy punkt x0 z punktem x1 powstałym po odjęciu antygradientu pomnożonego przez learning rate). Ten optymalizacyjny podproblem może być rozwiązany w różny sposób, np. optymalizując funkcję jednej zmiennej korzystając z metody złotego podziału. Finalną długością kroku jest długość minimalizująca wartość funkcji na wspomnianym odcinku.<br>\n",
    "Rozumieć należy, że <u>metoda Steepest Descent w ramach ww. podproblemu dokonuje optymalizacji parametru alpha</u> decydującego o długości kroku."
   ]
  },
  {
   "cell_type": "markdown",
   "metadata": {},
   "source": [
    "2. Learning rate jest hiperparametrem, arbitralnie obranym skalarem, przez który w omawianych przez nas metodach gradientowych mnoży się wektor gradientu (W metodzie Steepest Descent również dokonujemy doboru learning rate, jednak pamiętać należy, że właściwość ta wynika z konieczności implementacji tego rozwiązania). Źle dobrana wartość learning rate może spowodować problemy ze zbieżnością. Z jednej strony, niska wartość learning rate może być powodem długiego działania metody, lub przedwczesnego jej zakończenia, ponieważ długości kroków przy małych zmianach wartości funkcji będą niewielkie (niewielka długość wektora gradientu pomnożona przez niski learning rate), a ilość iteracji wysoka. Z drugiej strony, w przypadku metody Gradient Descent wysoka wartość tego parametru może powodować problemy ze zbieżnością, wielokrotne \"oscylowanie\" wokół wartości minimum. "
   ]
  },
  {
   "attachments": {
    "p3.png": {
     "image/png": "[encoded data removed]"
    }
   },
   "cell_type": "markdown",
   "metadata": {},
   "source": [
    "![p3.png](attachment:p3.png)"
   ]
  },
  {
   "cell_type": "markdown",
   "metadata": {},
   "source": [
    "Jak widać, metoda Steepest Descent cechuje się lepszą zbieżnością, ponieważ w każdej iteracji optymalizowana jest długość kroku w kierunku antygradientu, minimalizująca wartość funkcji w tym kierunku. Patrząc na wykres przez pryzmat implementacji metod na zajęciach, różnice w zbieżności pomiędzy metodami mogły również wyniknąć np. z doboru wartości learning rate dla poszczególnych metod, lub gdy właściwości analizowanej funkcji spowodowały, że optymalizacja długości kroku przyniosła dodatkową poprawę wartości funkcji."
   ]
  },
  {
   "cell_type": "markdown",
   "metadata": {},
   "source": [
    "4. Czym wytłumaczysz różnice w czasie wykonania?"
   ]
  },
  {
   "attachments": {
    "p1.png": {
     "image/png": "[encoded data removed]"
    }
   },
   "cell_type": "markdown",
   "metadata": {},
   "source": [
    "![p1.png](attachment:p1.png)"
   ]
  },
  {
   "cell_type": "markdown",
   "metadata": {},
   "source": [
    "Steepest Descent w każdej iteracji musi dodatkowo rozwiązać podproblem optymalizacji wartości funkcji. Przekłada się to na dłuższy czas działania metody."
   ]
  },
  {
   "cell_type": "markdown",
   "metadata": {},
   "source": [
    "#### Praca domowa nr 5\n",
    "1. Opisz własnymi słowami metodę funkcji kary.\n",
    "2. (Dotyczy optymalizacji w metodzie funkcji kary na ćwiczeniach nr 5) Napisz jaką metodę\n",
    "optymalizacji funkcji jednej zmiennej wykorzystaliśmy na zajęciach do znalezienia optymalnej\n",
    "długości kroku dla metody najszybszego spadku.\n",
    "3. Dlaczego kara zasadnicza za złamanie ograniczenia nierównościowego $g(x)\\leq0$ jest postaci\n",
    "$max(0,g(x))^2$, a kara za złamanie ograniczenia równościowego $h(x)^2$? Dlaczego\n",
    "wartość kary zasadniczej nie przyjmuje wartości odpowiednio  $|max (0, g(x))|$ oraz $|h(x)|$ ?\n"
   ]
  },
  {
   "cell_type": "markdown",
   "metadata": {},
   "source": [
    "1. Metoda funkcji kary polega na takim przekształceniu problemu optymalizacji funkcji z ograniczeniami, by rezultatem był ciąg problemów optymalizacji bez ograniczeń. Przekształcenie to polega na dodaniu dodatkowego komponentu stanowiącego funkcję kary, wpływającego na wartość funkcji w przedziałach w których ograniczenia nie są spełnione. W każdej kolejnej iteracji dotychczasowa wartość funkcji kary skalowana jest o ustalony mnożnik kary. "
   ]
  },
  {
   "cell_type": "markdown",
   "metadata": {},
   "source": [
    "2. Wykorzystana została metoda złotego podziału"
   ]
  },
  {
   "cell_type": "markdown",
   "metadata": {},
   "source": [
    "3. Funkcja kary powinna przyjmować wartość dodatnią w przypadku ograniczeń nierównościowych w postaci $g(x)\\leq0$ jedynie gdy ograniczenie zostaje złamane, czyli gdy wartość funkcji jest dodatnia. Gdy ograniczenie jest spełnione, chcemy by wartość funkcji kary wynosiła 0. Za złamanie ograniczenia równościowego chcemy nakładać karę, nieważne czy funkcja przyjmie wartości z jednej czy z drugiej strony ograniczenia równościowego. Wartość kary zasadniczej nie jest postaci $|max (0, g(x))|$ oraz $|h(x)|$, ponieważ taka postać kary nie jest różniczkowalna."
   ]
  },
  {
   "cell_type": "code",
   "execution_count": null,
   "metadata": {},
   "outputs": [],
   "source": []
  }
 ],
 "metadata": {
  "kernelspec": {
   "display_name": "R",
   "language": "R",
   "name": "ir"
  },
  "language_info": {
   "codemirror_mode": "r",
   "file_extension": ".r",
   "mimetype": "text/x-r-source",
   "name": "R",
   "pygments_lexer": "r",
   "version": "3.6.2"
  }
 },
 "nbformat": 4,
 "nbformat_minor": 4
}
