{
 "cells": [
  {
   "cell_type": "markdown",
   "metadata": {},
   "source": [
    "\n",
    "\n",
    "# Biblioteki, stałe i funkcje"
   ]
  },
  {
   "cell_type": "code",
   "execution_count": 350,
   "metadata": {},
   "outputs": [
    {
     "name": "stderr",
     "output_type": "stream",
     "text": [
      "Warning message:\n",
      "\"package 'Deriv' is in use and will not be installed\"\n"
     ]
    }
   ],
   "source": [
    "install.packages(\"Deriv\")\n",
    "library(Deriv)\n",
    "\n",
    "f<-function(x){(x-2)^2-8}\n",
    "df<-Deriv(f,\"x\")\n",
    "d2f<-Deriv(df,\"x\")\n",
    "\n",
    "f_1<-function(x){-exp(-x^2)}\n",
    "df_1<-Deriv(f_1,\"x\")\n",
    "d2f_1<-Deriv(df_1,\"x\")\n",
    "\n",
    "lower<- -12\n",
    "upper<-12\n",
    "tol<-1e-3\n",
    "\n",
    "golden_ratio <- (1+sqrt(5))/2"
   ]
  },
  {
   "cell_type": "markdown",
   "metadata": {},
   "source": [
    "# Procedura wyszukiwania przedziału zawierającego minimum dla funkcji unimodalnej (bracketing)"
   ]
  },
  {
   "cell_type": "code",
   "execution_count": 351,
   "metadata": {},
   "outputs": [],
   "source": [
    "band.search <- function(f, x0, delta) {\n",
    "    points_band<-c()\n",
    "    \n",
    "    f.x0 <- f(x0)\n",
    "    f.pd <- f(x0 + delta)\n",
    "    f.md <- f(x0 - delta)\n",
    "    points_band<-c(points_band,c(x0,x0 + delta,x0 - delta))\n",
    "    if (!all(sapply(c(f.x0, f.pd, f.md), is.finite))) { #aby funkcja kontynuowała, wszystkie wartości muszą być skończone\n",
    "        stop(\"Function value is not finite\")\n",
    "        }\n",
    "    \n",
    "    \n",
    "    if (f.x0 <= min(f.pd, f.md)) { #Jeżeli w punkcie x0 wartość funkcji jest nie większa niż pozostałych dwóch punktach, \n",
    "                                # to oznacza,  że w przedziale od\n",
    "                                #x0 - delta do x0 + delta musi znajdować się poszukiwane minimum\n",
    "        return(range(x0 + delta, x0 - delta)) \n",
    "    } else if (f.x0 > max(f.pd, f.md)) { # Jeżeli wartość funkcji w punkcie x0 jest większa niż w pozostałych dwóch punktach \n",
    "                                        #oznacza to, że badana funkcja nie jest unimodalna w minimum \n",
    "                                        #(ponieważ musi posiadać maksimum lokalne) i funkcja przerywa działanie.\n",
    "        stop(\"Function is not unimodal in minimum\")\n",
    "    } else if (f.pd > f.md) { #Ostatnim przypadkiem jest sytuacja, wktórej wartość funkcji w punkcie x0 leży \n",
    "                                #pomiędzy pozostałymi wartościami. \n",
    "        search <- -delta #kierunek spadku funkcji\n",
    "        f.x2 <- f.md\n",
    "\n",
    "    } else { \n",
    "        search <- delta #kierunek spadku funkcji\n",
    "        f.x2 <- f.pd\n",
    "        \n",
    "    } \n",
    "    \n",
    "    \n",
    "    x1 <- x0 #punkt startowy\n",
    "    x2 <- x0 + search #punkt startowy + krok w kierunku spadku\n",
    "    \n",
    "    repeat { #powtarzamy aż do skutku\n",
    "        \n",
    "        x3 <- x0 + 2 * search # x3 to punkt startowy + 2 kroki w kierunku spadku\n",
    "        points_band<-c(points_band,c(x1,x2,x3))\n",
    "        \n",
    "        if (!is.finite(x3)) {\n",
    "            stop(\"Proper interval not found\") #za każdym razem patrzymy czy wartość x nowego jest skończona w rozumieniu przez R\n",
    "        }\n",
    "        \n",
    "        f.x3 <- f(x3)\n",
    "        \n",
    "        if (!is.finite(f.x3)) {\n",
    "            stop(\"Function value is not finite\") #za każdym razem patrzymy czy wartość funkcji dla nowego kroku jest skończona\n",
    "        }\n",
    "        \n",
    "        if (f.x3 > f.x2) { #idziemy tak daleko w kierunku spadku, aż wartość funkcji dla najdalszego krok przewyższy \n",
    "                            #swoją wartością wartość funkcji dla drugiego kroku.\n",
    "            result<-list(\"optimal interval\"=range(x1, x3),\"points band\"=points_band)\n",
    "            return(result)\n",
    "        }\n",
    "        \n",
    "        search <- 2 * search #co pętlę podwajamy krok\n",
    "        x1 <- x2 #co pętlę przesuwamy się z krokami dalej, w stronę spadku\n",
    "        x2 <- x3\n",
    "        f.x2 <- f.x3\n",
    "    }\n",
    "}"
   ]
  },
  {
   "cell_type": "code",
   "execution_count": 352,
   "metadata": {},
   "outputs": [],
   "source": [
    "draw_iteration_band<-function(n,precision){\n",
    "    x<-seq(min(result_band[[2]][3*n-2],result_band[[2]][3*n-1],result_band[[2]][3*n]),\n",
    "           max(result_band[[2]][3*n-2],result_band[[2]][3*n-1],result_band[[2]][3*n]),precision)\n",
    "    plot(x,f(x),lwd=0.01) \n",
    "    points(result_band[[2]][3*n-2],f(result_band[[2]][3*n-2]),col=\"red\",lwd=7)\n",
    "    text(result_band[[2]][3*n-2],f(result_band[[2]][3*n-2])*1.007,\"x1\")\n",
    "    points(result_band[[2]][3*n-1],f(result_band[[2]][3*n-1]),col=\"red\",lwd=7)\n",
    "    text(result_band[[2]][3*n-1],f(result_band[[2]][3*n-1])*1.007,\"x2\")\n",
    "    points(result_band[[2]][3*n],f(result_band[[2]][3*n]),col=\"red\",lwd=7)\n",
    "    text(result_band[[2]][3*n],f(result_band[[2]][3*n])*1.005,\"x3\")\n",
    "}"
   ]
  },
  {
   "cell_type": "markdown",
   "metadata": {},
   "source": [
    "### Przykład bracketingu"
   ]
  },
  {
   "cell_type": "code",
   "execution_count": 353,
   "metadata": {
    "scrolled": true
   },
   "outputs": [
    {
     "data": {
      "text/html": [
       "<dl>\n",
       "\t<dt>$`optimal interval`</dt>\n",
       "\t\t<dd><style>\n",
       ".list-inline {list-style: none; margin:0; padding: 0}\n",
       ".list-inline>li {display: inline-block}\n",
       ".list-inline>li:not(:last-child)::after {content: \"\\00b7\"; padding: 0 .5ex}\n",
       "</style>\n",
       "<ol class=list-inline><li>-12</li><li>12</li></ol>\n",
       "</dd>\n",
       "\t<dt>$`points band`</dt>\n",
       "\t\t<dd><style>\n",
       ".list-inline {list-style: none; margin:0; padding: 0}\n",
       ".list-inline>li {display: inline-block}\n",
       ".list-inline>li:not(:last-child)::after {content: \"\\00b7\"; padding: 0 .5ex}\n",
       "</style>\n",
       "<ol class=list-inline><li>-20</li><li>-19</li><li>-21</li><li>-20</li><li>-19</li><li>-18</li><li>-19</li><li>-18</li><li>-16</li><li>-18</li><li>-16</li><li>-12</li><li>-16</li><li>-12</li><li>-4</li><li>-12</li><li>-4</li><li>12</li></ol>\n",
       "</dd>\n",
       "</dl>\n"
      ],
      "text/latex": [
       "\\begin{description}\n",
       "\\item[\\$`optimal interval`] \\begin{enumerate*}\n",
       "\\item -12\n",
       "\\item 12\n",
       "\\end{enumerate*}\n",
       "\n",
       "\\item[\\$`points band`] \\begin{enumerate*}\n",
       "\\item -20\n",
       "\\item -19\n",
       "\\item -21\n",
       "\\item -20\n",
       "\\item -19\n",
       "\\item -18\n",
       "\\item -19\n",
       "\\item -18\n",
       "\\item -16\n",
       "\\item -18\n",
       "\\item -16\n",
       "\\item -12\n",
       "\\item -16\n",
       "\\item -12\n",
       "\\item -4\n",
       "\\item -12\n",
       "\\item -4\n",
       "\\item 12\n",
       "\\end{enumerate*}\n",
       "\n",
       "\\end{description}\n"
      ],
      "text/markdown": [
       "$`optimal interval`\n",
       ":   1. -12\n",
       "2. 12\n",
       "\n",
       "\n",
       "\n",
       "$`points band`\n",
       ":   1. -20\n",
       "2. -19\n",
       "3. -21\n",
       "4. -20\n",
       "5. -19\n",
       "6. -18\n",
       "7. -19\n",
       "8. -18\n",
       "9. -16\n",
       "10. -18\n",
       "11. -16\n",
       "12. -12\n",
       "13. -16\n",
       "14. -12\n",
       "15. -4\n",
       "16. -12\n",
       "17. -4\n",
       "18. 12\n",
       "\n",
       "\n",
       "\n",
       "\n",
       "\n"
      ],
      "text/plain": [
       "$`optimal interval`\n",
       "[1] -12  12\n",
       "\n",
       "$`points band`\n",
       " [1] -20 -19 -21 -20 -19 -18 -19 -18 -16 -18 -16 -12 -16 -12  -4 -12  -4  12\n"
      ]
     },
     "metadata": {},
     "output_type": "display_data"
    }
   ],
   "source": [
    "result_band=band.search(f,-20,1)\n",
    "result_band"
   ]
  },
  {
   "cell_type": "code",
   "execution_count": 354,
   "metadata": {
    "scrolled": false
   },
   "outputs": [
    {
     "data": {
      "image/png": "[encoded data removed]",
      "text/plain": [
       "plot without title"
      ]
     },
     "metadata": {
      "image/png": {
       "height": 420,
       "width": 420
      },
      "text/plain": {
       "height": 420,
       "width": 420
      }
     },
     "output_type": "display_data"
    }
   ],
   "source": [
    "draw_iteration_band(1,0.001) #special case"
   ]
  },
  {
   "cell_type": "code",
   "execution_count": 355,
   "metadata": {
    "scrolled": false
   },
   "outputs": [
    {
     "data": {
      "image/png": "[encoded data removed]",
      "text/plain": [
       "plot without title"
      ]
     },
     "metadata": {
      "image/png": {
       "height": 420,
       "width": 420
      },
      "text/plain": {
       "height": 420,
       "width": 420
      }
     },
     "output_type": "display_data"
    }
   ],
   "source": [
    "draw_iteration_band(2,0.001)"
   ]
  },
  {
   "cell_type": "code",
   "execution_count": 356,
   "metadata": {},
   "outputs": [
    {
     "data": {
      "image/png": "[encoded data removed]",
      "text/plain": [
       "plot without title"
      ]
     },
     "metadata": {
      "image/png": {
       "height": 420,
       "width": 420
      },
      "text/plain": {
       "height": 420,
       "width": 420
      }
     },
     "output_type": "display_data"
    }
   ],
   "source": [
    "draw_iteration_band(3,0.001)"
   ]
  },
  {
   "cell_type": "code",
   "execution_count": 357,
   "metadata": {},
   "outputs": [
    {
     "data": {
      "image/png": "[encoded data removed]",
      "text/plain": [
       "plot without title"
      ]
     },
     "metadata": {
      "image/png": {
       "height": 420,
       "width": 420
      },
      "text/plain": {
       "height": 420,
       "width": 420
      }
     },
     "output_type": "display_data"
    }
   ],
   "source": [
    "draw_iteration_band(5,0.001)"
   ]
  },
  {
   "cell_type": "code",
   "execution_count": 358,
   "metadata": {
    "scrolled": false
   },
   "outputs": [
    {
     "data": {
      "image/png": "[encoded data removed]",
      "text/plain": [
       "plot without title"
      ]
     },
     "metadata": {
      "image/png": {
       "height": 420,
       "width": 420
      },
      "text/plain": {
       "height": 420,
       "width": 420
      }
     },
     "output_type": "display_data"
    }
   ],
   "source": [
    "draw_iteration_band(6,0.01)"
   ]
  },
  {
   "cell_type": "markdown",
   "metadata": {},
   "source": [
    "# Przeszukiwanie potrójne - ternary search"
   ]
  },
  {
   "cell_type": "markdown",
   "metadata": {},
   "source": [
    "### Rozwiązanie odpowiednie dla funkcji unimodalnych (z jednym minimum)"
   ]
  },
  {
   "cell_type": "code",
   "execution_count": 359,
   "metadata": {},
   "outputs": [],
   "source": [
    "ternary <- function(f, lower, upper, tol) {\n",
    "    f.lower <- f(lower)\n",
    "    f.upper <- f(upper)\n",
    "    \n",
    "    #kod do wykresu===================================================================\n",
    "    brackets<-c()\n",
    "    x_pairs<-c()\n",
    "    brackets<-c(brackets,c(lower,upper))\n",
    "    cat(\"Rozpoczęcie optymalizacji. Wartość dolna: \",lower,\"Wartość górna: \",upper,\"\\n\\n\")\n",
    "    iteracja<-1\n",
    "    #========================================================================================\n",
    "    \n",
    "    while (abs(upper - lower) > 2 * tol) { #aż do momentu gdy różnica nie będzie mniejsza niż 2xtolerancja\n",
    "        cat(\"Rozpoczęcie pętli numer\",iteracja,\"Wartość dolna: \",lower,\"Wartość górna: \",upper,\"\\n\")\n",
    "        x1 <- (2 * lower + upper) / 3 # zmienna x1 ląduje w 1/3 aktualnego przedziału\n",
    "        f.x1 <- f(x1)\n",
    "        x2 <- (lower + 2 * upper) / 3 # zmienna x2 ląduje w 2/3 aktualnego przedziału\n",
    "        f.x2 <- f(x2)\n",
    "        \n",
    "        cat(\"Analizowane punkty w 1/3 i 2/3 przedziału: \",x1,\" oraz \",x2,\"\\n\")\n",
    "        cat(\"Wartość funkcji dla tych punktów to odpowiednio: \",f.x1,\" oraz \",f.x2,\"\\n\")\n",
    "        x_pairs<-c(x_pairs,c(x1,x2))\n",
    "\n",
    "        if (f.x1 < f.x2) { #jeżeli wartość funkcji w lewej części jest niższa niż w prawej, ograniczamy przedział ze strony wyższej wartości\n",
    "            upper <- x2\n",
    "            f.upper <- f.x2\n",
    "            cat(\"Wartość funkcji z lewej strony niższa niż z prawej. Aktualizacja wartości prawej strony przedziału na \",upper, \"\\n\\n\")\n",
    "            brackets<-c(brackets,c(lower,upper))\n",
    "        } else {            #jeżeli wartość funkcji w prawej części jest niższa niż w lewej,  ograniczamy przedział ze strony wyższej wartości\n",
    "            lower <- x1\n",
    "            f.lower <- f.x1\n",
    "            cat(\"Wartość funkcji z prawej strony niższa niż z lewej. Aktualizacja wartości lewej strony przedziału na \",lower,\"\\n\\n\")\n",
    "            brackets<-c(brackets,c(lower,upper))\n",
    "        }\n",
    "    iteracja<-iteracja+1\n",
    "    }\n",
    "    \n",
    "    optim_point<-(upper + lower) / 2\n",
    "    cat(\"Znaleziony punkt optymalny to: \",optim_point)\n",
    "    result<-list(\"optim_point\"=optim_point,\"brackets\"=brackets,\"x_pairs\"=x_pairs)\n",
    "    return(result)\n",
    "}"
   ]
  },
  {
   "cell_type": "code",
   "execution_count": 360,
   "metadata": {},
   "outputs": [],
   "source": [
    "draw_iteration_ternary<-function(n){\n",
    "    x<-seq(lower,upper,0.01)\n",
    "    plot(x,f(x),lwd=0.01) \n",
    "    abline(v=result[[3]][n*2-1])\n",
    "    abline(v=result[[3]][n*2])\n",
    "    points(result[[2]][n*2-1],f(result[[2]][n*2-1]),col=\"red\",lwd=7)\n",
    "    points(result[[2]][n*2],f(result[[2]][n*2]),col=\"red\",lwd=7)\n",
    "    segments(result[[3]][n*2-1],f(result[[3]][n*2-1]),result[[3]][n*2],f(result[[3]][n*2]))\n",
    "}"
   ]
  },
  {
   "cell_type": "markdown",
   "metadata": {},
   "source": [
    "### Przykład działania algorytmu ternary search"
   ]
  },
  {
   "cell_type": "code",
   "execution_count": 361,
   "metadata": {
    "scrolled": true
   },
   "outputs": [
    {
     "name": "stdout",
     "output_type": "stream",
     "text": [
      "Rozpoczęcie optymalizacji. Wartość dolna:  -12 Wartość górna:  12 \n",
      "\n",
      "Rozpoczęcie pętli numer 1 Wartość dolna:  -12 Wartość górna:  12 \n",
      "Analizowane punkty w 1/3 i 2/3 przedziału:  -4  oraz  4 \n",
      "Wartość funkcji dla tych punktów to odpowiednio:  28  oraz  -4 \n",
      "Wartość funkcji z prawej strony niższa niż z lewej. Aktualizacja wartości lewej strony przedziału na  -4 \n",
      "\n",
      "Rozpoczęcie pętli numer 2 Wartość dolna:  -4 Wartość górna:  12 \n",
      "Analizowane punkty w 1/3 i 2/3 przedziału:  1.333333  oraz  6.666667 \n",
      "Wartość funkcji dla tych punktów to odpowiednio:  -7.555556  oraz  13.77778 \n",
      "Wartość funkcji z lewej strony niższa niż z prawej. Aktualizacja wartości prawej strony przedziału na  6.666667 \n",
      "\n",
      "Rozpoczęcie pętli numer 3 Wartość dolna:  -4 Wartość górna:  6.666667 \n",
      "Analizowane punkty w 1/3 i 2/3 przedziału:  -0.4444444  oraz  3.111111 \n",
      "Wartość funkcji dla tych punktów to odpowiednio:  -2.024691  oraz  -6.765432 \n",
      "Wartość funkcji z prawej strony niższa niż z lewej. Aktualizacja wartości lewej strony przedziału na  -0.4444444 \n",
      "\n",
      "Rozpoczęcie pętli numer 4 Wartość dolna:  -0.4444444 Wartość górna:  6.666667 \n",
      "Analizowane punkty w 1/3 i 2/3 przedziału:  1.925926  oraz  4.296296 \n",
      "Wartość funkcji dla tych punktów to odpowiednio:  -7.994513  oraz  -2.727023 \n",
      "Wartość funkcji z lewej strony niższa niż z prawej. Aktualizacja wartości prawej strony przedziału na  4.296296 \n",
      "\n",
      "Rozpoczęcie pętli numer 5 Wartość dolna:  -0.4444444 Wartość górna:  4.296296 \n",
      "Analizowane punkty w 1/3 i 2/3 przedziału:  1.135802  oraz  2.716049 \n",
      "Wartość funkcji dla tych punktów to odpowiednio:  -7.253163  oraz  -7.487273 \n",
      "Wartość funkcji z prawej strony niższa niż z lewej. Aktualizacja wartości lewej strony przedziału na  1.135802 \n",
      "\n",
      "Rozpoczęcie pętli numer 6 Wartość dolna:  1.135802 Wartość górna:  4.296296 \n",
      "Analizowane punkty w 1/3 i 2/3 przedziału:  2.1893  oraz  3.242798 \n",
      "Wartość funkcji dla tych punktów to odpowiednio:  -7.964165  oraz  -6.455452 \n",
      "Wartość funkcji z lewej strony niższa niż z prawej. Aktualizacja wartości prawej strony przedziału na  3.242798 \n",
      "\n",
      "Rozpoczęcie pętli numer 7 Wartość dolna:  1.135802 Wartość górna:  3.242798 \n",
      "Analizowane punkty w 1/3 i 2/3 przedziału:  1.838134  oraz  2.540466 \n",
      "Wartość funkcji dla tych punktów to odpowiednio:  -7.9738  oraz  -7.707896 \n",
      "Wartość funkcji z lewej strony niższa niż z prawej. Aktualizacja wartości prawej strony przedziału na  2.540466 \n",
      "\n",
      "Rozpoczęcie pętli numer 8 Wartość dolna:  1.135802 Wartość górna:  2.540466 \n",
      "Analizowane punkty w 1/3 i 2/3 przedziału:  1.604024  oraz  2.072245 \n",
      "Wartość funkcji dla tych punktów to odpowiednio:  -7.843203  oraz  -7.994781 \n",
      "Wartość funkcji z prawej strony niższa niż z lewej. Aktualizacja wartości lewej strony przedziału na  1.604024 \n",
      "\n",
      "Rozpoczęcie pętli numer 9 Wartość dolna:  1.604024 Wartość górna:  2.540466 \n",
      "Analizowane punkty w 1/3 i 2/3 przedziału:  1.916171  oraz  2.228319 \n",
      "Wartość funkcji dla tych punktów to odpowiednio:  -7.992973  oraz  -7.947871 \n",
      "Wartość funkcji z lewej strony niższa niż z prawej. Aktualizacja wartości prawej strony przedziału na  2.228319 \n",
      "\n",
      "Rozpoczęcie pętli numer 10 Wartość dolna:  1.604024 Wartość górna:  2.228319 \n",
      "Analizowane punkty w 1/3 i 2/3 przedziału:  1.812122  oraz  2.02022 \n",
      "Wartość funkcji dla tych punktów to odpowiednio:  -7.964702  oraz  -7.999591 \n",
      "Wartość funkcji z prawej strony niższa niż z lewej. Aktualizacja wartości lewej strony przedziału na  1.812122 \n",
      "\n",
      "Rozpoczęcie pętli numer 11 Wartość dolna:  1.812122 Wartość górna:  2.228319 \n",
      "Analizowane punkty w 1/3 i 2/3 przedziału:  1.950854  oraz  2.089587 \n",
      "Wartość funkcji dla tych punktów to odpowiednio:  -7.997585  oraz  -7.991974 \n",
      "Wartość funkcji z lewej strony niższa niż z prawej. Aktualizacja wartości prawej strony przedziału na  2.089587 \n",
      "\n",
      "Rozpoczęcie pętli numer 12 Wartość dolna:  1.812122 Wartość górna:  2.089587 \n",
      "Analizowane punkty w 1/3 i 2/3 przedziału:  1.90461  oraz  1.997098 \n",
      "Wartość funkcji dla tych punktów to odpowiednio:  -7.990901  oraz  -7.999992 \n",
      "Wartość funkcji z prawej strony niższa niż z lewej. Aktualizacja wartości lewej strony przedziału na  1.90461 \n",
      "\n",
      "Rozpoczęcie pętli numer 13 Wartość dolna:  1.90461 Wartość górna:  2.089587 \n",
      "Analizowane punkty w 1/3 i 2/3 przedziału:  1.966269  oraz  2.027928 \n",
      "Wartość funkcji dla tych punktów to odpowiednio:  -7.998862  oraz  -7.99922 \n",
      "Wartość funkcji z prawej strony niższa niż z lewej. Aktualizacja wartości lewej strony przedziału na  1.966269 \n",
      "\n",
      "Rozpoczęcie pętli numer 14 Wartość dolna:  1.966269 Wartość górna:  2.089587 \n",
      "Analizowane punkty w 1/3 i 2/3 przedziału:  2.007375  oraz  2.048481 \n",
      "Wartość funkcji dla tych punktów to odpowiednio:  -7.999946  oraz  -7.99765 \n",
      "Wartość funkcji z lewej strony niższa niż z prawej. Aktualizacja wartości prawej strony przedziału na  2.048481 \n",
      "\n",
      "Rozpoczęcie pętli numer 15 Wartość dolna:  1.966269 Wartość górna:  2.048481 \n",
      "Analizowane punkty w 1/3 i 2/3 przedziału:  1.993673  oraz  2.021077 \n",
      "Wartość funkcji dla tych punktów to odpowiednio:  -7.99996  oraz  -7.999556 \n",
      "Wartość funkcji z lewej strony niższa niż z prawej. Aktualizacja wartości prawej strony przedziału na  2.021077 \n",
      "\n",
      "Rozpoczęcie pętli numer 16 Wartość dolna:  1.966269 Wartość górna:  2.021077 \n",
      "Analizowane punkty w 1/3 i 2/3 przedziału:  1.984538  oraz  2.002808 \n",
      "Wartość funkcji dla tych punktów to odpowiednio:  -7.999761  oraz  -7.999992 \n",
      "Wartość funkcji z prawej strony niższa niż z lewej. Aktualizacja wartości lewej strony przedziału na  1.984538 \n",
      "\n",
      "Rozpoczęcie pętli numer 17 Wartość dolna:  1.984538 Wartość górna:  2.021077 \n",
      "Analizowane punkty w 1/3 i 2/3 przedziału:  1.996718  oraz  2.008897 \n",
      "Wartość funkcji dla tych punktów to odpowiednio:  -7.999989  oraz  -7.999921 \n",
      "Wartość funkcji z lewej strony niższa niż z prawej. Aktualizacja wartości prawej strony przedziału na  2.008897 \n",
      "\n",
      "Rozpoczęcie pętli numer 18 Wartość dolna:  1.984538 Wartość górna:  2.008897 \n",
      "Analizowane punkty w 1/3 i 2/3 przedziału:  1.992658  oraz  2.000778 \n",
      "Wartość funkcji dla tych punktów to odpowiednio:  -7.999946  oraz  -7.999999 \n",
      "Wartość funkcji z prawej strony niższa niż z lewej. Aktualizacja wartości lewej strony przedziału na  1.992658 \n",
      "\n",
      "Rozpoczęcie pętli numer 19 Wartość dolna:  1.992658 Wartość górna:  2.008897 \n",
      "Analizowane punkty w 1/3 i 2/3 przedziału:  1.998071  oraz  2.003484 \n",
      "Wartość funkcji dla tych punktów to odpowiednio:  -7.999996  oraz  -7.999988 \n",
      "Wartość funkcji z lewej strony niższa niż z prawej. Aktualizacja wartości prawej strony przedziału na  2.003484 \n",
      "\n",
      "Rozpoczęcie pętli numer 20 Wartość dolna:  1.992658 Wartość górna:  2.003484 \n",
      "Analizowane punkty w 1/3 i 2/3 przedziału:  1.996267  oraz  1.999875 \n",
      "Wartość funkcji dla tych punktów to odpowiednio:  -7.999986  oraz  -8 \n",
      "Wartość funkcji z prawej strony niższa niż z lewej. Aktualizacja wartości lewej strony przedziału na  1.996267 \n",
      "\n",
      "Rozpoczęcie pętli numer 21 Wartość dolna:  1.996267 Wartość górna:  2.003484 \n",
      "Analizowane punkty w 1/3 i 2/3 przedziału:  1.998673  oraz  2.001078 \n",
      "Wartość funkcji dla tych punktów to odpowiednio:  -7.999998  oraz  -7.999999 \n",
      "Wartość funkcji z prawej strony niższa niż z lewej. Aktualizacja wartości lewej strony przedziału na  1.998673 \n",
      "\n",
      "Rozpoczęcie pętli numer 22 Wartość dolna:  1.998673 Wartość górna:  2.003484 \n",
      "Analizowane punkty w 1/3 i 2/3 przedziału:  2.000276  oraz  2.00188 \n",
      "Wartość funkcji dla tych punktów to odpowiednio:  -8  oraz  -7.999996 \n",
      "Wartość funkcji z lewej strony niższa niż z prawej. Aktualizacja wartości prawej strony przedziału na  2.00188 \n",
      "\n",
      "Rozpoczęcie pętli numer 23 Wartość dolna:  1.998673 Wartość górna:  2.00188 \n",
      "Analizowane punkty w 1/3 i 2/3 przedziału:  1.999742  oraz  2.000811 \n",
      "Wartość funkcji dla tych punktów to odpowiednio:  -8  oraz  -7.999999 \n",
      "Wartość funkcji z lewej strony niższa niż z prawej. Aktualizacja wartości prawej strony przedziału na  2.000811 \n",
      "\n",
      "Rozpoczęcie pętli numer 24 Wartość dolna:  1.998673 Wartość górna:  2.000811 \n",
      "Analizowane punkty w 1/3 i 2/3 przedziału:  1.999385  oraz  2.000098 \n",
      "Wartość funkcji dla tych punktów to odpowiednio:  -8  oraz  -8 \n",
      "Wartość funkcji z prawej strony niższa niż z lewej. Aktualizacja wartości lewej strony przedziału na  1.999385 \n",
      "\n",
      "Znaleziony punkt optymalny to:  2.000098"
     ]
    }
   ],
   "source": [
    "result=ternary(f,lower,upper,tol)"
   ]
  },
  {
   "cell_type": "code",
   "execution_count": 362,
   "metadata": {},
   "outputs": [
    {
     "data": {
      "image/png": "[encoded data removed]",
      "text/plain": [
       "plot without title"
      ]
     },
     "metadata": {
      "image/png": {
       "height": 420,
       "width": 420
      },
      "text/plain": {
       "height": 420,
       "width": 420
      }
     },
     "output_type": "display_data"
    }
   ],
   "source": [
    "draw_iteration_ternary(1)"
   ]
  },
  {
   "cell_type": "code",
   "execution_count": 363,
   "metadata": {},
   "outputs": [
    {
     "data": {
      "image/png": "[encoded data removed]",
      "text/plain": [
       "plot without title"
      ]
     },
     "metadata": {
      "image/png": {
       "height": 420,
       "width": 420
      },
      "text/plain": {
       "height": 420,
       "width": 420
      }
     },
     "output_type": "display_data"
    }
   ],
   "source": [
    "draw_iteration_ternary(2)"
   ]
  },
  {
   "cell_type": "code",
   "execution_count": 364,
   "metadata": {
    "scrolled": false
   },
   "outputs": [
    {
     "data": {
      "image/png": "[encoded data removed]",
      "text/plain": [
       "plot without title"
      ]
     },
     "metadata": {
      "image/png": {
       "height": 420,
       "width": 420
      },
      "text/plain": {
       "height": 420,
       "width": 420
      }
     },
     "output_type": "display_data"
    }
   ],
   "source": [
    "draw_iteration_ternary(3)"
   ]
  },
  {
   "cell_type": "markdown",
   "metadata": {},
   "source": [
    "Podsumowanie metody:\n",
    "1. W jednym kroku algorytmu badany przedział jest skracany o 1/3. \n",
    "2. W takim razie po n krokach procedury oryginalna długość przedziału zmniejszona jest $1,5^n$ razy.\n",
    "3. W takiej sytuacji oszacowanie wartości funkcji f jest wywołane jest 2n razy.\n",
    "4. Można więc powiedzieć, że jedno oszacowanie wartości funkcji pozwala średnio na\n",
    "zmniejszenie długości przedziału $\\sqrt(\\frac{3}{2}) \\approx 1.22$ razy."
   ]
  },
  {
   "cell_type": "markdown",
   "metadata": {},
   "source": [
    "# Przeszukiwanie - metoda złotego podziału"
   ]
  },
  {
   "cell_type": "markdown",
   "metadata": {},
   "source": [
    "### Rozwiązanie odpowiednie dla funkcji unimodalnych"
   ]
  },
  {
   "cell_type": "code",
   "execution_count": 365,
   "metadata": {},
   "outputs": [],
   "source": [
    "golden <- function(f, lower, upper, tol) {\n",
    "    \n",
    "    brackets<-c()\n",
    "    x_pairs<-c()\n",
    "    \n",
    "    x1 <- (golden_ratio-1) * lower +(2-golden_ratio) *upper #Punkt w 0,381966 przedziału, patrząc od lower do upper\n",
    "    f.x1 <- f(x1)\n",
    "    \n",
    "    while (abs(upper - lower) > 2 * tol) { \n",
    "        brackets<-c(brackets,c(lower,upper))\n",
    "        x2 <- (2 - golden_ratio) *lower + (golden_ratio-1) * upper #Punkt w 0.618033 przedziału, patrząc od lower do upper\n",
    "        f.x2 <- f(x2) #zauważ że w pętli wartość funkcji liczona jest jeden raz \n",
    "        x_pairs<-c(x_pairs,c(x1,x2))\n",
    "        \n",
    "        if (f.x1 < f.x2){ \n",
    "            upper <- lower\n",
    "            lower <- x2\n",
    "            }\n",
    "        \n",
    "        else { \n",
    "            lower <- x1 \n",
    "            x1 <- x2\n",
    "            f.x1 <- f.x2\n",
    "            }\n",
    "    }\n",
    "    \n",
    "    optim_point<-((upper + lower) / 2)\n",
    "    result<-list(\"optim_point\"=optim_point,\"brackets\"=brackets,\"x_pairs\"=x_pairs)\n",
    "    return(result)\n",
    "}"
   ]
  },
  {
   "cell_type": "code",
   "execution_count": 366,
   "metadata": {},
   "outputs": [],
   "source": [
    "draw_iteration_golden<-function(n){\n",
    "    x<-seq(lower,upper,0.01)\n",
    "    plot(x,f(x),lwd=0.01) \n",
    "    abline(v=result_golden[[3]][n*2-1])\n",
    "    text(result_golden[[3]][n*2-1],max(f(x))*0.8,\"x1\")\n",
    "    abline(v=result_golden[[3]][n*2])\n",
    "    text(result_golden[[3]][n*2],max(f(x))*0.8,\"x2\")\n",
    "    points(result_golden[[2]][n*2-1],f(result_golden[[2]][n*2-1]),col=\"red\",lwd=7)\n",
    "    text(result_golden[[2]][n*2-1],f(result_golden[[2]][n*2-1])+max(f(x))*0.03,\"lower\")\n",
    "    points(result_golden[[2]][n*2],f(result_golden[[2]][n*2]),col=\"red\",lwd=7)\n",
    "    text(result_golden[[2]][n*2],f(result_golden[[2]][n*2])+max(f(x))*0.03,\"upper\")\n",
    "    segments(result_golden[[3]][n*2-1],f(result_golden[[3]][n*2-1]),result_golden[[3]][n*2],f(result_golden[[3]][n*2]))\n",
    "}"
   ]
  },
  {
   "cell_type": "markdown",
   "metadata": {},
   "source": [
    "### Przykład działania metody złotego podziału"
   ]
  },
  {
   "cell_type": "code",
   "execution_count": 367,
   "metadata": {
    "scrolled": true
   },
   "outputs": [
    {
     "data": {
      "text/html": [
       "<dl>\n",
       "\t<dt>$optim_point</dt>\n",
       "\t\t<dd>2.00028371759676</dd>\n",
       "\t<dt>$brackets</dt>\n",
       "\t\t<dd><style>\n",
       ".list-inline {list-style: none; margin:0; padding: 0}\n",
       ".list-inline>li {display: inline-block}\n",
       ".list-inline>li:not(:last-child)::after {content: \"\\00b7\"; padding: 0 .5ex}\n",
       "</style>\n",
       "<ol class=list-inline><li>-12</li><li>12</li><li>-2.83281572999748</li><li>12</li><li>6.33436854000505</li><li>-2.83281572999748</li><li>0.668737080010093</li><li>6.33436854000505</li><li>4.17028989001767</li><li>0.668737080010093</li><li>2.83281572999748</li><li>0.668737080010093</li><li>1.49534156997729</li><li>2.83281572999748</li><li>2.32194605994448</li><li>1.49534156997729</li><li>1.81107638989148</li><li>2.32194605994448</li><li>2.12681120980568</li><li>1.81107638989148</li><li>1.93167635966688</li><li>2.12681120980568</li><li>2.05227632944228</li><li>1.93167635966688</li><li>1.97774144907887</li><li>2.05227632944228</li><li>2.02380653849086</li><li>1.97774144907887</li><li>2.00621124003028</li><li>1.97774144907887</li><li>1.98861594156971</li><li>2.00621124003028</li><li>1.99533674753945</li><li>2.00621124003028</li><li>2.00205755350919</li><li>1.99533674753945</li><li>1.9979038669881</li><li>2.00205755350919</li><li>1.99949043406054</li><li>2.00205755350919</li></ol>\n",
       "</dd>\n",
       "\t<dt>$x_pairs</dt>\n",
       "\t\t<dd><style>\n",
       ".list-inline {list-style: none; margin:0; padding: 0}\n",
       ".list-inline>li {display: inline-block}\n",
       ".list-inline>li:not(:last-child)::after {content: \"\\00b7\"; padding: 0 .5ex}\n",
       "</style>\n",
       "<ol class=list-inline><li>-2.83281572999748</li><li>2.83281572999748</li><li>2.83281572999748</li><li>6.33436854000505</li><li>2.83281572999748</li><li>0.668737080010093</li><li>2.83281572999748</li><li>4.17028989001767</li><li>2.83281572999748</li><li>2.00621124003028</li><li>2.00621124003028</li><li>1.49534156997729</li><li>2.00621124003028</li><li>2.32194605994448</li><li>2.00621124003028</li><li>1.81107638989148</li><li>2.00621124003028</li><li>2.12681120980568</li><li>2.00621124003028</li><li>1.93167635966688</li><li>2.00621124003028</li><li>2.05227632944228</li><li>2.00621124003028</li><li>1.97774144907887</li><li>2.00621124003028</li><li>2.02380653849086</li><li>2.00621124003028</li><li>1.99533674753945</li><li>1.99533674753945</li><li>1.98861594156971</li><li>1.99533674753945</li><li>1.99949043406054</li><li>1.99949043406054</li><li>2.00205755350919</li><li>1.99949043406054</li><li>1.9979038669881</li><li>1.99949043406054</li><li>2.00047098643674</li><li>2.00047098643674</li><li>2.00107700113299</li></ol>\n",
       "</dd>\n",
       "</dl>\n"
      ],
      "text/latex": [
       "\\begin{description}\n",
       "\\item[\\$optim\\_point] 2.00028371759676\n",
       "\\item[\\$brackets] \\begin{enumerate*}\n",
       "\\item -12\n",
       "\\item 12\n",
       "\\item -2.83281572999748\n",
       "\\item 12\n",
       "\\item 6.33436854000505\n",
       "\\item -2.83281572999748\n",
       "\\item 0.668737080010093\n",
       "\\item 6.33436854000505\n",
       "\\item 4.17028989001767\n",
       "\\item 0.668737080010093\n",
       "\\item 2.83281572999748\n",
       "\\item 0.668737080010093\n",
       "\\item 1.49534156997729\n",
       "\\item 2.83281572999748\n",
       "\\item 2.32194605994448\n",
       "\\item 1.49534156997729\n",
       "\\item 1.81107638989148\n",
       "\\item 2.32194605994448\n",
       "\\item 2.12681120980568\n",
       "\\item 1.81107638989148\n",
       "\\item 1.93167635966688\n",
       "\\item 2.12681120980568\n",
       "\\item 2.05227632944228\n",
       "\\item 1.93167635966688\n",
       "\\item 1.97774144907887\n",
       "\\item 2.05227632944228\n",
       "\\item 2.02380653849086\n",
       "\\item 1.97774144907887\n",
       "\\item 2.00621124003028\n",
       "\\item 1.97774144907887\n",
       "\\item 1.98861594156971\n",
       "\\item 2.00621124003028\n",
       "\\item 1.99533674753945\n",
       "\\item 2.00621124003028\n",
       "\\item 2.00205755350919\n",
       "\\item 1.99533674753945\n",
       "\\item 1.9979038669881\n",
       "\\item 2.00205755350919\n",
       "\\item 1.99949043406054\n",
       "\\item 2.00205755350919\n",
       "\\end{enumerate*}\n",
       "\n",
       "\\item[\\$x\\_pairs] \\begin{enumerate*}\n",
       "\\item -2.83281572999748\n",
       "\\item 2.83281572999748\n",
       "\\item 2.83281572999748\n",
       "\\item 6.33436854000505\n",
       "\\item 2.83281572999748\n",
       "\\item 0.668737080010093\n",
       "\\item 2.83281572999748\n",
       "\\item 4.17028989001767\n",
       "\\item 2.83281572999748\n",
       "\\item 2.00621124003028\n",
       "\\item 2.00621124003028\n",
       "\\item 1.49534156997729\n",
       "\\item 2.00621124003028\n",
       "\\item 2.32194605994448\n",
       "\\item 2.00621124003028\n",
       "\\item 1.81107638989148\n",
       "\\item 2.00621124003028\n",
       "\\item 2.12681120980568\n",
       "\\item 2.00621124003028\n",
       "\\item 1.93167635966688\n",
       "\\item 2.00621124003028\n",
       "\\item 2.05227632944228\n",
       "\\item 2.00621124003028\n",
       "\\item 1.97774144907887\n",
       "\\item 2.00621124003028\n",
       "\\item 2.02380653849086\n",
       "\\item 2.00621124003028\n",
       "\\item 1.99533674753945\n",
       "\\item 1.99533674753945\n",
       "\\item 1.98861594156971\n",
       "\\item 1.99533674753945\n",
       "\\item 1.99949043406054\n",
       "\\item 1.99949043406054\n",
       "\\item 2.00205755350919\n",
       "\\item 1.99949043406054\n",
       "\\item 1.9979038669881\n",
       "\\item 1.99949043406054\n",
       "\\item 2.00047098643674\n",
       "\\item 2.00047098643674\n",
       "\\item 2.00107700113299\n",
       "\\end{enumerate*}\n",
       "\n",
       "\\end{description}\n"
      ],
      "text/markdown": [
       "$optim_point\n",
       ":   2.00028371759676\n",
       "$brackets\n",
       ":   1. -12\n",
       "2. 12\n",
       "3. -2.83281572999748\n",
       "4. 12\n",
       "5. 6.33436854000505\n",
       "6. -2.83281572999748\n",
       "7. 0.668737080010093\n",
       "8. 6.33436854000505\n",
       "9. 4.17028989001767\n",
       "10. 0.668737080010093\n",
       "11. 2.83281572999748\n",
       "12. 0.668737080010093\n",
       "13. 1.49534156997729\n",
       "14. 2.83281572999748\n",
       "15. 2.32194605994448\n",
       "16. 1.49534156997729\n",
       "17. 1.81107638989148\n",
       "18. 2.32194605994448\n",
       "19. 2.12681120980568\n",
       "20. 1.81107638989148\n",
       "21. 1.93167635966688\n",
       "22. 2.12681120980568\n",
       "23. 2.05227632944228\n",
       "24. 1.93167635966688\n",
       "25. 1.97774144907887\n",
       "26. 2.05227632944228\n",
       "27. 2.02380653849086\n",
       "28. 1.97774144907887\n",
       "29. 2.00621124003028\n",
       "30. 1.97774144907887\n",
       "31. 1.98861594156971\n",
       "32. 2.00621124003028\n",
       "33. 1.99533674753945\n",
       "34. 2.00621124003028\n",
       "35. 2.00205755350919\n",
       "36. 1.99533674753945\n",
       "37. 1.9979038669881\n",
       "38. 2.00205755350919\n",
       "39. 1.99949043406054\n",
       "40. 2.00205755350919\n",
       "\n",
       "\n",
       "\n",
       "$x_pairs\n",
       ":   1. -2.83281572999748\n",
       "2. 2.83281572999748\n",
       "3. 2.83281572999748\n",
       "4. 6.33436854000505\n",
       "5. 2.83281572999748\n",
       "6. 0.668737080010093\n",
       "7. 2.83281572999748\n",
       "8. 4.17028989001767\n",
       "9. 2.83281572999748\n",
       "10. 2.00621124003028\n",
       "11. 2.00621124003028\n",
       "12. 1.49534156997729\n",
       "13. 2.00621124003028\n",
       "14. 2.32194605994448\n",
       "15. 2.00621124003028\n",
       "16. 1.81107638989148\n",
       "17. 2.00621124003028\n",
       "18. 2.12681120980568\n",
       "19. 2.00621124003028\n",
       "20. 1.93167635966688\n",
       "21. 2.00621124003028\n",
       "22. 2.05227632944228\n",
       "23. 2.00621124003028\n",
       "24. 1.97774144907887\n",
       "25. 2.00621124003028\n",
       "26. 2.02380653849086\n",
       "27. 2.00621124003028\n",
       "28. 1.99533674753945\n",
       "29. 1.99533674753945\n",
       "30. 1.98861594156971\n",
       "31. 1.99533674753945\n",
       "32. 1.99949043406054\n",
       "33. 1.99949043406054\n",
       "34. 2.00205755350919\n",
       "35. 1.99949043406054\n",
       "36. 1.9979038669881\n",
       "37. 1.99949043406054\n",
       "38. 2.00047098643674\n",
       "39. 2.00047098643674\n",
       "40. 2.00107700113299\n",
       "\n",
       "\n",
       "\n",
       "\n",
       "\n"
      ],
      "text/plain": [
       "$optim_point\n",
       "[1] 2.000284\n",
       "\n",
       "$brackets\n",
       " [1] -12.0000000  12.0000000  -2.8328157  12.0000000   6.3343685  -2.8328157\n",
       " [7]   0.6687371   6.3343685   4.1702899   0.6687371   2.8328157   0.6687371\n",
       "[13]   1.4953416   2.8328157   2.3219461   1.4953416   1.8110764   2.3219461\n",
       "[19]   2.1268112   1.8110764   1.9316764   2.1268112   2.0522763   1.9316764\n",
       "[25]   1.9777414   2.0522763   2.0238065   1.9777414   2.0062112   1.9777414\n",
       "[31]   1.9886159   2.0062112   1.9953367   2.0062112   2.0020576   1.9953367\n",
       "[37]   1.9979039   2.0020576   1.9994904   2.0020576\n",
       "\n",
       "$x_pairs\n",
       " [1] -2.8328157  2.8328157  2.8328157  6.3343685  2.8328157  0.6687371\n",
       " [7]  2.8328157  4.1702899  2.8328157  2.0062112  2.0062112  1.4953416\n",
       "[13]  2.0062112  2.3219461  2.0062112  1.8110764  2.0062112  2.1268112\n",
       "[19]  2.0062112  1.9316764  2.0062112  2.0522763  2.0062112  1.9777414\n",
       "[25]  2.0062112  2.0238065  2.0062112  1.9953367  1.9953367  1.9886159\n",
       "[31]  1.9953367  1.9994904  1.9994904  2.0020576  1.9994904  1.9979039\n",
       "[37]  1.9994904  2.0004710  2.0004710  2.0010770\n"
      ]
     },
     "metadata": {},
     "output_type": "display_data"
    }
   ],
   "source": [
    "result_golden=golden(f,lower,upper,tol)\n",
    "result_golden"
   ]
  },
  {
   "cell_type": "code",
   "execution_count": 368,
   "metadata": {},
   "outputs": [
    {
     "data": {
      "image/png": "[encoded data removed]",
      "text/plain": [
       "plot without title"
      ]
     },
     "metadata": {
      "image/png": {
       "height": 420,
       "width": 420
      },
      "text/plain": {
       "height": 420,
       "width": 420
      }
     },
     "output_type": "display_data"
    }
   ],
   "source": [
    "draw_iteration_golden(1)"
   ]
  },
  {
   "cell_type": "markdown",
   "metadata": {},
   "source": [
    "Wartość funkcji w x1 jest wyższa niż w x2. Przedział lower skracany jest do wartości x1, a x1 przyjmuje wartość x2. W trakcie kolejnej pętli tworzymy nowy punkt x2 w 0.618033 przedziału od lower do upper. Efekt poniżej:"
   ]
  },
  {
   "cell_type": "code",
   "execution_count": 369,
   "metadata": {},
   "outputs": [
    {
     "data": {
      "image/png": "[encoded data removed]",
      "text/plain": [
       "plot without title"
      ]
     },
     "metadata": {
      "image/png": {
       "height": 420,
       "width": 420
      },
      "text/plain": {
       "height": 420,
       "width": 420
      }
     },
     "output_type": "display_data"
    }
   ],
   "source": [
    "draw_iteration_golden(2)"
   ]
  },
  {
   "cell_type": "markdown",
   "metadata": {},
   "source": [
    "Wartość funkcji w x1 jest niższa niż w x2. Punkt upper przyjmuje wartość punktu lower. Punkt lower przyjmuje wartość punktu x2. W trakcie kolejnej pętli tworzymy nowy punkt x2 w 0.618033 przedziału, patrząc od lower do upper. Efekt poniżej:"
   ]
  },
  {
   "cell_type": "code",
   "execution_count": 370,
   "metadata": {
    "scrolled": false
   },
   "outputs": [
    {
     "data": {
      "image/png": "[encoded data removed]",
      "text/plain": [
       "plot without title"
      ]
     },
     "metadata": {
      "image/png": {
       "height": 420,
       "width": 420
      },
      "text/plain": {
       "height": 420,
       "width": 420
      }
     },
     "output_type": "display_data"
    }
   ],
   "source": [
    "draw_iteration_golden(3)"
   ]
  },
  {
   "cell_type": "markdown",
   "metadata": {},
   "source": [
    "Podsumowanie metody:\n",
    "1. Po n krokach procedury oryginalna długość przedziału zmniejszona jest $1,62^n$ razy.\n",
    "2. Oszacowanie wartości funkcji $f$ jest wywołane jest $n$ razy.\n",
    "3. Porównajmy szybkość przeszukiwania potrójnego z przeszukiwaniem według złotego podziału. Zauważmy, że $1,62 > 1,5$. W takim razie przeszukiwanie potrójne jest ponad dwa razy wolniejsze, ponieważ wymaga dwóch oszacowań wartości funkcji w każdym kroku. Na przykład w celu osiągnięcia skrócenia inicjalnego przedziału $1.5^{19} \\approx 2217$ razy przeszukiwanie potrójne wymaga $19*2 = 38$ oszacowań wartości funkcji. Z kolei przeszukiwanie według złotego podziału dla osiągnięcia skrócenia przedziału $16*2207$ razy wymaga 16 oszacowań."
   ]
  },
  {
   "cell_type": "markdown",
   "metadata": {},
   "source": [
    "# Metoda bisekcji"
   ]
  },
  {
   "cell_type": "markdown",
   "metadata": {},
   "source": [
    "Powyżej przedstawione metody wykorzystywały jedynie wartości funkcji do poszukiwania jej minimum lokalnego. Przejdźmy teraz do omówienia tzw. algorytmów gradientowych, które wykorzystują informację o pochodnych minimalizowanej funkcji f. W oczywisty sposób ograniczeniem tych metod jest konieczność spełnienia warunku różniczkowalności przez badaną funkcję."
   ]
  },
  {
   "cell_type": "code",
   "execution_count": 371,
   "metadata": {},
   "outputs": [],
   "source": [
    "bisection <- function(df, lower, upper, tol) {\n",
    "    \n",
    "    m_points_bisection<-c()\n",
    "    brackets_bisection<-c(lower,upper)\n",
    "    \n",
    "    while (upper - lower > 2 * tol) {\n",
    "        \n",
    "        m <- (lower + upper) / 2 #rozważamy punkt m pośrodku analizowanego przedziału\n",
    "        df.m <- df(m)\n",
    "        \n",
    "        while (df.m == 0) {\n",
    "            m <- (lower + upper) / 2 + runif(1, -tol, tol) \n",
    "            df.m <- f(m)\n",
    "        }\n",
    "        \n",
    "        m_points_bisection<-c(m_points_bisection,c(m))\n",
    "        \n",
    "        if (df.m < 0) { #jeżeli pochodna w m jest mniejsza od zera, to dolna granica przedziału przyjmuje jego wartość\n",
    "            lower <- m\n",
    "            brackets_bisection<-c(brackets_bisection,c(lower,upper))\n",
    "        } else {\n",
    "            upper <- m  #jeżeli pochodna w m jest większa niż zero, to górna granica przedziału przyjmuje jego wartość\n",
    "            brackets_bisection<-c(brackets_bisection,c(lower,upper))\n",
    "        }\n",
    "        \n",
    "    }\n",
    "    optim_point<-(upper + lower) / 2\n",
    "    result<-list(\"optimal point\"=optim_point,\"m points\"=m_points_bisection,\"brackets\"=brackets_bisection)\n",
    "    return(result)\n",
    "}"
   ]
  },
  {
   "cell_type": "code",
   "execution_count": 372,
   "metadata": {
    "scrolled": true
   },
   "outputs": [],
   "source": [
    "draw_iteration_bisection<-function(n){\n",
    "    x<-seq(lower,upper,0.01)\n",
    "    plot(x,df(x),col=\"red\") \n",
    "    lines(x,f(x),col=\"black\") \n",
    "    points(result[[2]][n],df(result[[2]][n]),col=\"blue\",lwd=7)\n",
    "    text(result[[2]][n],df(result[[2]][n])+max(f(x))*0.02,\"m\")\n",
    "    points(result[[3]][n*2],df(result[[3]][n*2]),col=\"black\",lwd=7)\n",
    "    points(result[[3]][n*2-1],df(result[[3]][n*2-1]),col=\"black\",lwd=7)\n",
    "    abline(h=0,col=\"green\")\n",
    "    legend(\"topleft\", legend=c(\"f_1\", \"df_1\"),\n",
    "       col=c(\"black\", \"red\"), lty=1:1, cex=1.5)\n",
    "    grid()\n",
    "}"
   ]
  },
  {
   "cell_type": "markdown",
   "metadata": {},
   "source": [
    "### Przykład działania metody bisekcji"
   ]
  },
  {
   "cell_type": "code",
   "execution_count": 373,
   "metadata": {},
   "outputs": [
    {
     "data": {
      "text/html": [
       "<dl>\n",
       "\t<dt>$`optimal point`</dt>\n",
       "\t\t<dd>2.000244140625</dd>\n",
       "\t<dt>$`m points`</dt>\n",
       "\t\t<dd><style>\n",
       ".list-inline {list-style: none; margin:0; padding: 0}\n",
       ".list-inline>li {display: inline-block}\n",
       ".list-inline>li:not(:last-child)::after {content: \"\\00b7\"; padding: 0 .5ex}\n",
       "</style>\n",
       "<ol class=list-inline><li>0</li><li>6</li><li>3</li><li>1.5</li><li>2.25</li><li>1.875</li><li>2.0625</li><li>1.96875</li><li>2.015625</li><li>1.9921875</li><li>2.00390625</li><li>1.998046875</li><li>2.0009765625</li><li>1.99951171875</li></ol>\n",
       "</dd>\n",
       "\t<dt>$brackets</dt>\n",
       "\t\t<dd><style>\n",
       ".list-inline {list-style: none; margin:0; padding: 0}\n",
       ".list-inline>li {display: inline-block}\n",
       ".list-inline>li:not(:last-child)::after {content: \"\\00b7\"; padding: 0 .5ex}\n",
       "</style>\n",
       "<ol class=list-inline><li>-12</li><li>12</li><li>0</li><li>12</li><li>0</li><li>6</li><li>0</li><li>3</li><li>1.5</li><li>3</li><li>1.5</li><li>2.25</li><li>1.875</li><li>2.25</li><li>1.875</li><li>2.0625</li><li>1.96875</li><li>2.0625</li><li>1.96875</li><li>2.015625</li><li>1.9921875</li><li>2.015625</li><li>1.9921875</li><li>2.00390625</li><li>1.998046875</li><li>2.00390625</li><li>1.998046875</li><li>2.0009765625</li><li>1.99951171875</li><li>2.0009765625</li></ol>\n",
       "</dd>\n",
       "</dl>\n"
      ],
      "text/latex": [
       "\\begin{description}\n",
       "\\item[\\$`optimal point`] 2.000244140625\n",
       "\\item[\\$`m points`] \\begin{enumerate*}\n",
       "\\item 0\n",
       "\\item 6\n",
       "\\item 3\n",
       "\\item 1.5\n",
       "\\item 2.25\n",
       "\\item 1.875\n",
       "\\item 2.0625\n",
       "\\item 1.96875\n",
       "\\item 2.015625\n",
       "\\item 1.9921875\n",
       "\\item 2.00390625\n",
       "\\item 1.998046875\n",
       "\\item 2.0009765625\n",
       "\\item 1.99951171875\n",
       "\\end{enumerate*}\n",
       "\n",
       "\\item[\\$brackets] \\begin{enumerate*}\n",
       "\\item -12\n",
       "\\item 12\n",
       "\\item 0\n",
       "\\item 12\n",
       "\\item 0\n",
       "\\item 6\n",
       "\\item 0\n",
       "\\item 3\n",
       "\\item 1.5\n",
       "\\item 3\n",
       "\\item 1.5\n",
       "\\item 2.25\n",
       "\\item 1.875\n",
       "\\item 2.25\n",
       "\\item 1.875\n",
       "\\item 2.0625\n",
       "\\item 1.96875\n",
       "\\item 2.0625\n",
       "\\item 1.96875\n",
       "\\item 2.015625\n",
       "\\item 1.9921875\n",
       "\\item 2.015625\n",
       "\\item 1.9921875\n",
       "\\item 2.00390625\n",
       "\\item 1.998046875\n",
       "\\item 2.00390625\n",
       "\\item 1.998046875\n",
       "\\item 2.0009765625\n",
       "\\item 1.99951171875\n",
       "\\item 2.0009765625\n",
       "\\end{enumerate*}\n",
       "\n",
       "\\end{description}\n"
      ],
      "text/markdown": [
       "$`optimal point`\n",
       ":   2.000244140625\n",
       "$`m points`\n",
       ":   1. 0\n",
       "2. 6\n",
       "3. 3\n",
       "4. 1.5\n",
       "5. 2.25\n",
       "6. 1.875\n",
       "7. 2.0625\n",
       "8. 1.96875\n",
       "9. 2.015625\n",
       "10. 1.9921875\n",
       "11. 2.00390625\n",
       "12. 1.998046875\n",
       "13. 2.0009765625\n",
       "14. 1.99951171875\n",
       "\n",
       "\n",
       "\n",
       "$brackets\n",
       ":   1. -12\n",
       "2. 12\n",
       "3. 0\n",
       "4. 12\n",
       "5. 0\n",
       "6. 6\n",
       "7. 0\n",
       "8. 3\n",
       "9. 1.5\n",
       "10. 3\n",
       "11. 1.5\n",
       "12. 2.25\n",
       "13. 1.875\n",
       "14. 2.25\n",
       "15. 1.875\n",
       "16. 2.0625\n",
       "17. 1.96875\n",
       "18. 2.0625\n",
       "19. 1.96875\n",
       "20. 2.015625\n",
       "21. 1.9921875\n",
       "22. 2.015625\n",
       "23. 1.9921875\n",
       "24. 2.00390625\n",
       "25. 1.998046875\n",
       "26. 2.00390625\n",
       "27. 1.998046875\n",
       "28. 2.0009765625\n",
       "29. 1.99951171875\n",
       "30. 2.0009765625\n",
       "\n",
       "\n",
       "\n",
       "\n",
       "\n"
      ],
      "text/plain": [
       "$`optimal point`\n",
       "[1] 2.000244\n",
       "\n",
       "$`m points`\n",
       " [1] 0.000000 6.000000 3.000000 1.500000 2.250000 1.875000 2.062500 1.968750\n",
       " [9] 2.015625 1.992188 2.003906 1.998047 2.000977 1.999512\n",
       "\n",
       "$brackets\n",
       " [1] -12.000000  12.000000   0.000000  12.000000   0.000000   6.000000\n",
       " [7]   0.000000   3.000000   1.500000   3.000000   1.500000   2.250000\n",
       "[13]   1.875000   2.250000   1.875000   2.062500   1.968750   2.062500\n",
       "[19]   1.968750   2.015625   1.992188   2.015625   1.992188   2.003906\n",
       "[25]   1.998047   2.003906   1.998047   2.000977   1.999512   2.000977\n"
      ]
     },
     "metadata": {},
     "output_type": "display_data"
    }
   ],
   "source": [
    "result<-bisection(df,lower,upper,tol)\n",
    "result"
   ]
  },
  {
   "cell_type": "code",
   "execution_count": 374,
   "metadata": {
    "scrolled": false
   },
   "outputs": [
    {
     "data": {
      "image/png": "[encoded data removed]",
      "text/plain": [
       "plot without title"
      ]
     },
     "metadata": {
      "image/png": {
       "height": 420,
       "width": 420
      },
      "text/plain": {
       "height": 420,
       "width": 420
      }
     },
     "output_type": "display_data"
    }
   ],
   "source": [
    "draw_iteration_bisection(1)"
   ]
  },
  {
   "cell_type": "markdown",
   "metadata": {},
   "source": [
    "Pochodna w punkcie m jest niższa od zera. Dolna granica analizowanego przedziału przyjmuje wartość punktu m."
   ]
  },
  {
   "cell_type": "code",
   "execution_count": 375,
   "metadata": {
    "scrolled": false
   },
   "outputs": [
    {
     "data": {
      "image/png": "[encoded data removed]",
      "text/plain": [
       "plot without title"
      ]
     },
     "metadata": {
      "image/png": {
       "height": 420,
       "width": 420
      },
      "text/plain": {
       "height": 420,
       "width": 420
      }
     },
     "output_type": "display_data"
    }
   ],
   "source": [
    "draw_iteration_bisection(2)"
   ]
  },
  {
   "cell_type": "markdown",
   "metadata": {},
   "source": [
    "Pochodna w punkcie m jest większa od zera. Górna granica analizowanego przedziału przyjmuje wartość punktu m."
   ]
  },
  {
   "cell_type": "code",
   "execution_count": 376,
   "metadata": {},
   "outputs": [
    {
     "data": {
      "image/png": "[encoded data removed]",
      "text/plain": [
       "plot without title"
      ]
     },
     "metadata": {
      "image/png": {
       "height": 420,
       "width": 420
      },
      "text/plain": {
       "height": 420,
       "width": 420
      }
     },
     "output_type": "display_data"
    }
   ],
   "source": [
    "draw_iteration_bisection(3)"
   ]
  },
  {
   "cell_type": "code",
   "execution_count": 377,
   "metadata": {
    "scrolled": false
   },
   "outputs": [
    {
     "data": {
      "image/png": "[encoded data removed]",
      "text/plain": [
       "plot without title"
      ]
     },
     "metadata": {
      "image/png": {
       "height": 420,
       "width": 420
      },
      "text/plain": {
       "height": 420,
       "width": 420
      }
     },
     "output_type": "display_data"
    }
   ],
   "source": [
    "draw_iteration_bisection(14)"
   ]
  },
  {
   "cell_type": "markdown",
   "metadata": {},
   "source": [
    "Warto zwrócić uwagę na fakt, że algorytm ten w każdym kroku dwukrotnie zmniejsza długość przeszukiwanego przedziału. <br>\n",
    "W związku z tym wydaje się on być szybszy niż algorytm złotego podziału. <br>\n",
    "Jednak jego praktyczna szybkość zależy od kosztu wyznaczenia wartości pochodnej $f'(x)$ w punkcie w stosunku do kosztu wyliczenia wartości $f(x)$. <br>\n",
    "Jeśli jest on porównywalny, to metoda bisekcji będzie bardziej efektywna. Z kolei jeżli np. pochodna jest wyznaczana numerycznie, co wymaga przynajmniej dwóch oszacowań funkcji f to metoda złotego podziału jest bardziej efektywna."
   ]
  },
  {
   "cell_type": "markdown",
   "metadata": {},
   "source": [
    "# Algorytm Newtona"
   ]
  },
  {
   "cell_type": "markdown",
   "metadata": {},
   "source": [
    "Algorytm Newtona opiera się na analizie funkcji przybliżonej za pomocą wzoru Taylora. Ta aproksymacja pozwala nam na łatwe obliczeniowo znalezienie kroku h takiego aby pochodna tego przybliżenia w docelowym punkcie była równa zero. \n",
    "\n",
    "Możemy przedstawić nasz problem analogicznie jak w przypadku metody bisekcji - znalezienia miejsca w którym zeruje się pochodna. Naszą funkcję możemy przybliżyć do postaci:\n",
    "\n",
    "$f(x+h)\\approx f(x)+f'(x)*h+\\frac{1}{2}f''(x)h^2$\n",
    "\n",
    "Zauważmy że jest to funkcja kwadratowa, możemy zauważyć jej podobieństwo do postaci $f(h)=c+bh+ah^2$.\n",
    "Funkcja kwadratowa takiej postaci posiada wierzchołek paraboli w punkcie $\\frac{-b}{2a}$. Oznacza to że pochodna naszego przybliżenia będzie zerowa jeżeli zrobimy krok o długości $h=-\\frac{f'(x)}{f''(x)}$. Z tego wiemy, że kolejny punkt, $x(k+1)$, powinien przyjąć wartość $x-\\frac{f'(x)}{f''(x)}$\n",
    "\n",
    "Minimum przybliżenia naszej funkcji staje się naszym kolejnym punktem do analizy. \n",
    "\n",
    "Warto zwrócić uwagę na fakt, że metoda ta podobnie jak algorytm bisekcji nie korzysta z informacji o wartości badanej funkcji. Punkt, którego poszukujemy to miejsce zerowe pochodnej funkcji f. W szczególności oznacza to, że zwrócona aproksymacja może przybliżać maksimum (jeśli druga pochodna jest ujemna) lub punkt przegięcia (druga pochodna równa 0) badanej funkcji. Z kolei zaletą algorytmu Newtona jest jego szybkość zbieżności."
   ]
  },
  {
   "cell_type": "code",
   "execution_count": 378,
   "metadata": {},
   "outputs": [],
   "source": [
    "newton <- function(df, d2f, x, tol, max_iters=Inf) {\n",
    "counter<-0\n",
    "xes<-c(x)\n",
    "\n",
    "    repeat {\n",
    "            if(counter<max_iters){\n",
    "                new.x <- x - df(x) / d2f(x)\n",
    "                xes<-c(xes,c(new.x))\n",
    "                if (abs(new.x - x) < tol) {\n",
    "                    result_newton<-list(\"optimal_point\"=new.x,\"values\"=xes)\n",
    "                    return(result_newton)\n",
    "                }\n",
    "\n",
    "                x <- new.x\n",
    "                counter=counter+1\n",
    "            }else{\n",
    "                result_newton<-list(\"optimal_point\"=new.x,\"values\"=xes)\n",
    "                return(result_newton)\n",
    "                }\n",
    "            }\n",
    "}"
   ]
  },
  {
   "cell_type": "code",
   "execution_count": 379,
   "metadata": {},
   "outputs": [],
   "source": [
    "taylor_approx<-function(func,eval_point,step){\n",
    "    df1<-Deriv(func,\"x\")\n",
    "    df2<-Deriv(df1,\"x\")\n",
    "    return(func(eval_point)+df1(eval_point)*(step-eval_point)+0.5*df2(eval_point)*(step-eval_point)^2)\n",
    "    }\n",
    "\n",
    "draw_iteration_newton<-function(n,rightlim,leftlim){\n",
    "    x<-seq(rightlim,leftlim,0.001)\n",
    "    plot(x,f_1(x),col=\"green\",ylim=c(-1.5, 1.5)) \n",
    "    lines(x,taylor_approx(f_1,result_newton[[2]][n],x),col=\"blue\") ################\n",
    "    #lines(x,df_1(x),col=\"red\") ################\n",
    "    segments(result_newton[[2]][n],0,result_newton[[2]][n],f_1(result_newton[[2]][n]),col=\"black\")\n",
    "    points(result_newton[[2]][n],0,col=\"red\",lwd=7)\n",
    "    points(result_newton[[2]][n+1],0,col=\"black\",lwd=7)\n",
    "    text(result_newton[[2]][n],0.1,\"x\")\n",
    "    text(result_newton[[2]][n+1],0.2,\"new.x\")\n",
    "    segments(result_newton[[2]][n+1],0,result_newton[[2]][n+1],taylor_approx(f_1,result_newton[[2]][n],result_newton[[2]][n+1]),col=\"black\")\n",
    "    #legend(\"topleft\", legend=c(\"f_1\", \"df_1\",\"taylor approx\"),\n",
    "    #   col=c(\"green\", \"red\",\"blue\"), lty=1:1:1, cex=1.5)\n",
    "    legend(\"topleft\", legend=c(\"f_1\", \"taylor approx\"),\n",
    "       col=c(\"green\", \"blue\"), lty=1:1, cex=1.5)\n",
    "    grid()\n",
    "}"
   ]
  },
  {
   "cell_type": "markdown",
   "metadata": {},
   "source": [
    "### Przypadek 1, zbieżny"
   ]
  },
  {
   "cell_type": "code",
   "execution_count": 380,
   "metadata": {
    "scrolled": true
   },
   "outputs": [
    {
     "data": {
      "text/html": [
       "<dl>\n",
       "\t<dt>$optimal_point</dt>\n",
       "\t\t<dd>4.15094425032601e-16</dd>\n",
       "\t<dt>$values</dt>\n",
       "\t\t<dd><style>\n",
       ".list-inline {list-style: none; margin:0; padding: 0}\n",
       ".list-inline>li {display: inline-block}\n",
       ".list-inline>li:not(:last-child)::after {content: \"\\00b7\"; padding: 0 .5ex}\n",
       "</style>\n",
       "<ol class=list-inline><li>0.4</li><li>-0.188235294117647</li><li>0.0143566915817422</li><li>-5.92068796975535e-06</li><li>4.15094425032601e-16</li></ol>\n",
       "</dd>\n",
       "</dl>\n"
      ],
      "text/latex": [
       "\\begin{description}\n",
       "\\item[\\$optimal\\_point] 4.15094425032601e-16\n",
       "\\item[\\$values] \\begin{enumerate*}\n",
       "\\item 0.4\n",
       "\\item -0.188235294117647\n",
       "\\item 0.0143566915817422\n",
       "\\item -5.92068796975535e-06\n",
       "\\item 4.15094425032601e-16\n",
       "\\end{enumerate*}\n",
       "\n",
       "\\end{description}\n"
      ],
      "text/markdown": [
       "$optimal_point\n",
       ":   4.15094425032601e-16\n",
       "$values\n",
       ":   1. 0.4\n",
       "2. -0.188235294117647\n",
       "3. 0.0143566915817422\n",
       "4. -5.92068796975535e-06\n",
       "5. 4.15094425032601e-16\n",
       "\n",
       "\n",
       "\n",
       "\n",
       "\n"
      ],
      "text/plain": [
       "$optimal_point\n",
       "[1] 4.150944e-16\n",
       "\n",
       "$values\n",
       "[1]  4.000000e-01 -1.882353e-01  1.435669e-02 -5.920688e-06  4.150944e-16\n"
      ]
     },
     "metadata": {},
     "output_type": "display_data"
    }
   ],
   "source": [
    "result_newton<-newton(df_1, d2f_1, 0.4, tol)\n",
    "result_newton"
   ]
  },
  {
   "cell_type": "code",
   "execution_count": 381,
   "metadata": {
    "scrolled": false
   },
   "outputs": [
    {
     "data": {
      "image/png": "[encoded data removed]",
      "text/plain": [
       "plot without title"
      ]
     },
     "metadata": {
      "image/png": {
       "height": 420,
       "width": 420
      },
      "text/plain": {
       "height": 420,
       "width": 420
      }
     },
     "output_type": "display_data"
    }
   ],
   "source": [
    "draw_iteration_newton(1,-1.5,1.5)"
   ]
  },
  {
   "cell_type": "code",
   "execution_count": 382,
   "metadata": {},
   "outputs": [
    {
     "data": {
      "image/png": "[encoded data removed]",
      "text/plain": [
       "plot without title"
      ]
     },
     "metadata": {
      "image/png": {
       "height": 420,
       "width": 420
      },
      "text/plain": {
       "height": 420,
       "width": 420
      }
     },
     "output_type": "display_data"
    }
   ],
   "source": [
    "draw_iteration_newton(2,-1.5,1.5)"
   ]
  },
  {
   "cell_type": "code",
   "execution_count": 383,
   "metadata": {
    "scrolled": false
   },
   "outputs": [
    {
     "data": {
      "image/png": "[encoded data removed]",
      "text/plain": [
       "plot without title"
      ]
     },
     "metadata": {
      "image/png": {
       "height": 420,
       "width": 420
      },
      "text/plain": {
       "height": 420,
       "width": 420
      }
     },
     "output_type": "display_data"
    }
   ],
   "source": [
    "draw_iteration_newton(3,-1.5,1.5)"
   ]
  },
  {
   "cell_type": "markdown",
   "metadata": {},
   "source": [
    "### Przypadek 2, nieskończona pętla"
   ]
  },
  {
   "cell_type": "code",
   "execution_count": 384,
   "metadata": {},
   "outputs": [
    {
     "data": {
      "text/html": [
       "<dl>\n",
       "\t<dt>$optimal_point</dt>\n",
       "\t\t<dd>-0.5</dd>\n",
       "\t<dt>$values</dt>\n",
       "\t\t<dd><style>\n",
       ".list-inline {list-style: none; margin:0; padding: 0}\n",
       ".list-inline>li {display: inline-block}\n",
       ".list-inline>li:not(:last-child)::after {content: \"\\00b7\"; padding: 0 .5ex}\n",
       "</style>\n",
       "<ol class=list-inline><li>0.5</li><li>-0.5</li><li>0.5</li><li>-0.5</li><li>0.5</li><li>-0.5</li></ol>\n",
       "</dd>\n",
       "</dl>\n"
      ],
      "text/latex": [
       "\\begin{description}\n",
       "\\item[\\$optimal\\_point] -0.5\n",
       "\\item[\\$values] \\begin{enumerate*}\n",
       "\\item 0.5\n",
       "\\item -0.5\n",
       "\\item 0.5\n",
       "\\item -0.5\n",
       "\\item 0.5\n",
       "\\item -0.5\n",
       "\\end{enumerate*}\n",
       "\n",
       "\\end{description}\n"
      ],
      "text/markdown": [
       "$optimal_point\n",
       ":   -0.5\n",
       "$values\n",
       ":   1. 0.5\n",
       "2. -0.5\n",
       "3. 0.5\n",
       "4. -0.5\n",
       "5. 0.5\n",
       "6. -0.5\n",
       "\n",
       "\n",
       "\n",
       "\n",
       "\n"
      ],
      "text/plain": [
       "$optimal_point\n",
       "[1] -0.5\n",
       "\n",
       "$values\n",
       "[1]  0.5 -0.5  0.5 -0.5  0.5 -0.5\n"
      ]
     },
     "metadata": {},
     "output_type": "display_data"
    }
   ],
   "source": [
    "result_newton<-newton(df_1, d2f_1, 0.5, tol,max_iters=5)\n",
    "result_newton"
   ]
  },
  {
   "cell_type": "code",
   "execution_count": 385,
   "metadata": {
    "scrolled": false
   },
   "outputs": [
    {
     "data": {
      "image/png": "[encoded data removed]",
      "text/plain": [
       "plot without title"
      ]
     },
     "metadata": {
      "image/png": {
       "height": 420,
       "width": 420
      },
      "text/plain": {
       "height": 420,
       "width": 420
      }
     },
     "output_type": "display_data"
    }
   ],
   "source": [
    "draw_iteration_newton(1,-1.5,1.5)"
   ]
  },
  {
   "cell_type": "code",
   "execution_count": 386,
   "metadata": {
    "scrolled": false
   },
   "outputs": [
    {
     "data": {
      "image/png": "[encoded data removed]",
      "text/plain": [
       "plot without title"
      ]
     },
     "metadata": {
      "image/png": {
       "height": 420,
       "width": 420
      },
      "text/plain": {
       "height": 420,
       "width": 420
      }
     },
     "output_type": "display_data"
    }
   ],
   "source": [
    "draw_iteration_newton(2,-1.5,1.5)"
   ]
  },
  {
   "cell_type": "code",
   "execution_count": 387,
   "metadata": {
    "scrolled": false
   },
   "outputs": [
    {
     "data": {
      "image/png": "[encoded data removed]",
      "text/plain": [
       "plot without title"
      ]
     },
     "metadata": {
      "image/png": {
       "height": 420,
       "width": 420
      },
      "text/plain": {
       "height": 420,
       "width": 420
      }
     },
     "output_type": "display_data"
    }
   ],
   "source": [
    "draw_iteration_newton(3,-1.5,1.5)"
   ]
  },
  {
   "cell_type": "markdown",
   "metadata": {},
   "source": [
    "### Przypadek 3, rozbieżny"
   ]
  },
  {
   "cell_type": "code",
   "execution_count": 388,
   "metadata": {
    "scrolled": true
   },
   "outputs": [
    {
     "data": {
      "text/html": [
       "<dl>\n",
       "\t<dt>$optimal_point</dt>\n",
       "\t\t<dd>27.3131943283194</dd>\n",
       "\t<dt>$values</dt>\n",
       "\t\t<dd><style>\n",
       ".list-inline {list-style: none; margin:0; padding: 0}\n",
       ".list-inline>li {display: inline-block}\n",
       ".list-inline>li:not(:last-child)::after {content: \"\\00b7\"; padding: 0 .5ex}\n",
       "</style>\n",
       "<ol class=list-inline><li>1</li><li>2</li><li>2.28571428571429</li><li>2.52761493366245</li><li>2.74222563057287</li><li>2.93754637191667</li><li>3.11822553305728</li><li>3.2872656396384</li><li>3.44674695324024</li><li>3.59818488819955</li><li>3.74272589511119</li><li>3.88126330595817</li><li>4.01450996603624</li><li>4.14304593383955</li><li>4.26735101318393</li><li>4.38782764844885</li><li>4.50481747099794</li><li>4.61861353233922</li><li>4.72946952843098</li><li>4.83760687625525</li><li>4.94322022608108</li><li>5.04648181382232</li><li>5.14754493954166</li><li>5.24654677813122</li><li>5.34361067299793</li><li>5.43884802480593</li><li>5.53235985964128</li><li>5.62423814089746</li><li>5.7145668744379</li><li>5.80342304562378</li><li>5.89087741854199</li><li>5.97699522149019</li><li>6.06183673795408</li><li>6.14545781857336</li><li>6.22791032667064</li><li>6.30924252761364</li><li>6.3894994304522</li><li>6.46872308880886</li><li>6.54695286682456</li><li>6.62422567500738</li><li>6.70057618005558</li><li>6.7760369920893</li><li>6.85063883220167</li><li>6.92441068280584</li><li>6.99737992289374</li><li>7.06957245002127</li><li>7.14101279058134</li><li>7.2117241997136</li><li>7.28172875201942</li><li>7.3510474240978</li><li>7.41970016978772</li><li>7.48770598889118</li><li>7.55508299005558</li><li>7.62184844841217</li><li>7.68801885849643</li><li>7.75360998291474</li><li>7.81863689716887</li><li>7.88311403100322</li><li>7.9470552065996</li><li>8.01047367390892</li><li>8.0733821433783</li><li>8.13579281630491</li><li>8.19771741302393</li><li>8.25916719911685</li><li>8.3201530098078</li><li>8.38068527269893</li><li>8.44077402898116</li><li>8.50042895324378</li><li>8.55965937199443</li><li>8.61847428099084</li><li>8.67688236147637</li><li>8.73489199540299</li><li>8.79251127971801</li><li>8.84974803978406</li><li>8.90660984199581</li><li>8.96310400565161</li><li>9.0192376141331</li><li>9.07501752544156</li><li>9.13045038213584</li><li>9.18554262071278</li><li>9.24030048046808</li><li>9.2947300118723</li><li>9.3488370844942</li><li>9.40262739450084</li><li>9.45610647176198</li><li>9.50927968658383</li><li>9.56215225609573</li><li>9.6147292503113</li><li>9.66701559788413</li><li>9.71901609157674</li><li>9.77073539345998</li><li>9.82217803985903</li><li>9.87334844606095</li><li>9.92425091079762</li><li>9.97488962051719</li><li>10.025268653456</li><li>10.0753919835222</li><li>10.125263484002</li><li>10.1748869310977</li><li>10.2242660073074</li><li>10.2734043046547</li><li>10.3223053277763</li><li>10.3709724968752</li><li>10.4194091505471</li><li>10.4676185484855</li><li>10.5156038740727</li><li>10.5633682368626</li><li>10.6109146749595</li><li>10.6582461573006</li><li>10.705365585844</li><li>10.7522757976692</li><li>10.7989795669934</li><li>10.8454796071077</li><li>10.8917785722374</li><li>10.9378790593295</li><li>10.9837836097717</li><li>11.0294947110448</li><li>11.075014798313</li><li>11.1203462559539</li><li>11.1654914190316</li><li>11.2104525747155</li><li>11.255231963646</li><li>11.2998317812517</li><li>11.3442541790184</li><li>11.3885012657122</li><li>11.4325751085599</li><li>11.4764777343876</li><li>11.5202111307188</li><li>11.5637772468348</li><li>11.6071779947991</li><li>11.6504152504457</li><li>11.6934908543347</li><li>11.7364066126752</li><li>11.7791642982175</li><li>11.8217656511159</li><li>11.8642123797629</li><li>11.906506161596</li><li>11.9486486438784</li><li>11.9906414444546</li><li>12.0324861524821</li><li>12.074184329139</li><li>12.1157375083102</li><li>12.1571471972514</li><li>12.1984148772332</li><li>12.2395420041645</li><li>12.2805300091971</li><li>12.3213802993122</li><li>12.3620942578886</li><li>12.4026732452542</li><li>12.4431185992207</li><li>12.4834316356028</li><li>12.5236136487219</li><li>12.563665911895</li><li>12.6035896779096</li><li>12.6433861794846</li><li>12.683056629718</li><li>12.7226022225223</li><li>12.7620241330466</li><li>12.8013235180878</li><li>12.84050151649</li><li>12.8795592495319</li><li>12.9184978213053</li><li>12.9573183190812</li><li>12.9960218136672</li><li>13.0346093597551</li><li>13.0730819962583</li><li>13.1114407466413</li><li>13.1496866192392</li><li>13.1878206075698</li><li>13.2258436906367</li><li>13.2637568332252</li><li>13.3015609861896</li><li>13.3392570867338</li><li>13.3768460586842</li><li>13.4143288127562</li><li>13.4517062468131</li><li>13.4889792461192</li><li>13.5261486835859</li><li>13.5632154200122</li><li>13.6001803043191</li><li>13.6370441737776</li><li>13.673807854232</li><li>13.7104721603169</li><li>13.7470378956696</li><li>13.7835058531372</li><li>13.8198768149778</li><li>13.8561515530587</li><li>13.892330829048</li><li>13.9284153946029</li><li>13.964405991553</li><li>14.0003033520794</li><li>14.0361081988899</li><li>14.0718212453896</li><li>14.1074431958481</li><li>14.1429747455624</li><li>14.1784165810165</li><li>14.213769380037</li><li>14.2490338119455</li><li>14.2842105377072</li><li>14.3193002100766</li><li>...</li><li>23.3833046299783</li><li>23.404706978773</li><li>23.4260897204906</li><li>23.4474529089687</li><li>23.4687965977989</li><li>23.4901208403283</li><li>23.5114256896609</li><li>23.5327111986594</li><li>23.5539774199467</li><li>23.5752244059075</li><li>23.5964522086893</li><li>23.6176608802045</li><li>23.6388504721318</li><li>23.6600210359173</li><li>23.6811726227763</li><li>23.7023052836946</li><li>23.72341906943</li><li>23.7445140305136</li><li>23.7655902172516</li><li>23.7866476797262</li><li>23.8076864677971</li><li>23.8287066311033</li><li>23.849708219064</li><li>23.87069128088</li><li>23.8916558655355</li><li>23.9126020217988</li><li>23.9335297982241</li><li>23.9544392431524</li><li>23.9753304047135</li><li>23.9962033308265</li><li>24.0170580692016</li><li>24.037894667341</li><li>24.0587131725406</li><li>24.079513631891</li><li>24.1002960922787</li><li>24.1210606003874</li><li>24.1418072026993</li><li>24.1625359454963</li><li>24.1832468748612</li><li>24.2039400366785</li><li>24.2246154766364</li><li>24.2452732402273</li><li>24.2659133727493</li><li>24.2865359193072</li><li>24.3071409248136</li><li>24.3277284339904</li><li>24.3482984913696</li><li>24.3688511412944</li><li>24.3893864279206</li><li>24.4099043952174</li><li>24.4304050869688</li><li>24.4508885467744</li><li>24.4713548180507</li><li>24.4918039440321</li><li>24.512235967772</li><li>24.5326509321437</li><li>24.5530488798417</li><li>24.5734298533825</li><li>24.5937938951059</li><li>24.6141410471759</li><li>24.6344713515815</li><li>24.6547848501382</li><li>24.6750815844884</li><li>24.695361596103</li><li>24.7156249262821</li><li>24.7358716161559</li><li>24.7561017066857</li><li>24.7763152386651</li><li>24.7965122527207</li><li>24.8166927893133</li><li>24.8368568887386</li><li>24.8570045911282</li><li>24.8771359364506</li><li>24.8972509645124</li><li>24.9173497149584</li><li>24.9374322272736</li><li>24.957498540783</li><li>24.9775486946536</li><li>24.9975827278943</li><li>25.0176006793575</li><li>25.0376025877396</li><li>25.057588491582</li><li>25.0775584292719</li><li>25.0975124390434</li><li>25.1174505589781</li><li>25.1373728270058</li><li>25.1572792809058</li><li>25.1771699583075</li><li>25.1970448966912</li><li>25.2169041333889</li><li>25.2367477055853</li><li>25.2565756503183</li><li>25.2763880044802</li><li>25.2961848048183</li><li>25.3159660879355</li><li>25.3357318902916</li><li>25.3554822482034</li><li>25.3752171978463</li><li>25.3949367752542</li><li>25.414641016321</li><li>25.434329956801</li><li>25.4540036323096</li><li>25.4736620783244</li><li>25.4933053301856</li><li>25.5129334230968</li><li>25.5325463921259</li><li>25.5521442722057</li><li>25.5717270981348</li><li>25.591294904578</li><li>25.6108477260672</li><li>25.6303855970024</li><li>25.6499085516518</li><li>25.6694166241529</li><li>25.6889098485133</li><li>25.7083882586111</li><li>25.7278518881957</li><li>25.7473007708885</li><li>25.7667349401835</li><li>25.7861544294482</li><li>25.8055592719241</li><li>25.8249495007271</li><li>25.8443251488489</li><li>25.8636862491568</li><li>25.883032834395</li><li>25.9023649371848</li><li>25.9216825900256</li><li>25.9409858252953</li><li>25.960274675251</li><li>25.9795491720297</li><li>25.9988093476487</li><li>26.0180552340068</li><li>26.037286862884</li><li>26.0565042659429</li><li>26.075707474729</li><li>26.0948965206714</li><li>26.1140714350831</li><li>26.1332322491621</li><li>26.1523789939915</li><li>26.1715117005405</li><li>26.1906303996648</li><li>26.209735122107</li><li>26.2288258984975</li><li>26.247902759355</li><li>26.2669657350867</li><li>26.2860148559897</li><li>26.3050501522505</li><li>26.3240716539464</li><li>26.3430793910456</li><li>26.362073393408</li><li>26.3810536907857</li><li>26.4000203128234</li><li>26.4189732890589</li><li>26.4379126489241</li><li>26.456838421745</li><li>26.4757506367423</li><li>26.4946493230325</li><li>26.5135345096276</li><li>26.5324062254361</li><li>26.5512644992635</li><li>26.5701093598127</li><li>26.5889408356846</li><li>26.6077589553784</li><li>26.6265637472926</li><li>26.6453552397247</li><li>26.6641334608726</li><li>26.6828984388344</li><li>26.7016502016092</li><li>26.7203887770976</li><li>26.739114193102</li><li>26.7578264773273</li><li>26.7765256573813</li><li>26.795211760775</li><li>26.8138848149236</li><li>26.8325448471461</li><li>26.8511918846666</li><li>26.8698259546145</li><li>26.8884470840245</li><li>26.9070552998378</li><li>26.9256506289027</li><li>26.9442330979723</li><li>26.9628027337116</li><li>26.9813595626943</li><li>26.9999036114116</li><li>27.0184349061894</li><li>27.0369534734348</li><li>27.0554593396359</li><li>27.0739525304212</li><li>27.0924330702335</li><li>27.1109009929481</li><li>27.129356306025</li><li>27.1477991104943</li><li>27.1662293293844</li><li>27.1846473084262</li><li>27.2030516722561</li><li>27.2214439386502</li><li>27.2398273326081</li><li>27.2582175735202</li><li>27.2765677418704</li><li>27.2950613531683</li><li>27.3131943283194</li></ol>\n",
       "</dd>\n",
       "</dl>\n"
      ],
      "text/latex": [
       "\\begin{description}\n",
       "\\item[\\$optimal\\_point] 27.3131943283194\n",
       "\\item[\\$values] \\begin{enumerate*}\n",
       "\\item 1\n",
       "\\item 2\n",
       "\\item 2.28571428571429\n",
       "\\item 2.52761493366245\n",
       "\\item 2.74222563057287\n",
       "\\item 2.93754637191667\n",
       "\\item 3.11822553305728\n",
       "\\item 3.2872656396384\n",
       "\\item 3.44674695324024\n",
       "\\item 3.59818488819955\n",
       "\\item 3.74272589511119\n",
       "\\item 3.88126330595817\n",
       "\\item 4.01450996603624\n",
       "\\item 4.14304593383955\n",
       "\\item 4.26735101318393\n",
       "\\item 4.38782764844885\n",
       "\\item 4.50481747099794\n",
       "\\item 4.61861353233922\n",
       "\\item 4.72946952843098\n",
       "\\item 4.83760687625525\n",
       "\\item 4.94322022608108\n",
       "\\item 5.04648181382232\n",
       "\\item 5.14754493954166\n",
       "\\item 5.24654677813122\n",
       "\\item 5.34361067299793\n",
       "\\item 5.43884802480593\n",
       "\\item 5.53235985964128\n",
       "\\item 5.62423814089746\n",
       "\\item 5.7145668744379\n",
       "\\item 5.80342304562378\n",
       "\\item 5.89087741854199\n",
       "\\item 5.97699522149019\n",
       "\\item 6.06183673795408\n",
       "\\item 6.14545781857336\n",
       "\\item 6.22791032667064\n",
       "\\item 6.30924252761364\n",
       "\\item 6.3894994304522\n",
       "\\item 6.46872308880886\n",
       "\\item 6.54695286682456\n",
       "\\item 6.62422567500738\n",
       "\\item 6.70057618005558\n",
       "\\item 6.7760369920893\n",
       "\\item 6.85063883220167\n",
       "\\item 6.92441068280584\n",
       "\\item 6.99737992289374\n",
       "\\item 7.06957245002127\n",
       "\\item 7.14101279058134\n",
       "\\item 7.2117241997136\n",
       "\\item 7.28172875201942\n",
       "\\item 7.3510474240978\n",
       "\\item 7.41970016978772\n",
       "\\item 7.48770598889118\n",
       "\\item 7.55508299005558\n",
       "\\item 7.62184844841217\n",
       "\\item 7.68801885849643\n",
       "\\item 7.75360998291474\n",
       "\\item 7.81863689716887\n",
       "\\item 7.88311403100322\n",
       "\\item 7.9470552065996\n",
       "\\item 8.01047367390892\n",
       "\\item 8.0733821433783\n",
       "\\item 8.13579281630491\n",
       "\\item 8.19771741302393\n",
       "\\item 8.25916719911685\n",
       "\\item 8.3201530098078\n",
       "\\item 8.38068527269893\n",
       "\\item 8.44077402898116\n",
       "\\item 8.50042895324378\n",
       "\\item 8.55965937199443\n",
       "\\item 8.61847428099084\n",
       "\\item 8.67688236147637\n",
       "\\item 8.73489199540299\n",
       "\\item 8.79251127971801\n",
       "\\item 8.84974803978406\n",
       "\\item 8.90660984199581\n",
       "\\item 8.96310400565161\n",
       "\\item 9.0192376141331\n",
       "\\item 9.07501752544156\n",
       "\\item 9.13045038213584\n",
       "\\item 9.18554262071278\n",
       "\\item 9.24030048046808\n",
       "\\item 9.2947300118723\n",
       "\\item 9.3488370844942\n",
       "\\item 9.40262739450084\n",
       "\\item 9.45610647176198\n",
       "\\item 9.50927968658383\n",
       "\\item 9.56215225609573\n",
       "\\item 9.6147292503113\n",
       "\\item 9.66701559788413\n",
       "\\item 9.71901609157674\n",
       "\\item 9.77073539345998\n",
       "\\item 9.82217803985903\n",
       "\\item 9.87334844606095\n",
       "\\item 9.92425091079762\n",
       "\\item 9.97488962051719\n",
       "\\item 10.025268653456\n",
       "\\item 10.0753919835222\n",
       "\\item 10.125263484002\n",
       "\\item 10.1748869310977\n",
       "\\item 10.2242660073074\n",
       "\\item 10.2734043046547\n",
       "\\item 10.3223053277763\n",
       "\\item 10.3709724968752\n",
       "\\item 10.4194091505471\n",
       "\\item 10.4676185484855\n",
       "\\item 10.5156038740727\n",
       "\\item 10.5633682368626\n",
       "\\item 10.6109146749595\n",
       "\\item 10.6582461573006\n",
       "\\item 10.705365585844\n",
       "\\item 10.7522757976692\n",
       "\\item 10.7989795669934\n",
       "\\item 10.8454796071077\n",
       "\\item 10.8917785722374\n",
       "\\item 10.9378790593295\n",
       "\\item 10.9837836097717\n",
       "\\item 11.0294947110448\n",
       "\\item 11.075014798313\n",
       "\\item 11.1203462559539\n",
       "\\item 11.1654914190316\n",
       "\\item 11.2104525747155\n",
       "\\item 11.255231963646\n",
       "\\item 11.2998317812517\n",
       "\\item 11.3442541790184\n",
       "\\item 11.3885012657122\n",
       "\\item 11.4325751085599\n",
       "\\item 11.4764777343876\n",
       "\\item 11.5202111307188\n",
       "\\item 11.5637772468348\n",
       "\\item 11.6071779947991\n",
       "\\item 11.6504152504457\n",
       "\\item 11.6934908543347\n",
       "\\item 11.7364066126752\n",
       "\\item 11.7791642982175\n",
       "\\item 11.8217656511159\n",
       "\\item 11.8642123797629\n",
       "\\item 11.906506161596\n",
       "\\item 11.9486486438784\n",
       "\\item 11.9906414444546\n",
       "\\item 12.0324861524821\n",
       "\\item 12.074184329139\n",
       "\\item 12.1157375083102\n",
       "\\item 12.1571471972514\n",
       "\\item 12.1984148772332\n",
       "\\item 12.2395420041645\n",
       "\\item 12.2805300091971\n",
       "\\item 12.3213802993122\n",
       "\\item 12.3620942578886\n",
       "\\item 12.4026732452542\n",
       "\\item 12.4431185992207\n",
       "\\item 12.4834316356028\n",
       "\\item 12.5236136487219\n",
       "\\item 12.563665911895\n",
       "\\item 12.6035896779096\n",
       "\\item 12.6433861794846\n",
       "\\item 12.683056629718\n",
       "\\item 12.7226022225223\n",
       "\\item 12.7620241330466\n",
       "\\item 12.8013235180878\n",
       "\\item 12.84050151649\n",
       "\\item 12.8795592495319\n",
       "\\item 12.9184978213053\n",
       "\\item 12.9573183190812\n",
       "\\item 12.9960218136672\n",
       "\\item 13.0346093597551\n",
       "\\item 13.0730819962583\n",
       "\\item 13.1114407466413\n",
       "\\item 13.1496866192392\n",
       "\\item 13.1878206075698\n",
       "\\item 13.2258436906367\n",
       "\\item 13.2637568332252\n",
       "\\item 13.3015609861896\n",
       "\\item 13.3392570867338\n",
       "\\item 13.3768460586842\n",
       "\\item 13.4143288127562\n",
       "\\item 13.4517062468131\n",
       "\\item 13.4889792461192\n",
       "\\item 13.5261486835859\n",
       "\\item 13.5632154200122\n",
       "\\item 13.6001803043191\n",
       "\\item 13.6370441737776\n",
       "\\item 13.673807854232\n",
       "\\item 13.7104721603169\n",
       "\\item 13.7470378956696\n",
       "\\item 13.7835058531372\n",
       "\\item 13.8198768149778\n",
       "\\item 13.8561515530587\n",
       "\\item 13.892330829048\n",
       "\\item 13.9284153946029\n",
       "\\item 13.964405991553\n",
       "\\item 14.0003033520794\n",
       "\\item 14.0361081988899\n",
       "\\item 14.0718212453896\n",
       "\\item 14.1074431958481\n",
       "\\item 14.1429747455624\n",
       "\\item 14.1784165810165\n",
       "\\item 14.213769380037\n",
       "\\item 14.2490338119455\n",
       "\\item 14.2842105377072\n",
       "\\item 14.3193002100766\n",
       "\\item ...\n",
       "\\item 23.3833046299783\n",
       "\\item 23.404706978773\n",
       "\\item 23.4260897204906\n",
       "\\item 23.4474529089687\n",
       "\\item 23.4687965977989\n",
       "\\item 23.4901208403283\n",
       "\\item 23.5114256896609\n",
       "\\item 23.5327111986594\n",
       "\\item 23.5539774199467\n",
       "\\item 23.5752244059075\n",
       "\\item 23.5964522086893\n",
       "\\item 23.6176608802045\n",
       "\\item 23.6388504721318\n",
       "\\item 23.6600210359173\n",
       "\\item 23.6811726227763\n",
       "\\item 23.7023052836946\n",
       "\\item 23.72341906943\n",
       "\\item 23.7445140305136\n",
       "\\item 23.7655902172516\n",
       "\\item 23.7866476797262\n",
       "\\item 23.8076864677971\n",
       "\\item 23.8287066311033\n",
       "\\item 23.849708219064\n",
       "\\item 23.87069128088\n",
       "\\item 23.8916558655355\n",
       "\\item 23.9126020217988\n",
       "\\item 23.9335297982241\n",
       "\\item 23.9544392431524\n",
       "\\item 23.9753304047135\n",
       "\\item 23.9962033308265\n",
       "\\item 24.0170580692016\n",
       "\\item 24.037894667341\n",
       "\\item 24.0587131725406\n",
       "\\item 24.079513631891\n",
       "\\item 24.1002960922787\n",
       "\\item 24.1210606003874\n",
       "\\item 24.1418072026993\n",
       "\\item 24.1625359454963\n",
       "\\item 24.1832468748612\n",
       "\\item 24.2039400366785\n",
       "\\item 24.2246154766364\n",
       "\\item 24.2452732402273\n",
       "\\item 24.2659133727493\n",
       "\\item 24.2865359193072\n",
       "\\item 24.3071409248136\n",
       "\\item 24.3277284339904\n",
       "\\item 24.3482984913696\n",
       "\\item 24.3688511412944\n",
       "\\item 24.3893864279206\n",
       "\\item 24.4099043952174\n",
       "\\item 24.4304050869688\n",
       "\\item 24.4508885467744\n",
       "\\item 24.4713548180507\n",
       "\\item 24.4918039440321\n",
       "\\item 24.512235967772\n",
       "\\item 24.5326509321437\n",
       "\\item 24.5530488798417\n",
       "\\item 24.5734298533825\n",
       "\\item 24.5937938951059\n",
       "\\item 24.6141410471759\n",
       "\\item 24.6344713515815\n",
       "\\item 24.6547848501382\n",
       "\\item 24.6750815844884\n",
       "\\item 24.695361596103\n",
       "\\item 24.7156249262821\n",
       "\\item 24.7358716161559\n",
       "\\item 24.7561017066857\n",
       "\\item 24.7763152386651\n",
       "\\item 24.7965122527207\n",
       "\\item 24.8166927893133\n",
       "\\item 24.8368568887386\n",
       "\\item 24.8570045911282\n",
       "\\item 24.8771359364506\n",
       "\\item 24.8972509645124\n",
       "\\item 24.9173497149584\n",
       "\\item 24.9374322272736\n",
       "\\item 24.957498540783\n",
       "\\item 24.9775486946536\n",
       "\\item 24.9975827278943\n",
       "\\item 25.0176006793575\n",
       "\\item 25.0376025877396\n",
       "\\item 25.057588491582\n",
       "\\item 25.0775584292719\n",
       "\\item 25.0975124390434\n",
       "\\item 25.1174505589781\n",
       "\\item 25.1373728270058\n",
       "\\item 25.1572792809058\n",
       "\\item 25.1771699583075\n",
       "\\item 25.1970448966912\n",
       "\\item 25.2169041333889\n",
       "\\item 25.2367477055853\n",
       "\\item 25.2565756503183\n",
       "\\item 25.2763880044802\n",
       "\\item 25.2961848048183\n",
       "\\item 25.3159660879355\n",
       "\\item 25.3357318902916\n",
       "\\item 25.3554822482034\n",
       "\\item 25.3752171978463\n",
       "\\item 25.3949367752542\n",
       "\\item 25.414641016321\n",
       "\\item 25.434329956801\n",
       "\\item 25.4540036323096\n",
       "\\item 25.4736620783244\n",
       "\\item 25.4933053301856\n",
       "\\item 25.5129334230968\n",
       "\\item 25.5325463921259\n",
       "\\item 25.5521442722057\n",
       "\\item 25.5717270981348\n",
       "\\item 25.591294904578\n",
       "\\item 25.6108477260672\n",
       "\\item 25.6303855970024\n",
       "\\item 25.6499085516518\n",
       "\\item 25.6694166241529\n",
       "\\item 25.6889098485133\n",
       "\\item 25.7083882586111\n",
       "\\item 25.7278518881957\n",
       "\\item 25.7473007708885\n",
       "\\item 25.7667349401835\n",
       "\\item 25.7861544294482\n",
       "\\item 25.8055592719241\n",
       "\\item 25.8249495007271\n",
       "\\item 25.8443251488489\n",
       "\\item 25.8636862491568\n",
       "\\item 25.883032834395\n",
       "\\item 25.9023649371848\n",
       "\\item 25.9216825900256\n",
       "\\item 25.9409858252953\n",
       "\\item 25.960274675251\n",
       "\\item 25.9795491720297\n",
       "\\item 25.9988093476487\n",
       "\\item 26.0180552340068\n",
       "\\item 26.037286862884\n",
       "\\item 26.0565042659429\n",
       "\\item 26.075707474729\n",
       "\\item 26.0948965206714\n",
       "\\item 26.1140714350831\n",
       "\\item 26.1332322491621\n",
       "\\item 26.1523789939915\n",
       "\\item 26.1715117005405\n",
       "\\item 26.1906303996648\n",
       "\\item 26.209735122107\n",
       "\\item 26.2288258984975\n",
       "\\item 26.247902759355\n",
       "\\item 26.2669657350867\n",
       "\\item 26.2860148559897\n",
       "\\item 26.3050501522505\n",
       "\\item 26.3240716539464\n",
       "\\item 26.3430793910456\n",
       "\\item 26.362073393408\n",
       "\\item 26.3810536907857\n",
       "\\item 26.4000203128234\n",
       "\\item 26.4189732890589\n",
       "\\item 26.4379126489241\n",
       "\\item 26.456838421745\n",
       "\\item 26.4757506367423\n",
       "\\item 26.4946493230325\n",
       "\\item 26.5135345096276\n",
       "\\item 26.5324062254361\n",
       "\\item 26.5512644992635\n",
       "\\item 26.5701093598127\n",
       "\\item 26.5889408356846\n",
       "\\item 26.6077589553784\n",
       "\\item 26.6265637472926\n",
       "\\item 26.6453552397247\n",
       "\\item 26.6641334608726\n",
       "\\item 26.6828984388344\n",
       "\\item 26.7016502016092\n",
       "\\item 26.7203887770976\n",
       "\\item 26.739114193102\n",
       "\\item 26.7578264773273\n",
       "\\item 26.7765256573813\n",
       "\\item 26.795211760775\n",
       "\\item 26.8138848149236\n",
       "\\item 26.8325448471461\n",
       "\\item 26.8511918846666\n",
       "\\item 26.8698259546145\n",
       "\\item 26.8884470840245\n",
       "\\item 26.9070552998378\n",
       "\\item 26.9256506289027\n",
       "\\item 26.9442330979723\n",
       "\\item 26.9628027337116\n",
       "\\item 26.9813595626943\n",
       "\\item 26.9999036114116\n",
       "\\item 27.0184349061894\n",
       "\\item 27.0369534734348\n",
       "\\item 27.0554593396359\n",
       "\\item 27.0739525304212\n",
       "\\item 27.0924330702335\n",
       "\\item 27.1109009929481\n",
       "\\item 27.129356306025\n",
       "\\item 27.1477991104943\n",
       "\\item 27.1662293293844\n",
       "\\item 27.1846473084262\n",
       "\\item 27.2030516722561\n",
       "\\item 27.2214439386502\n",
       "\\item 27.2398273326081\n",
       "\\item 27.2582175735202\n",
       "\\item 27.2765677418704\n",
       "\\item 27.2950613531683\n",
       "\\item 27.3131943283194\n",
       "\\end{enumerate*}\n",
       "\n",
       "\\end{description}\n"
      ],
      "text/markdown": [
       "$optimal_point\n",
       ":   27.3131943283194\n",
       "$values\n",
       ":   1. 1\n",
       "2. 2\n",
       "3. 2.28571428571429\n",
       "4. 2.52761493366245\n",
       "5. 2.74222563057287\n",
       "6. 2.93754637191667\n",
       "7. 3.11822553305728\n",
       "8. 3.2872656396384\n",
       "9. 3.44674695324024\n",
       "10. 3.59818488819955\n",
       "11. 3.74272589511119\n",
       "12. 3.88126330595817\n",
       "13. 4.01450996603624\n",
       "14. 4.14304593383955\n",
       "15. 4.26735101318393\n",
       "16. 4.38782764844885\n",
       "17. 4.50481747099794\n",
       "18. 4.61861353233922\n",
       "19. 4.72946952843098\n",
       "20. 4.83760687625525\n",
       "21. 4.94322022608108\n",
       "22. 5.04648181382232\n",
       "23. 5.14754493954166\n",
       "24. 5.24654677813122\n",
       "25. 5.34361067299793\n",
       "26. 5.43884802480593\n",
       "27. 5.53235985964128\n",
       "28. 5.62423814089746\n",
       "29. 5.7145668744379\n",
       "30. 5.80342304562378\n",
       "31. 5.89087741854199\n",
       "32. 5.97699522149019\n",
       "33. 6.06183673795408\n",
       "34. 6.14545781857336\n",
       "35. 6.22791032667064\n",
       "36. 6.30924252761364\n",
       "37. 6.3894994304522\n",
       "38. 6.46872308880886\n",
       "39. 6.54695286682456\n",
       "40. 6.62422567500738\n",
       "41. 6.70057618005558\n",
       "42. 6.7760369920893\n",
       "43. 6.85063883220167\n",
       "44. 6.92441068280584\n",
       "45. 6.99737992289374\n",
       "46. 7.06957245002127\n",
       "47. 7.14101279058134\n",
       "48. 7.2117241997136\n",
       "49. 7.28172875201942\n",
       "50. 7.3510474240978\n",
       "51. 7.41970016978772\n",
       "52. 7.48770598889118\n",
       "53. 7.55508299005558\n",
       "54. 7.62184844841217\n",
       "55. 7.68801885849643\n",
       "56. 7.75360998291474\n",
       "57. 7.81863689716887\n",
       "58. 7.88311403100322\n",
       "59. 7.9470552065996\n",
       "60. 8.01047367390892\n",
       "61. 8.0733821433783\n",
       "62. 8.13579281630491\n",
       "63. 8.19771741302393\n",
       "64. 8.25916719911685\n",
       "65. 8.3201530098078\n",
       "66. 8.38068527269893\n",
       "67. 8.44077402898116\n",
       "68. 8.50042895324378\n",
       "69. 8.55965937199443\n",
       "70. 8.61847428099084\n",
       "71. 8.67688236147637\n",
       "72. 8.73489199540299\n",
       "73. 8.79251127971801\n",
       "74. 8.84974803978406\n",
       "75. 8.90660984199581\n",
       "76. 8.96310400565161\n",
       "77. 9.0192376141331\n",
       "78. 9.07501752544156\n",
       "79. 9.13045038213584\n",
       "80. 9.18554262071278\n",
       "81. 9.24030048046808\n",
       "82. 9.2947300118723\n",
       "83. 9.3488370844942\n",
       "84. 9.40262739450084\n",
       "85. 9.45610647176198\n",
       "86. 9.50927968658383\n",
       "87. 9.56215225609573\n",
       "88. 9.6147292503113\n",
       "89. 9.66701559788413\n",
       "90. 9.71901609157674\n",
       "91. 9.77073539345998\n",
       "92. 9.82217803985903\n",
       "93. 9.87334844606095\n",
       "94. 9.92425091079762\n",
       "95. 9.97488962051719\n",
       "96. 10.025268653456\n",
       "97. 10.0753919835222\n",
       "98. 10.125263484002\n",
       "99. 10.1748869310977\n",
       "100. 10.2242660073074\n",
       "101. 10.2734043046547\n",
       "102. 10.3223053277763\n",
       "103. 10.3709724968752\n",
       "104. 10.4194091505471\n",
       "105. 10.4676185484855\n",
       "106. 10.5156038740727\n",
       "107. 10.5633682368626\n",
       "108. 10.6109146749595\n",
       "109. 10.6582461573006\n",
       "110. 10.705365585844\n",
       "111. 10.7522757976692\n",
       "112. 10.7989795669934\n",
       "113. 10.8454796071077\n",
       "114. 10.8917785722374\n",
       "115. 10.9378790593295\n",
       "116. 10.9837836097717\n",
       "117. 11.0294947110448\n",
       "118. 11.075014798313\n",
       "119. 11.1203462559539\n",
       "120. 11.1654914190316\n",
       "121. 11.2104525747155\n",
       "122. 11.255231963646\n",
       "123. 11.2998317812517\n",
       "124. 11.3442541790184\n",
       "125. 11.3885012657122\n",
       "126. 11.4325751085599\n",
       "127. 11.4764777343876\n",
       "128. 11.5202111307188\n",
       "129. 11.5637772468348\n",
       "130. 11.6071779947991\n",
       "131. 11.6504152504457\n",
       "132. 11.6934908543347\n",
       "133. 11.7364066126752\n",
       "134. 11.7791642982175\n",
       "135. 11.8217656511159\n",
       "136. 11.8642123797629\n",
       "137. 11.906506161596\n",
       "138. 11.9486486438784\n",
       "139. 11.9906414444546\n",
       "140. 12.0324861524821\n",
       "141. 12.074184329139\n",
       "142. 12.1157375083102\n",
       "143. 12.1571471972514\n",
       "144. 12.1984148772332\n",
       "145. 12.2395420041645\n",
       "146. 12.2805300091971\n",
       "147. 12.3213802993122\n",
       "148. 12.3620942578886\n",
       "149. 12.4026732452542\n",
       "150. 12.4431185992207\n",
       "151. 12.4834316356028\n",
       "152. 12.5236136487219\n",
       "153. 12.563665911895\n",
       "154. 12.6035896779096\n",
       "155. 12.6433861794846\n",
       "156. 12.683056629718\n",
       "157. 12.7226022225223\n",
       "158. 12.7620241330466\n",
       "159. 12.8013235180878\n",
       "160. 12.84050151649\n",
       "161. 12.8795592495319\n",
       "162. 12.9184978213053\n",
       "163. 12.9573183190812\n",
       "164. 12.9960218136672\n",
       "165. 13.0346093597551\n",
       "166. 13.0730819962583\n",
       "167. 13.1114407466413\n",
       "168. 13.1496866192392\n",
       "169. 13.1878206075698\n",
       "170. 13.2258436906367\n",
       "171. 13.2637568332252\n",
       "172. 13.3015609861896\n",
       "173. 13.3392570867338\n",
       "174. 13.3768460586842\n",
       "175. 13.4143288127562\n",
       "176. 13.4517062468131\n",
       "177. 13.4889792461192\n",
       "178. 13.5261486835859\n",
       "179. 13.5632154200122\n",
       "180. 13.6001803043191\n",
       "181. 13.6370441737776\n",
       "182. 13.673807854232\n",
       "183. 13.7104721603169\n",
       "184. 13.7470378956696\n",
       "185. 13.7835058531372\n",
       "186. 13.8198768149778\n",
       "187. 13.8561515530587\n",
       "188. 13.892330829048\n",
       "189. 13.9284153946029\n",
       "190. 13.964405991553\n",
       "191. 14.0003033520794\n",
       "192. 14.0361081988899\n",
       "193. 14.0718212453896\n",
       "194. 14.1074431958481\n",
       "195. 14.1429747455624\n",
       "196. 14.1784165810165\n",
       "197. 14.213769380037\n",
       "198. 14.2490338119455\n",
       "199. 14.2842105377072\n",
       "200. 14.3193002100766\n",
       "201. ...\n",
       "202. 23.3833046299783\n",
       "203. 23.404706978773\n",
       "204. 23.4260897204906\n",
       "205. 23.4474529089687\n",
       "206. 23.4687965977989\n",
       "207. 23.4901208403283\n",
       "208. 23.5114256896609\n",
       "209. 23.5327111986594\n",
       "210. 23.5539774199467\n",
       "211. 23.5752244059075\n",
       "212. 23.5964522086893\n",
       "213. 23.6176608802045\n",
       "214. 23.6388504721318\n",
       "215. 23.6600210359173\n",
       "216. 23.6811726227763\n",
       "217. 23.7023052836946\n",
       "218. 23.72341906943\n",
       "219. 23.7445140305136\n",
       "220. 23.7655902172516\n",
       "221. 23.7866476797262\n",
       "222. 23.8076864677971\n",
       "223. 23.8287066311033\n",
       "224. 23.849708219064\n",
       "225. 23.87069128088\n",
       "226. 23.8916558655355\n",
       "227. 23.9126020217988\n",
       "228. 23.9335297982241\n",
       "229. 23.9544392431524\n",
       "230. 23.9753304047135\n",
       "231. 23.9962033308265\n",
       "232. 24.0170580692016\n",
       "233. 24.037894667341\n",
       "234. 24.0587131725406\n",
       "235. 24.079513631891\n",
       "236. 24.1002960922787\n",
       "237. 24.1210606003874\n",
       "238. 24.1418072026993\n",
       "239. 24.1625359454963\n",
       "240. 24.1832468748612\n",
       "241. 24.2039400366785\n",
       "242. 24.2246154766364\n",
       "243. 24.2452732402273\n",
       "244. 24.2659133727493\n",
       "245. 24.2865359193072\n",
       "246. 24.3071409248136\n",
       "247. 24.3277284339904\n",
       "248. 24.3482984913696\n",
       "249. 24.3688511412944\n",
       "250. 24.3893864279206\n",
       "251. 24.4099043952174\n",
       "252. 24.4304050869688\n",
       "253. 24.4508885467744\n",
       "254. 24.4713548180507\n",
       "255. 24.4918039440321\n",
       "256. 24.512235967772\n",
       "257. 24.5326509321437\n",
       "258. 24.5530488798417\n",
       "259. 24.5734298533825\n",
       "260. 24.5937938951059\n",
       "261. 24.6141410471759\n",
       "262. 24.6344713515815\n",
       "263. 24.6547848501382\n",
       "264. 24.6750815844884\n",
       "265. 24.695361596103\n",
       "266. 24.7156249262821\n",
       "267. 24.7358716161559\n",
       "268. 24.7561017066857\n",
       "269. 24.7763152386651\n",
       "270. 24.7965122527207\n",
       "271. 24.8166927893133\n",
       "272. 24.8368568887386\n",
       "273. 24.8570045911282\n",
       "274. 24.8771359364506\n",
       "275. 24.8972509645124\n",
       "276. 24.9173497149584\n",
       "277. 24.9374322272736\n",
       "278. 24.957498540783\n",
       "279. 24.9775486946536\n",
       "280. 24.9975827278943\n",
       "281. 25.0176006793575\n",
       "282. 25.0376025877396\n",
       "283. 25.057588491582\n",
       "284. 25.0775584292719\n",
       "285. 25.0975124390434\n",
       "286. 25.1174505589781\n",
       "287. 25.1373728270058\n",
       "288. 25.1572792809058\n",
       "289. 25.1771699583075\n",
       "290. 25.1970448966912\n",
       "291. 25.2169041333889\n",
       "292. 25.2367477055853\n",
       "293. 25.2565756503183\n",
       "294. 25.2763880044802\n",
       "295. 25.2961848048183\n",
       "296. 25.3159660879355\n",
       "297. 25.3357318902916\n",
       "298. 25.3554822482034\n",
       "299. 25.3752171978463\n",
       "300. 25.3949367752542\n",
       "301. 25.414641016321\n",
       "302. 25.434329956801\n",
       "303. 25.4540036323096\n",
       "304. 25.4736620783244\n",
       "305. 25.4933053301856\n",
       "306. 25.5129334230968\n",
       "307. 25.5325463921259\n",
       "308. 25.5521442722057\n",
       "309. 25.5717270981348\n",
       "310. 25.591294904578\n",
       "311. 25.6108477260672\n",
       "312. 25.6303855970024\n",
       "313. 25.6499085516518\n",
       "314. 25.6694166241529\n",
       "315. 25.6889098485133\n",
       "316. 25.7083882586111\n",
       "317. 25.7278518881957\n",
       "318. 25.7473007708885\n",
       "319. 25.7667349401835\n",
       "320. 25.7861544294482\n",
       "321. 25.8055592719241\n",
       "322. 25.8249495007271\n",
       "323. 25.8443251488489\n",
       "324. 25.8636862491568\n",
       "325. 25.883032834395\n",
       "326. 25.9023649371848\n",
       "327. 25.9216825900256\n",
       "328. 25.9409858252953\n",
       "329. 25.960274675251\n",
       "330. 25.9795491720297\n",
       "331. 25.9988093476487\n",
       "332. 26.0180552340068\n",
       "333. 26.037286862884\n",
       "334. 26.0565042659429\n",
       "335. 26.075707474729\n",
       "336. 26.0948965206714\n",
       "337. 26.1140714350831\n",
       "338. 26.1332322491621\n",
       "339. 26.1523789939915\n",
       "340. 26.1715117005405\n",
       "341. 26.1906303996648\n",
       "342. 26.209735122107\n",
       "343. 26.2288258984975\n",
       "344. 26.247902759355\n",
       "345. 26.2669657350867\n",
       "346. 26.2860148559897\n",
       "347. 26.3050501522505\n",
       "348. 26.3240716539464\n",
       "349. 26.3430793910456\n",
       "350. 26.362073393408\n",
       "351. 26.3810536907857\n",
       "352. 26.4000203128234\n",
       "353. 26.4189732890589\n",
       "354. 26.4379126489241\n",
       "355. 26.456838421745\n",
       "356. 26.4757506367423\n",
       "357. 26.4946493230325\n",
       "358. 26.5135345096276\n",
       "359. 26.5324062254361\n",
       "360. 26.5512644992635\n",
       "361. 26.5701093598127\n",
       "362. 26.5889408356846\n",
       "363. 26.6077589553784\n",
       "364. 26.6265637472926\n",
       "365. 26.6453552397247\n",
       "366. 26.6641334608726\n",
       "367. 26.6828984388344\n",
       "368. 26.7016502016092\n",
       "369. 26.7203887770976\n",
       "370. 26.739114193102\n",
       "371. 26.7578264773273\n",
       "372. 26.7765256573813\n",
       "373. 26.795211760775\n",
       "374. 26.8138848149236\n",
       "375. 26.8325448471461\n",
       "376. 26.8511918846666\n",
       "377. 26.8698259546145\n",
       "378. 26.8884470840245\n",
       "379. 26.9070552998378\n",
       "380. 26.9256506289027\n",
       "381. 26.9442330979723\n",
       "382. 26.9628027337116\n",
       "383. 26.9813595626943\n",
       "384. 26.9999036114116\n",
       "385. 27.0184349061894\n",
       "386. 27.0369534734348\n",
       "387. 27.0554593396359\n",
       "388. 27.0739525304212\n",
       "389. 27.0924330702335\n",
       "390. 27.1109009929481\n",
       "391. 27.129356306025\n",
       "392. 27.1477991104943\n",
       "393. 27.1662293293844\n",
       "394. 27.1846473084262\n",
       "395. 27.2030516722561\n",
       "396. 27.2214439386502\n",
       "397. 27.2398273326081\n",
       "398. 27.2582175735202\n",
       "399. 27.2765677418704\n",
       "400. 27.2950613531683\n",
       "401. 27.3131943283194\n",
       "\n",
       "\n",
       "\n",
       "\n",
       "\n"
      ],
      "text/plain": [
       "$optimal_point\n",
       "[1] 27.31319\n",
       "\n",
       "$values\n",
       "  [1]  1.000000  2.000000  2.285714  2.527615  2.742226  2.937546  3.118226\n",
       "  [8]  3.287266  3.446747  3.598185  3.742726  3.881263  4.014510  4.143046\n",
       " [15]  4.267351  4.387828  4.504817  4.618614  4.729470  4.837607  4.943220\n",
       " [22]  5.046482  5.147545  5.246547  5.343611  5.438848  5.532360  5.624238\n",
       " [29]  5.714567  5.803423  5.890877  5.976995  6.061837  6.145458  6.227910\n",
       " [36]  6.309243  6.389499  6.468723  6.546953  6.624226  6.700576  6.776037\n",
       " [43]  6.850639  6.924411  6.997380  7.069572  7.141013  7.211724  7.281729\n",
       " [50]  7.351047  7.419700  7.487706  7.555083  7.621848  7.688019  7.753610\n",
       " [57]  7.818637  7.883114  7.947055  8.010474  8.073382  8.135793  8.197717\n",
       " [64]  8.259167  8.320153  8.380685  8.440774  8.500429  8.559659  8.618474\n",
       " [71]  8.676882  8.734892  8.792511  8.849748  8.906610  8.963104  9.019238\n",
       " [78]  9.075018  9.130450  9.185543  9.240300  9.294730  9.348837  9.402627\n",
       " [85]  9.456106  9.509280  9.562152  9.614729  9.667016  9.719016  9.770735\n",
       " [92]  9.822178  9.873348  9.924251  9.974890 10.025269 10.075392 10.125263\n",
       " [99] 10.174887 10.224266 10.273404 10.322305 10.370972 10.419409 10.467619\n",
       "[106] 10.515604 10.563368 10.610915 10.658246 10.705366 10.752276 10.798980\n",
       "[113] 10.845480 10.891779 10.937879 10.983784 11.029495 11.075015 11.120346\n",
       "[120] 11.165491 11.210453 11.255232 11.299832 11.344254 11.388501 11.432575\n",
       "[127] 11.476478 11.520211 11.563777 11.607178 11.650415 11.693491 11.736407\n",
       "[134] 11.779164 11.821766 11.864212 11.906506 11.948649 11.990641 12.032486\n",
       "[141] 12.074184 12.115738 12.157147 12.198415 12.239542 12.280530 12.321380\n",
       "[148] 12.362094 12.402673 12.443119 12.483432 12.523614 12.563666 12.603590\n",
       "[155] 12.643386 12.683057 12.722602 12.762024 12.801324 12.840502 12.879559\n",
       "[162] 12.918498 12.957318 12.996022 13.034609 13.073082 13.111441 13.149687\n",
       "[169] 13.187821 13.225844 13.263757 13.301561 13.339257 13.376846 13.414329\n",
       "[176] 13.451706 13.488979 13.526149 13.563215 13.600180 13.637044 13.673808\n",
       "[183] 13.710472 13.747038 13.783506 13.819877 13.856152 13.892331 13.928415\n",
       "[190] 13.964406 14.000303 14.036108 14.071821 14.107443 14.142975 14.178417\n",
       "[197] 14.213769 14.249034 14.284211 14.319300 14.354303 14.389221 14.424053\n",
       "[204] 14.458801 14.493465 14.528046 14.562544 14.596959 14.631294 14.665547\n",
       "[211] 14.699720 14.733813 14.767827 14.801762 14.835619 14.869399 14.903101\n",
       "[218] 14.936727 14.970276 15.003751 15.037150 15.070474 15.103725 15.136902\n",
       "[225] 15.170006 15.203038 15.235997 15.268885 15.301702 15.334448 15.367124\n",
       "[232] 15.399730 15.432267 15.464734 15.497134 15.529465 15.561729 15.593925\n",
       "[239] 15.626055 15.658119 15.690116 15.722048 15.753915 15.785717 15.817455\n",
       "[246] 15.849129 15.880740 15.912287 15.943771 15.975193 16.006553 16.037852\n",
       "[253] 16.069089 16.100265 16.131380 16.162435 16.193430 16.224366 16.255243\n",
       "[260] 16.286060 16.316819 16.347520 16.378163 16.408749 16.439277 16.469748\n",
       "[267] 16.500163 16.530521 16.560824 16.591071 16.621262 16.651399 16.681481\n",
       "[274] 16.711508 16.741481 16.771400 16.801266 16.831079 16.860838 16.890545\n",
       "[281] 16.920199 16.949801 16.979352 17.008850 17.038298 17.067694 17.097040\n",
       "[288] 17.126334 17.155579 17.184774 17.213919 17.243014 17.272060 17.301057\n",
       "[295] 17.330006 17.358905 17.387757 17.416560 17.445316 17.474024 17.502685\n",
       "[302] 17.531299 17.559866 17.588386 17.616860 17.645288 17.673669 17.702005\n",
       "[309] 17.730296 17.758541 17.786741 17.814897 17.843007 17.871074 17.899096\n",
       "[316] 17.927074 17.955008 17.982898 18.010746 18.038550 18.066311 18.094029\n",
       "[323] 18.121705 18.149338 18.176929 18.204478 18.231986 18.259451 18.286875\n",
       "[330] 18.314258 18.341600 18.368901 18.396162 18.423381 18.450561 18.477700\n",
       "[337] 18.504800 18.531859 18.558879 18.585859 18.612801 18.639703 18.666566\n",
       "[344] 18.693390 18.720176 18.746923 18.773632 18.800303 18.826936 18.853531\n",
       "[351] 18.880089 18.906609 18.933092 18.959538 18.985946 19.012318 19.038653\n",
       "[358] 19.064952 19.091214 19.117440 19.143630 19.169784 19.195902 19.221985\n",
       "[365] 19.248032 19.274044 19.300021 19.325962 19.351869 19.377741 19.403578\n",
       "[372] 19.429380 19.455149 19.480883 19.506583 19.532249 19.557881 19.583480\n",
       "[379] 19.609045 19.634577 19.660075 19.685540 19.710972 19.736372 19.761738\n",
       "[386] 19.787072 19.812373 19.837642 19.862879 19.888083 19.913256 19.938397\n",
       "[393] 19.963505 19.988583 20.013628 20.038642 20.063625 20.088577 20.113498\n",
       "[400] 20.138387 20.163246 20.188074 20.212872 20.237639 20.262375 20.287082\n",
       "[407] 20.311758 20.336404 20.361020 20.385607 20.410163 20.434690 20.459188\n",
       "[414] 20.483656 20.508095 20.532505 20.556885 20.581237 20.605559 20.629853\n",
       "[421] 20.654119 20.678355 20.702563 20.726743 20.750895 20.775018 20.799113\n",
       "[428] 20.823181 20.847220 20.871232 20.895216 20.919172 20.943101 20.967002\n",
       "[435] 20.990876 21.014723 21.038543 21.062336 21.086102 21.109841 21.133553\n",
       "[442] 21.157239 21.180898 21.204530 21.228136 21.251716 21.275270 21.298797\n",
       "[449] 21.322299 21.345774 21.369224 21.392647 21.416045 21.439418 21.462765\n",
       "[456] 21.486086 21.509382 21.532653 21.555899 21.579119 21.602315 21.625485\n",
       "[463] 21.648631 21.671752 21.694848 21.717919 21.740966 21.763989 21.786987\n",
       "[470] 21.809960 21.832910 21.855835 21.878736 21.901613 21.924466 21.947296\n",
       "[477] 21.970101 21.992883 22.015641 22.038376 22.061087 22.083775 22.106439\n",
       "[484] 22.129080 22.151698 22.174292 22.196864 22.219412 22.241938 22.264441\n",
       "[491] 22.286921 22.309378 22.331813 22.354225 22.376614 22.398982 22.421326\n",
       "[498] 22.443649 22.465949 22.488227 22.510483 22.532716 22.554928 22.577118\n",
       "[505] 22.599286 22.621433 22.643557 22.665660 22.687741 22.709801 22.731839\n",
       "[512] 22.753856 22.775852 22.797826 22.819779 22.841711 22.863622 22.885511\n",
       "[519] 22.907380 22.929228 22.951055 22.972861 22.994647 23.016411 23.038156\n",
       "[526] 23.059879 23.081582 23.103265 23.124927 23.146569 23.168191 23.189792\n",
       "[533] 23.211373 23.232935 23.254476 23.275997 23.297498 23.318979 23.340441\n",
       "[540] 23.361883 23.383305 23.404707 23.426090 23.447453 23.468797 23.490121\n",
       "[547] 23.511426 23.532711 23.553977 23.575224 23.596452 23.617661 23.638850\n",
       "[554] 23.660021 23.681173 23.702305 23.723419 23.744514 23.765590 23.786648\n",
       "[561] 23.807686 23.828707 23.849708 23.870691 23.891656 23.912602 23.933530\n",
       "[568] 23.954439 23.975330 23.996203 24.017058 24.037895 24.058713 24.079514\n",
       "[575] 24.100296 24.121061 24.141807 24.162536 24.183247 24.203940 24.224615\n",
       "[582] 24.245273 24.265913 24.286536 24.307141 24.327728 24.348298 24.368851\n",
       "[589] 24.389386 24.409904 24.430405 24.450889 24.471355 24.491804 24.512236\n",
       "[596] 24.532651 24.553049 24.573430 24.593794 24.614141 24.634471 24.654785\n",
       "[603] 24.675082 24.695362 24.715625 24.735872 24.756102 24.776315 24.796512\n",
       "[610] 24.816693 24.836857 24.857005 24.877136 24.897251 24.917350 24.937432\n",
       "[617] 24.957499 24.977549 24.997583 25.017601 25.037603 25.057588 25.077558\n",
       "[624] 25.097512 25.117451 25.137373 25.157279 25.177170 25.197045 25.216904\n",
       "[631] 25.236748 25.256576 25.276388 25.296185 25.315966 25.335732 25.355482\n",
       "[638] 25.375217 25.394937 25.414641 25.434330 25.454004 25.473662 25.493305\n",
       "[645] 25.512933 25.532546 25.552144 25.571727 25.591295 25.610848 25.630386\n",
       "[652] 25.649909 25.669417 25.688910 25.708388 25.727852 25.747301 25.766735\n",
       "[659] 25.786154 25.805559 25.824950 25.844325 25.863686 25.883033 25.902365\n",
       "[666] 25.921683 25.940986 25.960275 25.979549 25.998809 26.018055 26.037287\n",
       "[673] 26.056504 26.075707 26.094897 26.114071 26.133232 26.152379 26.171512\n",
       "[680] 26.190630 26.209735 26.228826 26.247903 26.266966 26.286015 26.305050\n",
       "[687] 26.324072 26.343079 26.362073 26.381054 26.400020 26.418973 26.437913\n",
       "[694] 26.456838 26.475751 26.494649 26.513535 26.532406 26.551264 26.570109\n",
       "[701] 26.588941 26.607759 26.626564 26.645355 26.664133 26.682898 26.701650\n",
       "[708] 26.720389 26.739114 26.757826 26.776526 26.795212 26.813885 26.832545\n",
       "[715] 26.851192 26.869826 26.888447 26.907055 26.925651 26.944233 26.962803\n",
       "[722] 26.981360 26.999904 27.018435 27.036953 27.055459 27.073953 27.092433\n",
       "[729] 27.110901 27.129356 27.147799 27.166229 27.184647 27.203052 27.221444\n",
       "[736] 27.239827 27.258218 27.276568 27.295061 27.313194\n"
      ]
     },
     "metadata": {},
     "output_type": "display_data"
    }
   ],
   "source": [
    "result_newton<-newton(df_1, d2f_1, 1, tol,max_iters=739)\n",
    "result_newton"
   ]
  },
  {
   "cell_type": "code",
   "execution_count": 389,
   "metadata": {
    "scrolled": false
   },
   "outputs": [
    {
     "data": {
      "image/png": "[encoded data removed]",
      "text/plain": [
       "plot without title"
      ]
     },
     "metadata": {
      "image/png": {
       "height": 420,
       "width": 420
      },
      "text/plain": {
       "height": 420,
       "width": 420
      }
     },
     "output_type": "display_data"
    }
   ],
   "source": [
    "draw_iteration_newton(1,-2,2)"
   ]
  },
  {
   "cell_type": "code",
   "execution_count": 390,
   "metadata": {
    "scrolled": false
   },
   "outputs": [
    {
     "data": {
      "image/png": "[encoded data removed]",
      "text/plain": [
       "plot without title"
      ]
     },
     "metadata": {
      "image/png": {
       "height": 420,
       "width": 420
      },
      "text/plain": {
       "height": 420,
       "width": 420
      }
     },
     "output_type": "display_data"
    }
   ],
   "source": [
    "draw_iteration_newton(2,-3,3)"
   ]
  },
  {
   "cell_type": "code",
   "execution_count": 391,
   "metadata": {
    "scrolled": false
   },
   "outputs": [
    {
     "data": {
      "image/png": "[encoded data removed]",
      "text/plain": [
       "plot without title"
      ]
     },
     "metadata": {
      "image/png": {
       "height": 420,
       "width": 420
      },
      "text/plain": {
       "height": 420,
       "width": 420
      }
     },
     "output_type": "display_data"
    }
   ],
   "source": [
    "draw_iteration_newton(3,-3,3)"
   ]
  },
  {
   "cell_type": "code",
   "execution_count": 392,
   "metadata": {
    "scrolled": false
   },
   "outputs": [
    {
     "data": {
      "image/png": "[encoded data removed]",
      "text/plain": [
       "plot without title"
      ]
     },
     "metadata": {
      "image/png": {
       "height": 420,
       "width": 420
      },
      "text/plain": {
       "height": 420,
       "width": 420
      }
     },
     "output_type": "display_data"
    }
   ],
   "source": [
    "draw_iteration_newton(739,-3,30)"
   ]
  },
  {
   "cell_type": "code",
   "execution_count": 393,
   "metadata": {},
   "outputs": [],
   "source": [
    "newton_func<-function(x){\n",
    "   return(x - df_1(x) / d2f_1(x))\n",
    "} "
   ]
  },
  {
   "cell_type": "code",
   "execution_count": 394,
   "metadata": {
    "scrolled": false
   },
   "outputs": [
    {
     "data": {
      "text/html": [
       "27.3131943283194"
      ],
      "text/latex": [
       "27.3131943283194"
      ],
      "text/markdown": [
       "27.3131943283194"
      ],
      "text/plain": [
       "[1] 27.31319"
      ]
     },
     "metadata": {},
     "output_type": "display_data"
    }
   ],
   "source": [
    "newton_func(27.2950613531683)"
   ]
  },
  {
   "cell_type": "code",
   "execution_count": 395,
   "metadata": {
    "scrolled": false
   },
   "outputs": [
    {
     "data": {
      "text/html": [
       "NaN"
      ],
      "text/latex": [
       "NaN"
      ],
      "text/markdown": [
       "NaN"
      ],
      "text/plain": [
       "[1] NaN"
      ]
     },
     "metadata": {},
     "output_type": "display_data"
    }
   ],
   "source": [
    "newton_func(27.3131943283194)"
   ]
  },
  {
   "cell_type": "code",
   "execution_count": 396,
   "metadata": {
    "scrolled": false
   },
   "outputs": [
    {
     "data": {
      "text/html": [
       "NaN"
      ],
      "text/latex": [
       "NaN"
      ],
      "text/markdown": [
       "NaN"
      ],
      "text/plain": [
       "[1] NaN"
      ]
     },
     "metadata": {},
     "output_type": "display_data"
    }
   ],
   "source": [
    "df_1(27.3131943283194) / d2f_1(27.3131943283194)"
   ]
  },
  {
   "cell_type": "code",
   "execution_count": 397,
   "metadata": {
    "scrolled": true
   },
   "outputs": [
    {
     "data": {
      "text/html": [
       "0"
      ],
      "text/latex": [
       "0"
      ],
      "text/markdown": [
       "0"
      ],
      "text/plain": [
       "[1] 0"
      ]
     },
     "metadata": {},
     "output_type": "display_data"
    }
   ],
   "source": [
    "d2f_1(27.3131943283194)"
   ]
  },
  {
   "cell_type": "markdown",
   "metadata": {},
   "source": [
    "# Metoda siecznych"
   ]
  },
  {
   "cell_type": "markdown",
   "metadata": {},
   "source": [
    "Metoda siecznych pozwala na uniknięcie konieczności wyznaczania drugiej pochodnej funkcji. Metoda siecznych ma na celu wyeliminowanie w równaniu $x(k+1) = x(k)-\\frac{f'(x(k))}{f''(x(k))}$ konieczności wyznaczania wartości $f''(x(k))$. Jeżeli dysponujemy dwoma punktami oraz wartościami pochodnej minimalizowanej funkcji w tych punktach,\n",
    "$f''(x(k))$ można przybliżyć za pomocą współczynnika kierunkowego siecznej przechodzącej przez oba punkty.\n",
    "Wtedy $f''(x)\\approx\\frac{f'(x(k))-f'(x(k-1))}{x(k)-x(k-1)}$, a krok $h$ wynosi $-f'(x(k))*\\frac{x(k)-x(k-1)}{f'(x(k))-f'(x(k-1))}$ <br>\n",
    "<br>\n",
    "Zwróćmy uwagę, że kod wykorzystuje tylko pierwszą pochodną funkcji w procesie optymalizacji. Z drugiej strony w celu rozpoczęcia optymalizacji niezbędne jest podanie dwóch punktów startowych. Zwróćmy uwagę, że metoda siecznych charakteryzuje się podobnymi problemami ze zbieżnością jak metoda Newtona."
   ]
  },
  {
   "cell_type": "code",
   "execution_count": 398,
   "metadata": {},
   "outputs": [],
   "source": [
    "secant <- function(df, x1, x2, tol) {\n",
    "    points_secant<-c()\n",
    "    df.x2 <- df(x2)\n",
    "    repeat {\n",
    "        df.x1 <- df(x1)\n",
    "        points_secant<-c(points_secant,c(x1,x2))\n",
    "        new.x <- x1 - df.x1 * (x1 - x2) / (df.x1 - df.x2)\n",
    "        if (abs(new.x - x1) < tol) {\n",
    "            result_secant<-list(\"optim_point\"=new.x,\"points_secant\"=points_secant)\n",
    "            return(result_secant)\n",
    "        }\n",
    "        x2 <- x1\n",
    "        df.x2 <- df.x1 #x2 przyjmuje wartości poprzednio posiadane przez x1. Nowy punkt staje się nowym x1\n",
    "        x1 <- new.x\n",
    "    }\n",
    "}"
   ]
  },
  {
   "cell_type": "code",
   "execution_count": 399,
   "metadata": {},
   "outputs": [],
   "source": [
    "#puscic bracketing\n",
    "line_2_pts<-function(x,f,x_1,y_1,x_2,y_2){\n",
    "    return((y_2-y_1)/(x_2-x_1)*x+f(x_1)-(y_2-y_1)/(x_2-x_1)*x_1)\n",
    "}\n",
    "\n",
    "draw_iteration_secant<-function(n,rightlim,leftlim){\n",
    "    x<-seq(rightlim,leftlim,0.001)\n",
    "    plot(x,f_1(x),col=\"green\",ylim=c(-1, 1.5)) \n",
    "    lines(x,df_1(x),col=\"red\") \n",
    "    lines(x,line_2_pts(x=x,\n",
    "                       f=df_1,\n",
    "                       x_1=result_secant[[2]][2*n-1],\n",
    "                       y_1=df_1(result_secant[[2]][2*n-1]),\n",
    "                       x_2=result_secant[[2]][2*n],\n",
    "                       y_2=df_1(result_secant[[2]][2*n])\n",
    "                      ))\n",
    "    points(result_secant[[2]][2*n-1],df_1(result_secant[[2]][2*n-1]),col=\"red\",lwd=7)\n",
    "    text(result_secant[[2]][2*n-1],df_1(result_secant[[2]][2*n-1])+0.25,\"x1\")\n",
    "    points(result_secant[[2]][2*n],df_1(result_secant[[2]][2*n]),col=\"red\",lwd=7)\n",
    "    text(result_secant[[2]][2*n],df_1(result_secant[[2]][2*n])+0.25,\"x2\")\n",
    "    points(result_secant[[2]][2*n+1],df_1(result_secant[[2]][2*n+1]),col=\"black\",lwd=7)\n",
    "    text(result_secant[[2]][2*n+1],df_1(result_secant[[2]][2*n+1])+0.25,\"new.x\")\n",
    "    segments(result_secant[[2]][2*n+1],df_1(result_secant[[2]][2*n+1]),result_secant[[2]][2*n+1],0,col=\"black\")\n",
    "    grid()\n",
    "}"
   ]
  },
  {
   "cell_type": "markdown",
   "metadata": {},
   "source": [
    "### Przypadek 1, zbieżny"
   ]
  },
  {
   "cell_type": "code",
   "execution_count": 400,
   "metadata": {
    "scrolled": true
   },
   "outputs": [
    {
     "data": {
      "text/html": [
       "<dl>\n",
       "\t<dt>$optim_point</dt>\n",
       "\t\t<dd>3.56072519519112e-10</dd>\n",
       "\t<dt>$points_secant</dt>\n",
       "\t\t<dd><style>\n",
       ".list-inline {list-style: none; margin:0; padding: 0}\n",
       ".list-inline>li {display: inline-block}\n",
       ".list-inline>li:not(:last-child)::after {content: \"\\00b7\"; padding: 0 .5ex}\n",
       "</style>\n",
       "<ol class=list-inline><li>0.5</li><li>0.6</li><li>-0.833316225004699</li><li>0.5</li><li>-0.144536799968184</li><li>-0.833316225004699</li><li>0.210534047304573</li><li>-0.144536799968184</li><li>0.00201258172989313</li><li>0.210534047304573</li><li>-9.2125468688504e-05</li><li>0.00201258172989313</li></ol>\n",
       "</dd>\n",
       "</dl>\n"
      ],
      "text/latex": [
       "\\begin{description}\n",
       "\\item[\\$optim\\_point] 3.56072519519112e-10\n",
       "\\item[\\$points\\_secant] \\begin{enumerate*}\n",
       "\\item 0.5\n",
       "\\item 0.6\n",
       "\\item -0.833316225004699\n",
       "\\item 0.5\n",
       "\\item -0.144536799968184\n",
       "\\item -0.833316225004699\n",
       "\\item 0.210534047304573\n",
       "\\item -0.144536799968184\n",
       "\\item 0.00201258172989313\n",
       "\\item 0.210534047304573\n",
       "\\item -9.2125468688504e-05\n",
       "\\item 0.00201258172989313\n",
       "\\end{enumerate*}\n",
       "\n",
       "\\end{description}\n"
      ],
      "text/markdown": [
       "$optim_point\n",
       ":   3.56072519519112e-10\n",
       "$points_secant\n",
       ":   1. 0.5\n",
       "2. 0.6\n",
       "3. -0.833316225004699\n",
       "4. 0.5\n",
       "5. -0.144536799968184\n",
       "6. -0.833316225004699\n",
       "7. 0.210534047304573\n",
       "8. -0.144536799968184\n",
       "9. 0.00201258172989313\n",
       "10. 0.210534047304573\n",
       "11. -9.2125468688504e-05\n",
       "12. 0.00201258172989313\n",
       "\n",
       "\n",
       "\n",
       "\n",
       "\n"
      ],
      "text/plain": [
       "$optim_point\n",
       "[1] 3.560725e-10\n",
       "\n",
       "$points_secant\n",
       " [1]  5.000000e-01  6.000000e-01 -8.333162e-01  5.000000e-01 -1.445368e-01\n",
       " [6] -8.333162e-01  2.105340e-01 -1.445368e-01  2.012582e-03  2.105340e-01\n",
       "[11] -9.212547e-05  2.012582e-03\n"
      ]
     },
     "metadata": {},
     "output_type": "display_data"
    }
   ],
   "source": [
    "result_secant=secant(df_1, 0.5, 0.6, 0.001) # converges\n",
    "result_secant"
   ]
  },
  {
   "cell_type": "code",
   "execution_count": 401,
   "metadata": {},
   "outputs": [
    {
     "data": {
      "image/png": "[encoded data removed]",
      "text/plain": [
       "plot without title"
      ]
     },
     "metadata": {
      "image/png": {
       "height": 420,
       "width": 420
      },
      "text/plain": {
       "height": 420,
       "width": 420
      }
     },
     "output_type": "display_data"
    }
   ],
   "source": [
    "draw_iteration_secant(1,-1.5,1.5)"
   ]
  },
  {
   "cell_type": "code",
   "execution_count": 402,
   "metadata": {
    "scrolled": false
   },
   "outputs": [
    {
     "data": {
      "image/png": "[encoded data removed]",
      "text/plain": [
       "plot without title"
      ]
     },
     "metadata": {
      "image/png": {
       "height": 420,
       "width": 420
      },
      "text/plain": {
       "height": 420,
       "width": 420
      }
     },
     "output_type": "display_data"
    }
   ],
   "source": [
    "draw_iteration_secant(2,-1.5,1.5)"
   ]
  },
  {
   "cell_type": "code",
   "execution_count": 403,
   "metadata": {},
   "outputs": [
    {
     "data": {
      "image/png": "[encoded data removed]",
      "text/plain": [
       "plot without title"
      ]
     },
     "metadata": {
      "image/png": {
       "height": 420,
       "width": 420
      },
      "text/plain": {
       "height": 420,
       "width": 420
      }
     },
     "output_type": "display_data"
    }
   ],
   "source": [
    "draw_iteration_secant(3,-1.5,1.5)"
   ]
  },
  {
   "cell_type": "code",
   "execution_count": 404,
   "metadata": {},
   "outputs": [
    {
     "data": {
      "image/png": "[encoded data removed]",
      "text/plain": [
       "plot without title"
      ]
     },
     "metadata": {
      "image/png": {
       "height": 420,
       "width": 420
      },
      "text/plain": {
       "height": 420,
       "width": 420
      }
     },
     "output_type": "display_data"
    }
   ],
   "source": [
    "draw_iteration_secant(4,-1.5,1.5)"
   ]
  },
  {
   "cell_type": "markdown",
   "metadata": {},
   "source": [
    "### Przypadek 2, rozbieżny"
   ]
  },
  {
   "cell_type": "code",
   "execution_count": 405,
   "metadata": {
    "scrolled": true
   },
   "outputs": [
    {
     "data": {
      "text/html": [
       "<dl>\n",
       "\t<dt>$optim_point</dt>\n",
       "\t\t<dd>27.3053430028312</dd>\n",
       "\t<dt>$points_secant</dt>\n",
       "\t\t<dd><style>\n",
       ".list-inline {list-style: none; margin:0; padding: 0}\n",
       ".list-inline>li {display: inline-block}\n",
       ".list-inline>li:not(:last-child)::after {content: \"\\00b7\"; padding: 0 .5ex}\n",
       "</style>\n",
       "<ol class=list-inline><li>1</li><li>1.1</li><li>1.92287250455007</li><li>1</li><li>2.06023562687239</li><li>1.92287250455007</li><li>2.28429769467159</li><li>2.06023562687239</li><li>2.44579496786853</li><li>2.28429769467159</li><li>2.60650755426472</li><li>2.44579496786853</li><li>2.75084343268711</li><li>2.60650755426472</li><li>2.88789864839955</li><li>2.75084343268711</li><li>3.01682205605501</li><li>2.88789864839955</li><li>3.1396681084439</li><li>3.01682205605501</li><li>3.25699680865374</li><li>3.1396681084439</li><li>3.36961967615527</li><li>3.25699680865374</li><li>3.47804603150852</li><li>3.36961967615527</li><li>3.58274385474689</li><li>3.47804603150852</li><li>3.68408136675168</li><li>3.58274385474689</li><li>3.78237546538456</li><li>3.68408136675168</li><li>3.87789286417989</li><li>3.78237546538456</li><li>3.97086379561692</li><li>3.87789286417989</li><li>4.06148749089414</li><li>3.97086379561692</li><li>4.1499382393715</li><li>4.06148749089414</li><li>4.23636941561613</li><li>4.1499382393715</li><li>4.32091693021883</li><li>4.23636941561613</li><li>4.40370189088331</li><li>4.32091693021883</li><li>4.48483279406528</li><li>4.40370189088331</li><li>4.56440730129708</li><li>4.48483279406528</li><li>4.64251370932306</li><li>4.56440730129708</li><li>4.71923217007827</li><li>4.64251370932306</li><li>4.79463571327473</li><li>4.71923217007827</li><li>4.8687911084969</li><li>4.79463571327473</li><li>4.94175959703035</li><li>4.8687911084969</li><li>5.01359751665427</li><li>4.94175959703035</li><li>5.08435683805291</li><li>5.01359751665427</li><li>5.15408562769661</li><li>5.08435683805291</li><li>5.22282844919924</li><li>5.15408562769661</li><li>5.29062671289247</li><li>5.22282844919924</li><li>5.35751898158437</li><li>5.29062671289247</li><li>5.42354123905542</li><li>5.35751898158437</li><li>5.48872712671453</li><li>5.42354123905542</li><li>5.55310815292675</li><li>5.48872712671453</li><li>5.61671387878583</li><li>5.55310815292675</li><li>5.67957208350256</li><li>5.61671387878583</li><li>5.7417089120862</li><li>5.67957208350256</li><li>5.80314900758938</li><li>5.7417089120862</li><li>5.86391562984985</li><li>5.80314900758938</li><li>5.92403076238187</li><li>5.86391562984985</li><li>5.98351520883568</li><li>5.92403076238187</li><li>6.04238868024665</li><li>5.98351520883568</li><li>6.10066987412964</li><li>6.04238868024665</li><li>6.15837654633396</li><li>6.10066987412964</li><li>6.21552557645483</li><li>6.15837654633396</li><li>6.27213302749575</li><li>6.21552557645483</li><li>6.32821420038918</li><li>6.27213302749575</li><li>6.38378368390846</li><li>6.32821420038918</li><li>6.43885540043952</li><li>6.38378368390846</li><li>6.49344264802577</li><li>6.43885540043952</li><li>6.54755813905123</li><li>6.49344264802577</li><li>6.60121403588569</li><li>6.54755813905123</li><li>6.65442198377924</li><li>6.60121403588569</li><li>6.70719314126169</li><li>6.65442198377924</li><li>6.75953820827515</li><li>6.70719314126169</li><li>6.81146745224335</li><li>6.75953820827515</li><li>6.86299073226023</li><li>6.81146745224335</li><li>6.91411752156133</li><li>6.86299073226023</li><li>6.96485692842503</li><li>6.91411752156133</li><li>7.01521771563607</li><li>6.96485692842503</li><li>7.06520831863054</li><li>7.01521771563607</li><li>7.11483686243026</li><li>7.06520831863054</li><li>7.16411117746402</li><li>7.11483686243026</li><li>7.21303881436397</li><li>7.16411117746402</li><li>7.26162705781735</li><li>7.21303881436397</li><li>7.30988293954646</li><li>7.26162705781735</li><li>7.35781325048307</li><li>7.30988293954646</li><li>7.40542455219768</li><li>7.35781325048307</li><li>7.45272318763878</li><li>7.40542455219768</li><li>7.49971529123245</li><li>7.45272318763878</li><li>7.5464067983883</li><li>7.49971529123245</li><li>7.59280345445403</li><li>7.5464067983883</li><li>7.63891082315715</li><li>7.59280345445403</li><li>7.68473429456954</li><li>7.63891082315715</li><li>7.73027909262733</li><li>7.68473429456954</li><li>7.7755502822362</li><li>7.73027909262733</li><li>7.82055277598972</li><li>7.7755502822362</li><li>7.86529134052632</li><li>7.82055277598972</li><li>7.90977060254824</li><li>7.86529134052632</li><li>7.95399505452437</li><li>7.90977060254824</li><li>7.99796906009702</li><li>7.95399505452437</li><li>8.04169685921117</li><li>7.99796906009702</li><li>8.08518257298356</li><li>8.04169685921117</li><li>8.12843020832753</li><li>8.08518257298356</li><li>8.17144366234835</li><li>8.12843020832753</li><li>8.21422672652313</li><li>8.17144366234835</li><li>8.2567830906777</li><li>8.21422672652313</li><li>8.29911634677274</li><li>8.2567830906777</li><li>8.34122999251005</li><li>8.29911634677274</li><li>8.38312743476944</li><li>8.34122999251005</li><li>8.42481199288572</li><li>8.38312743476944</li><li>8.46628690177499</li><li>8.42481199288572</li><li>8.50755531491845</li><li>8.46628690177499</li><li>8.54862030721181</li><li>8.50755531491845</li><li>8.58948487768737</li><li>8.54862030721181</li><li>...</li><li>26.0077567736418</li><li>25.9944127637141</li><li>26.0210939253579</li><li>26.0077567736418</li><li>26.0344242294336</li><li>26.0210939253579</li><li>26.0477476964132</li><li>26.0344242294336</li><li>26.0610643368139</li><li>26.0477476964132</li><li>26.0743741611258</li><li>26.0610643368139</li><li>26.0876771798125</li><li>26.0743741611258</li><li>26.1009734033104</li><li>26.0876771798125</li><li>26.1142628420295</li><li>26.1009734033104</li><li>26.1275455063533</li><li>26.1142628420295</li><li>26.1408214066386</li><li>26.1275455063533</li><li>26.1540905532161</li><li>26.1408214066386</li><li>26.16735295639</li><li>26.1540905532161</li><li>26.1806086264384</li><li>26.16735295639</li><li>26.1938575736132</li><li>26.1806086264384</li><li>26.2070998081405</li><li>26.1938575736132</li><li>26.2203353402203</li><li>26.2070998081405</li><li>26.233564180027</li><li>26.2203353402203</li><li>26.246786337709</li><li>26.233564180027</li><li>26.2600018233892</li><li>26.246786337709</li><li>26.273210647165</li><li>26.2600018233892</li><li>26.2864128191084</li><li>26.273210647165</li><li>26.2996083492658</li><li>26.2864128191084</li><li>26.3127972476585</li><li>26.2996083492658</li><li>26.3259795242826</li><li>26.3127972476585</li><li>26.3391551891091</li><li>26.3259795242826</li><li>26.3523242520839</li><li>26.3391551891091</li><li>26.3654867231282</li><li>26.3523242520839</li><li>26.378642612138</li><li>26.3654867231282</li><li>26.391791928985</li><li>26.378642612138</li><li>26.4049346835158</li><li>26.391791928985</li><li>26.4180708855528</li><li>26.4049346835158</li><li>26.4312005448936</li><li>26.4180708855528</li><li>26.4443236713116</li><li>26.4312005448936</li><li>26.4574402745559</li><li>26.4443236713116</li><li>26.4705503643512</li><li>26.4574402745559</li><li>26.4836539503982</li><li>26.4705503643512</li><li>26.4967510423734</li><li>26.4836539503982</li><li>26.5098416499295</li><li>26.4967510423734</li><li>26.5229257826951</li><li>26.5098416499295</li><li>26.5360034502751</li><li>26.5229257826951</li><li>26.5490746622506</li><li>26.5360034502751</li><li>26.5621394281792</li><li>26.5490746622506</li><li>26.5751977575948</li><li>26.5621394281792</li><li>26.5882496600078</li><li>26.5751977575948</li><li>26.6012951449053</li><li>26.5882496600078</li><li>26.6143342217509</li><li>26.6012951449053</li><li>26.6273668999851</li><li>26.6143342217509</li><li>26.6403931890252</li><li>26.6273668999851</li><li>26.6534130982653</li><li>26.6403931890252</li><li>26.6664266370768</li><li>26.6534130982653</li><li>26.6794338148078</li><li>26.6664266370768</li><li>26.6924346407837</li><li>26.6794338148078</li><li>26.7054291243073</li><li>26.6924346407837</li><li>26.7184172746583</li><li>26.7054291243073</li><li>26.7313991010943</li><li>26.7184172746583</li><li>26.7443746128499</li><li>26.7313991010943</li><li>26.7573438191375</li><li>26.7443746128499</li><li>26.7703067291471</li><li>26.7573438191375</li><li>26.7832633520462</li><li>26.7703067291471</li><li>26.7962136969802</li><li>26.7832633520462</li><li>26.8091577730724</li><li>26.7962136969802</li><li>26.8220955894239</li><li>26.8091577730724</li><li>26.835027155114</li><li>26.8220955894239</li><li>26.8479524791997</li><li>26.835027155114</li><li>26.8608715707156</li><li>26.8479524791997</li><li>26.8737844386782</li><li>26.8608715707156</li><li>26.8866910920743</li><li>26.8737844386782</li><li>26.8995915398775</li><li>26.8866910920743</li><li>26.9124857910391</li><li>26.8995915398775</li><li>26.9253738545093</li><li>26.9124857910391</li><li>26.9382557391065</li><li>26.9253738545093</li><li>26.9511314539213</li><li>26.9382557391065</li><li>26.9640010074313</li><li>26.9511314539213</li><li>26.9768644092773</li><li>26.9640010074313</li><li>26.9897216663537</li><li>26.9768644092773</li><li>27.0025727900398</li><li>26.9897216663537</li><li>27.0154177882943</li><li>27.0025727900398</li><li>27.0282566689257</li><li>27.0154177882943</li><li>27.0410894505103</li><li>27.0282566689257</li><li>27.0539161208833</li><li>27.0410894505103</li><li>27.0667366423058</li><li>27.0539161208833</li><li>27.0795510944189</li><li>27.0667366423058</li><li>27.0923595999841</li><li>27.0795510944189</li><li>27.1051618362126</li><li>27.0923595999841</li><li>27.1179587088284</li><li>27.1051618362126</li><li>27.1307480818267</li><li>27.1179587088284</li><li>27.1435347386299</li><li>27.1307480818267</li><li>27.1563054168088</li><li>27.1435347386299</li><li>27.1690852996886</li><li>27.1563054168088</li><li>27.1818353168719</li><li>27.1690852996886</li><li>27.1945939375615</li><li>27.1818353168719</li><li>27.2074605673347</li><li>27.1945939375615</li><li>27.2199064547805</li><li>27.2074605673347</li><li>27.2331096694763</li><li>27.2199064547805</li><li>27.2453796081266</li><li>27.2331096694763</li><li>27.2568474980349</li><li>27.2453796081266</li><li>27.2751401809617</li><li>27.2568474980349</li><li>27.287485859974</li><li>27.2751401809617</li><li>27.3053430028312</li><li>27.287485859974</li></ol>\n",
       "</dd>\n",
       "</dl>\n"
      ],
      "text/latex": [
       "\\begin{description}\n",
       "\\item[\\$optim\\_point] 27.3053430028312\n",
       "\\item[\\$points\\_secant] \\begin{enumerate*}\n",
       "\\item 1\n",
       "\\item 1.1\n",
       "\\item 1.92287250455007\n",
       "\\item 1\n",
       "\\item 2.06023562687239\n",
       "\\item 1.92287250455007\n",
       "\\item 2.28429769467159\n",
       "\\item 2.06023562687239\n",
       "\\item 2.44579496786853\n",
       "\\item 2.28429769467159\n",
       "\\item 2.60650755426472\n",
       "\\item 2.44579496786853\n",
       "\\item 2.75084343268711\n",
       "\\item 2.60650755426472\n",
       "\\item 2.88789864839955\n",
       "\\item 2.75084343268711\n",
       "\\item 3.01682205605501\n",
       "\\item 2.88789864839955\n",
       "\\item 3.1396681084439\n",
       "\\item 3.01682205605501\n",
       "\\item 3.25699680865374\n",
       "\\item 3.1396681084439\n",
       "\\item 3.36961967615527\n",
       "\\item 3.25699680865374\n",
       "\\item 3.47804603150852\n",
       "\\item 3.36961967615527\n",
       "\\item 3.58274385474689\n",
       "\\item 3.47804603150852\n",
       "\\item 3.68408136675168\n",
       "\\item 3.58274385474689\n",
       "\\item 3.78237546538456\n",
       "\\item 3.68408136675168\n",
       "\\item 3.87789286417989\n",
       "\\item 3.78237546538456\n",
       "\\item 3.97086379561692\n",
       "\\item 3.87789286417989\n",
       "\\item 4.06148749089414\n",
       "\\item 3.97086379561692\n",
       "\\item 4.1499382393715\n",
       "\\item 4.06148749089414\n",
       "\\item 4.23636941561613\n",
       "\\item 4.1499382393715\n",
       "\\item 4.32091693021883\n",
       "\\item 4.23636941561613\n",
       "\\item 4.40370189088331\n",
       "\\item 4.32091693021883\n",
       "\\item 4.48483279406528\n",
       "\\item 4.40370189088331\n",
       "\\item 4.56440730129708\n",
       "\\item 4.48483279406528\n",
       "\\item 4.64251370932306\n",
       "\\item 4.56440730129708\n",
       "\\item 4.71923217007827\n",
       "\\item 4.64251370932306\n",
       "\\item 4.79463571327473\n",
       "\\item 4.71923217007827\n",
       "\\item 4.8687911084969\n",
       "\\item 4.79463571327473\n",
       "\\item 4.94175959703035\n",
       "\\item 4.8687911084969\n",
       "\\item 5.01359751665427\n",
       "\\item 4.94175959703035\n",
       "\\item 5.08435683805291\n",
       "\\item 5.01359751665427\n",
       "\\item 5.15408562769661\n",
       "\\item 5.08435683805291\n",
       "\\item 5.22282844919924\n",
       "\\item 5.15408562769661\n",
       "\\item 5.29062671289247\n",
       "\\item 5.22282844919924\n",
       "\\item 5.35751898158437\n",
       "\\item 5.29062671289247\n",
       "\\item 5.42354123905542\n",
       "\\item 5.35751898158437\n",
       "\\item 5.48872712671453\n",
       "\\item 5.42354123905542\n",
       "\\item 5.55310815292675\n",
       "\\item 5.48872712671453\n",
       "\\item 5.61671387878583\n",
       "\\item 5.55310815292675\n",
       "\\item 5.67957208350256\n",
       "\\item 5.61671387878583\n",
       "\\item 5.7417089120862\n",
       "\\item 5.67957208350256\n",
       "\\item 5.80314900758938\n",
       "\\item 5.7417089120862\n",
       "\\item 5.86391562984985\n",
       "\\item 5.80314900758938\n",
       "\\item 5.92403076238187\n",
       "\\item 5.86391562984985\n",
       "\\item 5.98351520883568\n",
       "\\item 5.92403076238187\n",
       "\\item 6.04238868024665\n",
       "\\item 5.98351520883568\n",
       "\\item 6.10066987412964\n",
       "\\item 6.04238868024665\n",
       "\\item 6.15837654633396\n",
       "\\item 6.10066987412964\n",
       "\\item 6.21552557645483\n",
       "\\item 6.15837654633396\n",
       "\\item 6.27213302749575\n",
       "\\item 6.21552557645483\n",
       "\\item 6.32821420038918\n",
       "\\item 6.27213302749575\n",
       "\\item 6.38378368390846\n",
       "\\item 6.32821420038918\n",
       "\\item 6.43885540043952\n",
       "\\item 6.38378368390846\n",
       "\\item 6.49344264802577\n",
       "\\item 6.43885540043952\n",
       "\\item 6.54755813905123\n",
       "\\item 6.49344264802577\n",
       "\\item 6.60121403588569\n",
       "\\item 6.54755813905123\n",
       "\\item 6.65442198377924\n",
       "\\item 6.60121403588569\n",
       "\\item 6.70719314126169\n",
       "\\item 6.65442198377924\n",
       "\\item 6.75953820827515\n",
       "\\item 6.70719314126169\n",
       "\\item 6.81146745224335\n",
       "\\item 6.75953820827515\n",
       "\\item 6.86299073226023\n",
       "\\item 6.81146745224335\n",
       "\\item 6.91411752156133\n",
       "\\item 6.86299073226023\n",
       "\\item 6.96485692842503\n",
       "\\item 6.91411752156133\n",
       "\\item 7.01521771563607\n",
       "\\item 6.96485692842503\n",
       "\\item 7.06520831863054\n",
       "\\item 7.01521771563607\n",
       "\\item 7.11483686243026\n",
       "\\item 7.06520831863054\n",
       "\\item 7.16411117746402\n",
       "\\item 7.11483686243026\n",
       "\\item 7.21303881436397\n",
       "\\item 7.16411117746402\n",
       "\\item 7.26162705781735\n",
       "\\item 7.21303881436397\n",
       "\\item 7.30988293954646\n",
       "\\item 7.26162705781735\n",
       "\\item 7.35781325048307\n",
       "\\item 7.30988293954646\n",
       "\\item 7.40542455219768\n",
       "\\item 7.35781325048307\n",
       "\\item 7.45272318763878\n",
       "\\item 7.40542455219768\n",
       "\\item 7.49971529123245\n",
       "\\item 7.45272318763878\n",
       "\\item 7.5464067983883\n",
       "\\item 7.49971529123245\n",
       "\\item 7.59280345445403\n",
       "\\item 7.5464067983883\n",
       "\\item 7.63891082315715\n",
       "\\item 7.59280345445403\n",
       "\\item 7.68473429456954\n",
       "\\item 7.63891082315715\n",
       "\\item 7.73027909262733\n",
       "\\item 7.68473429456954\n",
       "\\item 7.7755502822362\n",
       "\\item 7.73027909262733\n",
       "\\item 7.82055277598972\n",
       "\\item 7.7755502822362\n",
       "\\item 7.86529134052632\n",
       "\\item 7.82055277598972\n",
       "\\item 7.90977060254824\n",
       "\\item 7.86529134052632\n",
       "\\item 7.95399505452437\n",
       "\\item 7.90977060254824\n",
       "\\item 7.99796906009702\n",
       "\\item 7.95399505452437\n",
       "\\item 8.04169685921117\n",
       "\\item 7.99796906009702\n",
       "\\item 8.08518257298356\n",
       "\\item 8.04169685921117\n",
       "\\item 8.12843020832753\n",
       "\\item 8.08518257298356\n",
       "\\item 8.17144366234835\n",
       "\\item 8.12843020832753\n",
       "\\item 8.21422672652313\n",
       "\\item 8.17144366234835\n",
       "\\item 8.2567830906777\n",
       "\\item 8.21422672652313\n",
       "\\item 8.29911634677274\n",
       "\\item 8.2567830906777\n",
       "\\item 8.34122999251005\n",
       "\\item 8.29911634677274\n",
       "\\item 8.38312743476944\n",
       "\\item 8.34122999251005\n",
       "\\item 8.42481199288572\n",
       "\\item 8.38312743476944\n",
       "\\item 8.46628690177499\n",
       "\\item 8.42481199288572\n",
       "\\item 8.50755531491845\n",
       "\\item 8.46628690177499\n",
       "\\item 8.54862030721181\n",
       "\\item 8.50755531491845\n",
       "\\item 8.58948487768737\n",
       "\\item 8.54862030721181\n",
       "\\item ...\n",
       "\\item 26.0077567736418\n",
       "\\item 25.9944127637141\n",
       "\\item 26.0210939253579\n",
       "\\item 26.0077567736418\n",
       "\\item 26.0344242294336\n",
       "\\item 26.0210939253579\n",
       "\\item 26.0477476964132\n",
       "\\item 26.0344242294336\n",
       "\\item 26.0610643368139\n",
       "\\item 26.0477476964132\n",
       "\\item 26.0743741611258\n",
       "\\item 26.0610643368139\n",
       "\\item 26.0876771798125\n",
       "\\item 26.0743741611258\n",
       "\\item 26.1009734033104\n",
       "\\item 26.0876771798125\n",
       "\\item 26.1142628420295\n",
       "\\item 26.1009734033104\n",
       "\\item 26.1275455063533\n",
       "\\item 26.1142628420295\n",
       "\\item 26.1408214066386\n",
       "\\item 26.1275455063533\n",
       "\\item 26.1540905532161\n",
       "\\item 26.1408214066386\n",
       "\\item 26.16735295639\n",
       "\\item 26.1540905532161\n",
       "\\item 26.1806086264384\n",
       "\\item 26.16735295639\n",
       "\\item 26.1938575736132\n",
       "\\item 26.1806086264384\n",
       "\\item 26.2070998081405\n",
       "\\item 26.1938575736132\n",
       "\\item 26.2203353402203\n",
       "\\item 26.2070998081405\n",
       "\\item 26.233564180027\n",
       "\\item 26.2203353402203\n",
       "\\item 26.246786337709\n",
       "\\item 26.233564180027\n",
       "\\item 26.2600018233892\n",
       "\\item 26.246786337709\n",
       "\\item 26.273210647165\n",
       "\\item 26.2600018233892\n",
       "\\item 26.2864128191084\n",
       "\\item 26.273210647165\n",
       "\\item 26.2996083492658\n",
       "\\item 26.2864128191084\n",
       "\\item 26.3127972476585\n",
       "\\item 26.2996083492658\n",
       "\\item 26.3259795242826\n",
       "\\item 26.3127972476585\n",
       "\\item 26.3391551891091\n",
       "\\item 26.3259795242826\n",
       "\\item 26.3523242520839\n",
       "\\item 26.3391551891091\n",
       "\\item 26.3654867231282\n",
       "\\item 26.3523242520839\n",
       "\\item 26.378642612138\n",
       "\\item 26.3654867231282\n",
       "\\item 26.391791928985\n",
       "\\item 26.378642612138\n",
       "\\item 26.4049346835158\n",
       "\\item 26.391791928985\n",
       "\\item 26.4180708855528\n",
       "\\item 26.4049346835158\n",
       "\\item 26.4312005448936\n",
       "\\item 26.4180708855528\n",
       "\\item 26.4443236713116\n",
       "\\item 26.4312005448936\n",
       "\\item 26.4574402745559\n",
       "\\item 26.4443236713116\n",
       "\\item 26.4705503643512\n",
       "\\item 26.4574402745559\n",
       "\\item 26.4836539503982\n",
       "\\item 26.4705503643512\n",
       "\\item 26.4967510423734\n",
       "\\item 26.4836539503982\n",
       "\\item 26.5098416499295\n",
       "\\item 26.4967510423734\n",
       "\\item 26.5229257826951\n",
       "\\item 26.5098416499295\n",
       "\\item 26.5360034502751\n",
       "\\item 26.5229257826951\n",
       "\\item 26.5490746622506\n",
       "\\item 26.5360034502751\n",
       "\\item 26.5621394281792\n",
       "\\item 26.5490746622506\n",
       "\\item 26.5751977575948\n",
       "\\item 26.5621394281792\n",
       "\\item 26.5882496600078\n",
       "\\item 26.5751977575948\n",
       "\\item 26.6012951449053\n",
       "\\item 26.5882496600078\n",
       "\\item 26.6143342217509\n",
       "\\item 26.6012951449053\n",
       "\\item 26.6273668999851\n",
       "\\item 26.6143342217509\n",
       "\\item 26.6403931890252\n",
       "\\item 26.6273668999851\n",
       "\\item 26.6534130982653\n",
       "\\item 26.6403931890252\n",
       "\\item 26.6664266370768\n",
       "\\item 26.6534130982653\n",
       "\\item 26.6794338148078\n",
       "\\item 26.6664266370768\n",
       "\\item 26.6924346407837\n",
       "\\item 26.6794338148078\n",
       "\\item 26.7054291243073\n",
       "\\item 26.6924346407837\n",
       "\\item 26.7184172746583\n",
       "\\item 26.7054291243073\n",
       "\\item 26.7313991010943\n",
       "\\item 26.7184172746583\n",
       "\\item 26.7443746128499\n",
       "\\item 26.7313991010943\n",
       "\\item 26.7573438191375\n",
       "\\item 26.7443746128499\n",
       "\\item 26.7703067291471\n",
       "\\item 26.7573438191375\n",
       "\\item 26.7832633520462\n",
       "\\item 26.7703067291471\n",
       "\\item 26.7962136969802\n",
       "\\item 26.7832633520462\n",
       "\\item 26.8091577730724\n",
       "\\item 26.7962136969802\n",
       "\\item 26.8220955894239\n",
       "\\item 26.8091577730724\n",
       "\\item 26.835027155114\n",
       "\\item 26.8220955894239\n",
       "\\item 26.8479524791997\n",
       "\\item 26.835027155114\n",
       "\\item 26.8608715707156\n",
       "\\item 26.8479524791997\n",
       "\\item 26.8737844386782\n",
       "\\item 26.8608715707156\n",
       "\\item 26.8866910920743\n",
       "\\item 26.8737844386782\n",
       "\\item 26.8995915398775\n",
       "\\item 26.8866910920743\n",
       "\\item 26.9124857910391\n",
       "\\item 26.8995915398775\n",
       "\\item 26.9253738545093\n",
       "\\item 26.9124857910391\n",
       "\\item 26.9382557391065\n",
       "\\item 26.9253738545093\n",
       "\\item 26.9511314539213\n",
       "\\item 26.9382557391065\n",
       "\\item 26.9640010074313\n",
       "\\item 26.9511314539213\n",
       "\\item 26.9768644092773\n",
       "\\item 26.9640010074313\n",
       "\\item 26.9897216663537\n",
       "\\item 26.9768644092773\n",
       "\\item 27.0025727900398\n",
       "\\item 26.9897216663537\n",
       "\\item 27.0154177882943\n",
       "\\item 27.0025727900398\n",
       "\\item 27.0282566689257\n",
       "\\item 27.0154177882943\n",
       "\\item 27.0410894505103\n",
       "\\item 27.0282566689257\n",
       "\\item 27.0539161208833\n",
       "\\item 27.0410894505103\n",
       "\\item 27.0667366423058\n",
       "\\item 27.0539161208833\n",
       "\\item 27.0795510944189\n",
       "\\item 27.0667366423058\n",
       "\\item 27.0923595999841\n",
       "\\item 27.0795510944189\n",
       "\\item 27.1051618362126\n",
       "\\item 27.0923595999841\n",
       "\\item 27.1179587088284\n",
       "\\item 27.1051618362126\n",
       "\\item 27.1307480818267\n",
       "\\item 27.1179587088284\n",
       "\\item 27.1435347386299\n",
       "\\item 27.1307480818267\n",
       "\\item 27.1563054168088\n",
       "\\item 27.1435347386299\n",
       "\\item 27.1690852996886\n",
       "\\item 27.1563054168088\n",
       "\\item 27.1818353168719\n",
       "\\item 27.1690852996886\n",
       "\\item 27.1945939375615\n",
       "\\item 27.1818353168719\n",
       "\\item 27.2074605673347\n",
       "\\item 27.1945939375615\n",
       "\\item 27.2199064547805\n",
       "\\item 27.2074605673347\n",
       "\\item 27.2331096694763\n",
       "\\item 27.2199064547805\n",
       "\\item 27.2453796081266\n",
       "\\item 27.2331096694763\n",
       "\\item 27.2568474980349\n",
       "\\item 27.2453796081266\n",
       "\\item 27.2751401809617\n",
       "\\item 27.2568474980349\n",
       "\\item 27.287485859974\n",
       "\\item 27.2751401809617\n",
       "\\item 27.3053430028312\n",
       "\\item 27.287485859974\n",
       "\\end{enumerate*}\n",
       "\n",
       "\\end{description}\n"
      ],
      "text/markdown": [
       "$optim_point\n",
       ":   27.3053430028312\n",
       "$points_secant\n",
       ":   1. 1\n",
       "2. 1.1\n",
       "3. 1.92287250455007\n",
       "4. 1\n",
       "5. 2.06023562687239\n",
       "6. 1.92287250455007\n",
       "7. 2.28429769467159\n",
       "8. 2.06023562687239\n",
       "9. 2.44579496786853\n",
       "10. 2.28429769467159\n",
       "11. 2.60650755426472\n",
       "12. 2.44579496786853\n",
       "13. 2.75084343268711\n",
       "14. 2.60650755426472\n",
       "15. 2.88789864839955\n",
       "16. 2.75084343268711\n",
       "17. 3.01682205605501\n",
       "18. 2.88789864839955\n",
       "19. 3.1396681084439\n",
       "20. 3.01682205605501\n",
       "21. 3.25699680865374\n",
       "22. 3.1396681084439\n",
       "23. 3.36961967615527\n",
       "24. 3.25699680865374\n",
       "25. 3.47804603150852\n",
       "26. 3.36961967615527\n",
       "27. 3.58274385474689\n",
       "28. 3.47804603150852\n",
       "29. 3.68408136675168\n",
       "30. 3.58274385474689\n",
       "31. 3.78237546538456\n",
       "32. 3.68408136675168\n",
       "33. 3.87789286417989\n",
       "34. 3.78237546538456\n",
       "35. 3.97086379561692\n",
       "36. 3.87789286417989\n",
       "37. 4.06148749089414\n",
       "38. 3.97086379561692\n",
       "39. 4.1499382393715\n",
       "40. 4.06148749089414\n",
       "41. 4.23636941561613\n",
       "42. 4.1499382393715\n",
       "43. 4.32091693021883\n",
       "44. 4.23636941561613\n",
       "45. 4.40370189088331\n",
       "46. 4.32091693021883\n",
       "47. 4.48483279406528\n",
       "48. 4.40370189088331\n",
       "49. 4.56440730129708\n",
       "50. 4.48483279406528\n",
       "51. 4.64251370932306\n",
       "52. 4.56440730129708\n",
       "53. 4.71923217007827\n",
       "54. 4.64251370932306\n",
       "55. 4.79463571327473\n",
       "56. 4.71923217007827\n",
       "57. 4.8687911084969\n",
       "58. 4.79463571327473\n",
       "59. 4.94175959703035\n",
       "60. 4.8687911084969\n",
       "61. 5.01359751665427\n",
       "62. 4.94175959703035\n",
       "63. 5.08435683805291\n",
       "64. 5.01359751665427\n",
       "65. 5.15408562769661\n",
       "66. 5.08435683805291\n",
       "67. 5.22282844919924\n",
       "68. 5.15408562769661\n",
       "69. 5.29062671289247\n",
       "70. 5.22282844919924\n",
       "71. 5.35751898158437\n",
       "72. 5.29062671289247\n",
       "73. 5.42354123905542\n",
       "74. 5.35751898158437\n",
       "75. 5.48872712671453\n",
       "76. 5.42354123905542\n",
       "77. 5.55310815292675\n",
       "78. 5.48872712671453\n",
       "79. 5.61671387878583\n",
       "80. 5.55310815292675\n",
       "81. 5.67957208350256\n",
       "82. 5.61671387878583\n",
       "83. 5.7417089120862\n",
       "84. 5.67957208350256\n",
       "85. 5.80314900758938\n",
       "86. 5.7417089120862\n",
       "87. 5.86391562984985\n",
       "88. 5.80314900758938\n",
       "89. 5.92403076238187\n",
       "90. 5.86391562984985\n",
       "91. 5.98351520883568\n",
       "92. 5.92403076238187\n",
       "93. 6.04238868024665\n",
       "94. 5.98351520883568\n",
       "95. 6.10066987412964\n",
       "96. 6.04238868024665\n",
       "97. 6.15837654633396\n",
       "98. 6.10066987412964\n",
       "99. 6.21552557645483\n",
       "100. 6.15837654633396\n",
       "101. 6.27213302749575\n",
       "102. 6.21552557645483\n",
       "103. 6.32821420038918\n",
       "104. 6.27213302749575\n",
       "105. 6.38378368390846\n",
       "106. 6.32821420038918\n",
       "107. 6.43885540043952\n",
       "108. 6.38378368390846\n",
       "109. 6.49344264802577\n",
       "110. 6.43885540043952\n",
       "111. 6.54755813905123\n",
       "112. 6.49344264802577\n",
       "113. 6.60121403588569\n",
       "114. 6.54755813905123\n",
       "115. 6.65442198377924\n",
       "116. 6.60121403588569\n",
       "117. 6.70719314126169\n",
       "118. 6.65442198377924\n",
       "119. 6.75953820827515\n",
       "120. 6.70719314126169\n",
       "121. 6.81146745224335\n",
       "122. 6.75953820827515\n",
       "123. 6.86299073226023\n",
       "124. 6.81146745224335\n",
       "125. 6.91411752156133\n",
       "126. 6.86299073226023\n",
       "127. 6.96485692842503\n",
       "128. 6.91411752156133\n",
       "129. 7.01521771563607\n",
       "130. 6.96485692842503\n",
       "131. 7.06520831863054\n",
       "132. 7.01521771563607\n",
       "133. 7.11483686243026\n",
       "134. 7.06520831863054\n",
       "135. 7.16411117746402\n",
       "136. 7.11483686243026\n",
       "137. 7.21303881436397\n",
       "138. 7.16411117746402\n",
       "139. 7.26162705781735\n",
       "140. 7.21303881436397\n",
       "141. 7.30988293954646\n",
       "142. 7.26162705781735\n",
       "143. 7.35781325048307\n",
       "144. 7.30988293954646\n",
       "145. 7.40542455219768\n",
       "146. 7.35781325048307\n",
       "147. 7.45272318763878\n",
       "148. 7.40542455219768\n",
       "149. 7.49971529123245\n",
       "150. 7.45272318763878\n",
       "151. 7.5464067983883\n",
       "152. 7.49971529123245\n",
       "153. 7.59280345445403\n",
       "154. 7.5464067983883\n",
       "155. 7.63891082315715\n",
       "156. 7.59280345445403\n",
       "157. 7.68473429456954\n",
       "158. 7.63891082315715\n",
       "159. 7.73027909262733\n",
       "160. 7.68473429456954\n",
       "161. 7.7755502822362\n",
       "162. 7.73027909262733\n",
       "163. 7.82055277598972\n",
       "164. 7.7755502822362\n",
       "165. 7.86529134052632\n",
       "166. 7.82055277598972\n",
       "167. 7.90977060254824\n",
       "168. 7.86529134052632\n",
       "169. 7.95399505452437\n",
       "170. 7.90977060254824\n",
       "171. 7.99796906009702\n",
       "172. 7.95399505452437\n",
       "173. 8.04169685921117\n",
       "174. 7.99796906009702\n",
       "175. 8.08518257298356\n",
       "176. 8.04169685921117\n",
       "177. 8.12843020832753\n",
       "178. 8.08518257298356\n",
       "179. 8.17144366234835\n",
       "180. 8.12843020832753\n",
       "181. 8.21422672652313\n",
       "182. 8.17144366234835\n",
       "183. 8.2567830906777\n",
       "184. 8.21422672652313\n",
       "185. 8.29911634677274\n",
       "186. 8.2567830906777\n",
       "187. 8.34122999251005\n",
       "188. 8.29911634677274\n",
       "189. 8.38312743476944\n",
       "190. 8.34122999251005\n",
       "191. 8.42481199288572\n",
       "192. 8.38312743476944\n",
       "193. 8.46628690177499\n",
       "194. 8.42481199288572\n",
       "195. 8.50755531491845\n",
       "196. 8.46628690177499\n",
       "197. 8.54862030721181\n",
       "198. 8.50755531491845\n",
       "199. 8.58948487768737\n",
       "200. 8.54862030721181\n",
       "201. ...\n",
       "202. 26.0077567736418\n",
       "203. 25.9944127637141\n",
       "204. 26.0210939253579\n",
       "205. 26.0077567736418\n",
       "206. 26.0344242294336\n",
       "207. 26.0210939253579\n",
       "208. 26.0477476964132\n",
       "209. 26.0344242294336\n",
       "210. 26.0610643368139\n",
       "211. 26.0477476964132\n",
       "212. 26.0743741611258\n",
       "213. 26.0610643368139\n",
       "214. 26.0876771798125\n",
       "215. 26.0743741611258\n",
       "216. 26.1009734033104\n",
       "217. 26.0876771798125\n",
       "218. 26.1142628420295\n",
       "219. 26.1009734033104\n",
       "220. 26.1275455063533\n",
       "221. 26.1142628420295\n",
       "222. 26.1408214066386\n",
       "223. 26.1275455063533\n",
       "224. 26.1540905532161\n",
       "225. 26.1408214066386\n",
       "226. 26.16735295639\n",
       "227. 26.1540905532161\n",
       "228. 26.1806086264384\n",
       "229. 26.16735295639\n",
       "230. 26.1938575736132\n",
       "231. 26.1806086264384\n",
       "232. 26.2070998081405\n",
       "233. 26.1938575736132\n",
       "234. 26.2203353402203\n",
       "235. 26.2070998081405\n",
       "236. 26.233564180027\n",
       "237. 26.2203353402203\n",
       "238. 26.246786337709\n",
       "239. 26.233564180027\n",
       "240. 26.2600018233892\n",
       "241. 26.246786337709\n",
       "242. 26.273210647165\n",
       "243. 26.2600018233892\n",
       "244. 26.2864128191084\n",
       "245. 26.273210647165\n",
       "246. 26.2996083492658\n",
       "247. 26.2864128191084\n",
       "248. 26.3127972476585\n",
       "249. 26.2996083492658\n",
       "250. 26.3259795242826\n",
       "251. 26.3127972476585\n",
       "252. 26.3391551891091\n",
       "253. 26.3259795242826\n",
       "254. 26.3523242520839\n",
       "255. 26.3391551891091\n",
       "256. 26.3654867231282\n",
       "257. 26.3523242520839\n",
       "258. 26.378642612138\n",
       "259. 26.3654867231282\n",
       "260. 26.391791928985\n",
       "261. 26.378642612138\n",
       "262. 26.4049346835158\n",
       "263. 26.391791928985\n",
       "264. 26.4180708855528\n",
       "265. 26.4049346835158\n",
       "266. 26.4312005448936\n",
       "267. 26.4180708855528\n",
       "268. 26.4443236713116\n",
       "269. 26.4312005448936\n",
       "270. 26.4574402745559\n",
       "271. 26.4443236713116\n",
       "272. 26.4705503643512\n",
       "273. 26.4574402745559\n",
       "274. 26.4836539503982\n",
       "275. 26.4705503643512\n",
       "276. 26.4967510423734\n",
       "277. 26.4836539503982\n",
       "278. 26.5098416499295\n",
       "279. 26.4967510423734\n",
       "280. 26.5229257826951\n",
       "281. 26.5098416499295\n",
       "282. 26.5360034502751\n",
       "283. 26.5229257826951\n",
       "284. 26.5490746622506\n",
       "285. 26.5360034502751\n",
       "286. 26.5621394281792\n",
       "287. 26.5490746622506\n",
       "288. 26.5751977575948\n",
       "289. 26.5621394281792\n",
       "290. 26.5882496600078\n",
       "291. 26.5751977575948\n",
       "292. 26.6012951449053\n",
       "293. 26.5882496600078\n",
       "294. 26.6143342217509\n",
       "295. 26.6012951449053\n",
       "296. 26.6273668999851\n",
       "297. 26.6143342217509\n",
       "298. 26.6403931890252\n",
       "299. 26.6273668999851\n",
       "300. 26.6534130982653\n",
       "301. 26.6403931890252\n",
       "302. 26.6664266370768\n",
       "303. 26.6534130982653\n",
       "304. 26.6794338148078\n",
       "305. 26.6664266370768\n",
       "306. 26.6924346407837\n",
       "307. 26.6794338148078\n",
       "308. 26.7054291243073\n",
       "309. 26.6924346407837\n",
       "310. 26.7184172746583\n",
       "311. 26.7054291243073\n",
       "312. 26.7313991010943\n",
       "313. 26.7184172746583\n",
       "314. 26.7443746128499\n",
       "315. 26.7313991010943\n",
       "316. 26.7573438191375\n",
       "317. 26.7443746128499\n",
       "318. 26.7703067291471\n",
       "319. 26.7573438191375\n",
       "320. 26.7832633520462\n",
       "321. 26.7703067291471\n",
       "322. 26.7962136969802\n",
       "323. 26.7832633520462\n",
       "324. 26.8091577730724\n",
       "325. 26.7962136969802\n",
       "326. 26.8220955894239\n",
       "327. 26.8091577730724\n",
       "328. 26.835027155114\n",
       "329. 26.8220955894239\n",
       "330. 26.8479524791997\n",
       "331. 26.835027155114\n",
       "332. 26.8608715707156\n",
       "333. 26.8479524791997\n",
       "334. 26.8737844386782\n",
       "335. 26.8608715707156\n",
       "336. 26.8866910920743\n",
       "337. 26.8737844386782\n",
       "338. 26.8995915398775\n",
       "339. 26.8866910920743\n",
       "340. 26.9124857910391\n",
       "341. 26.8995915398775\n",
       "342. 26.9253738545093\n",
       "343. 26.9124857910391\n",
       "344. 26.9382557391065\n",
       "345. 26.9253738545093\n",
       "346. 26.9511314539213\n",
       "347. 26.9382557391065\n",
       "348. 26.9640010074313\n",
       "349. 26.9511314539213\n",
       "350. 26.9768644092773\n",
       "351. 26.9640010074313\n",
       "352. 26.9897216663537\n",
       "353. 26.9768644092773\n",
       "354. 27.0025727900398\n",
       "355. 26.9897216663537\n",
       "356. 27.0154177882943\n",
       "357. 27.0025727900398\n",
       "358. 27.0282566689257\n",
       "359. 27.0154177882943\n",
       "360. 27.0410894505103\n",
       "361. 27.0282566689257\n",
       "362. 27.0539161208833\n",
       "363. 27.0410894505103\n",
       "364. 27.0667366423058\n",
       "365. 27.0539161208833\n",
       "366. 27.0795510944189\n",
       "367. 27.0667366423058\n",
       "368. 27.0923595999841\n",
       "369. 27.0795510944189\n",
       "370. 27.1051618362126\n",
       "371. 27.0923595999841\n",
       "372. 27.1179587088284\n",
       "373. 27.1051618362126\n",
       "374. 27.1307480818267\n",
       "375. 27.1179587088284\n",
       "376. 27.1435347386299\n",
       "377. 27.1307480818267\n",
       "378. 27.1563054168088\n",
       "379. 27.1435347386299\n",
       "380. 27.1690852996886\n",
       "381. 27.1563054168088\n",
       "382. 27.1818353168719\n",
       "383. 27.1690852996886\n",
       "384. 27.1945939375615\n",
       "385. 27.1818353168719\n",
       "386. 27.2074605673347\n",
       "387. 27.1945939375615\n",
       "388. 27.2199064547805\n",
       "389. 27.2074605673347\n",
       "390. 27.2331096694763\n",
       "391. 27.2199064547805\n",
       "392. 27.2453796081266\n",
       "393. 27.2331096694763\n",
       "394. 27.2568474980349\n",
       "395. 27.2453796081266\n",
       "396. 27.2751401809617\n",
       "397. 27.2568474980349\n",
       "398. 27.287485859974\n",
       "399. 27.2751401809617\n",
       "400. 27.3053430028312\n",
       "401. 27.287485859974\n",
       "\n",
       "\n",
       "\n",
       "\n",
       "\n"
      ],
      "text/plain": [
       "$optim_point\n",
       "[1] 27.30534\n",
       "\n",
       "$points_secant\n",
       "   [1]  1.000000  1.100000  1.922873  1.000000  2.060236  1.922873  2.284298\n",
       "   [8]  2.060236  2.445795  2.284298  2.606508  2.445795  2.750843  2.606508\n",
       "  [15]  2.887899  2.750843  3.016822  2.887899  3.139668  3.016822  3.256997\n",
       "  [22]  3.139668  3.369620  3.256997  3.478046  3.369620  3.582744  3.478046\n",
       "  [29]  3.684081  3.582744  3.782375  3.684081  3.877893  3.782375  3.970864\n",
       "  [36]  3.877893  4.061487  3.970864  4.149938  4.061487  4.236369  4.149938\n",
       "  [43]  4.320917  4.236369  4.403702  4.320917  4.484833  4.403702  4.564407\n",
       "  [50]  4.484833  4.642514  4.564407  4.719232  4.642514  4.794636  4.719232\n",
       "  [57]  4.868791  4.794636  4.941760  4.868791  5.013598  4.941760  5.084357\n",
       "  [64]  5.013598  5.154086  5.084357  5.222828  5.154086  5.290627  5.222828\n",
       "  [71]  5.357519  5.290627  5.423541  5.357519  5.488727  5.423541  5.553108\n",
       "  [78]  5.488727  5.616714  5.553108  5.679572  5.616714  5.741709  5.679572\n",
       "  [85]  5.803149  5.741709  5.863916  5.803149  5.924031  5.863916  5.983515\n",
       "  [92]  5.924031  6.042389  5.983515  6.100670  6.042389  6.158377  6.100670\n",
       "  [99]  6.215526  6.158377  6.272133  6.215526  6.328214  6.272133  6.383784\n",
       " [106]  6.328214  6.438855  6.383784  6.493443  6.438855  6.547558  6.493443\n",
       " [113]  6.601214  6.547558  6.654422  6.601214  6.707193  6.654422  6.759538\n",
       " [120]  6.707193  6.811467  6.759538  6.862991  6.811467  6.914118  6.862991\n",
       " [127]  6.964857  6.914118  7.015218  6.964857  7.065208  7.015218  7.114837\n",
       " [134]  7.065208  7.164111  7.114837  7.213039  7.164111  7.261627  7.213039\n",
       " [141]  7.309883  7.261627  7.357813  7.309883  7.405425  7.357813  7.452723\n",
       " [148]  7.405425  7.499715  7.452723  7.546407  7.499715  7.592803  7.546407\n",
       " [155]  7.638911  7.592803  7.684734  7.638911  7.730279  7.684734  7.775550\n",
       " [162]  7.730279  7.820553  7.775550  7.865291  7.820553  7.909771  7.865291\n",
       " [169]  7.953995  7.909771  7.997969  7.953995  8.041697  7.997969  8.085183\n",
       " [176]  8.041697  8.128430  8.085183  8.171444  8.128430  8.214227  8.171444\n",
       " [183]  8.256783  8.214227  8.299116  8.256783  8.341230  8.299116  8.383127\n",
       " [190]  8.341230  8.424812  8.383127  8.466287  8.424812  8.507555  8.466287\n",
       " [197]  8.548620  8.507555  8.589485  8.548620  8.630152  8.589485  8.670624\n",
       " [204]  8.630152  8.710905  8.670624  8.750996  8.710905  8.790901  8.750996\n",
       " [211]  8.830622  8.790901  8.870162  8.830622  8.909523  8.870162  8.948707\n",
       " [218]  8.909523  8.987718  8.948707  9.026556  8.987718  9.065225  9.026556\n",
       " [225]  9.103727  9.065225  9.142064  9.103727  9.180237  9.142064  9.218250\n",
       " [232]  9.180237  9.256104  9.218250  9.293801  9.256104  9.331343  9.293801\n",
       " [239]  9.368732  9.331343  9.405969  9.368732  9.443057  9.405969  9.479998\n",
       " [246]  9.443057  9.516793  9.479998  9.553444  9.516793  9.589952  9.553444\n",
       " [253]  9.626320  9.589952  9.662548  9.626320  9.698639  9.662548  9.734594\n",
       " [260]  9.698639  9.770415  9.734594  9.806103  9.770415  9.841659  9.806103\n",
       " [267]  9.877085  9.841659  9.912383  9.877085  9.947553  9.912383  9.982598\n",
       " [274]  9.947553 10.017518  9.982598 10.052315 10.017518 10.086990 10.052315\n",
       " [281] 10.121545 10.086990 10.155980 10.121545 10.190297 10.155980 10.224497\n",
       " [288] 10.190297 10.258582 10.224497 10.292552 10.258582 10.326409 10.292552\n",
       " [295] 10.360154 10.326409 10.393787 10.360154 10.427311 10.393787 10.460725\n",
       " [302] 10.427311 10.494032 10.460725 10.527232 10.494032 10.560326 10.527232\n",
       " [309] 10.593315 10.560326 10.626201 10.593315 10.658983 10.626201 10.691664\n",
       " [316] 10.658983 10.724244 10.691664 10.756724 10.724244 10.789105 10.756724\n",
       " [323] 10.821387 10.789105 10.853573 10.821387 10.885662 10.853573 10.917655\n",
       " [330] 10.885662 10.949554 10.917655 10.981359 10.949554 11.013071 10.981359\n",
       " [337] 11.044691 11.013071 11.076220 11.044691 11.107657 11.076220 11.139005\n",
       " [344] 11.107657 11.170264 11.139005 11.201435 11.170264 11.232518 11.201435\n",
       " [351] 11.263514 11.232518 11.294425 11.263514 11.325250 11.294425 11.355990\n",
       " [358] 11.325250 11.386646 11.355990 11.417219 11.386646 11.447709 11.417219\n",
       " [365] 11.478118 11.447709 11.508445 11.478118 11.538692 11.508445 11.568858\n",
       " [372] 11.538692 11.598945 11.568858 11.628954 11.598945 11.658884 11.628954\n",
       " [379] 11.688737 11.658884 11.718513 11.688737 11.748213 11.718513 11.777837\n",
       " [386] 11.748213 11.807386 11.777837 11.836860 11.807386 11.866261 11.836860\n",
       " [393] 11.895588 11.866261 11.924841 11.895588 11.954023 11.924841 11.983133\n",
       " [400] 11.954023 12.012171 11.983133 12.041139 12.012171 12.070037 12.041139\n",
       " [407] 12.098865 12.070037 12.127623 12.098865 12.156313 12.127623 12.184934\n",
       " [414] 12.156313 12.213488 12.184934 12.241975 12.213488 12.270395 12.241975\n",
       " [421] 12.298748 12.270395 12.327035 12.298748 12.355258 12.327035 12.383415\n",
       " [428] 12.355258 12.411507 12.383415 12.439536 12.411507 12.467501 12.439536\n",
       " [435] 12.495403 12.467501 12.523242 12.495403 12.551018 12.523242 12.578733\n",
       " [442] 12.551018 12.606386 12.578733 12.633979 12.606386 12.661510 12.633979\n",
       " [449] 12.688981 12.661510 12.716392 12.688981 12.743744 12.716392 12.771037\n",
       " [456] 12.743744 12.798270 12.771037 12.825446 12.798270 12.852563 12.825446\n",
       " [463] 12.879623 12.852563 12.906626 12.879623 12.933572 12.906626 12.960461\n",
       " [470] 12.933572 12.987294 12.960461 13.014071 12.987294 13.040793 13.014071\n",
       " [477] 13.067460 13.040793 13.094071 13.067460 13.120629 13.094071 13.147132\n",
       " [484] 13.120629 13.173581 13.147132 13.199977 13.173581 13.226320 13.199977\n",
       " [491] 13.252610 13.226320 13.278848 13.252610 13.305033 13.278848 13.331167\n",
       " [498] 13.305033 13.357249 13.331167 13.383280 13.357249 13.409259 13.383280\n",
       " [505] 13.435188 13.409259 13.461067 13.435188 13.486896 13.461067 13.512675\n",
       " [512] 13.486896 13.538404 13.512675 13.564084 13.538404 13.589715 13.564084\n",
       " [519] 13.615298 13.589715 13.640832 13.615298 13.666318 13.640832 13.691757\n",
       " [526] 13.666318 13.717147 13.691757 13.742491 13.717147 13.767787 13.742491\n",
       " [533] 13.793037 13.767787 13.818240 13.793037 13.843397 13.818240 13.868508\n",
       " [540] 13.843397 13.893573 13.868508 13.918593 13.893573 13.943567 13.918593\n",
       " [547] 13.968497 13.943567 13.993381 13.968497 14.018221 13.993381 14.043017\n",
       " [554] 14.018221 14.067769 14.043017 14.092477 14.067769 14.117142 14.092477\n",
       " [561] 14.141763 14.117142 14.166341 14.141763 14.190876 14.166341 14.215369\n",
       " [568] 14.190876 14.239819 14.215369 14.264226 14.239819 14.288592 14.264226\n",
       " [575] 14.312916 14.288592 14.337199 14.312916 14.361440 14.337199 14.385640\n",
       " [582] 14.361440 14.409799 14.385640 14.433917 14.409799 14.457995 14.433917\n",
       " [589] 14.482032 14.457995 14.506029 14.482032 14.529987 14.506029 14.553905\n",
       " [596] 14.529987 14.577783 14.553905 14.601622 14.577783 14.625421 14.601622\n",
       " [603] 14.649182 14.625421 14.672904 14.649182 14.696587 14.672904 14.720233\n",
       " [610] 14.696587 14.743839 14.720233 14.767408 14.743839 14.790939 14.767408\n",
       " [617] 14.814433 14.790939 14.837889 14.814433 14.861308 14.837889 14.884689\n",
       " [624] 14.861308 14.908034 14.884689 14.931342 14.908034 14.954613 14.931342\n",
       " [631] 14.977848 14.954613 15.001047 14.977848 15.024210 15.001047 15.047336\n",
       " [638] 15.024210 15.070428 15.047336 15.093483 15.070428 15.116503 15.093483\n",
       " [645] 15.139488 15.116503 15.162438 15.139488 15.185353 15.162438 15.208233\n",
       " [652] 15.185353 15.231078 15.208233 15.253890 15.231078 15.276666 15.253890\n",
       " [659] 15.299409 15.276666 15.322118 15.299409 15.344793 15.322118 15.367434\n",
       " [666] 15.344793 15.390042 15.367434 15.412616 15.390042 15.435157 15.412616\n",
       " [673] 15.457665 15.435157 15.480140 15.457665 15.502583 15.480140 15.524992\n",
       " [680] 15.502583 15.547369 15.524992 15.569714 15.547369 15.592027 15.569714\n",
       " [687] 15.614307 15.592027 15.636556 15.614307 15.658773 15.636556 15.680958\n",
       " [694] 15.658773 15.703111 15.680958 15.725233 15.703111 15.747324 15.725233\n",
       " [701] 15.769384 15.747324 15.791413 15.769384 15.813411 15.791413 15.835378\n",
       " [708] 15.813411 15.857314 15.835378 15.879220 15.857314 15.901096 15.879220\n",
       " [715] 15.922941 15.901096 15.944757 15.922941 15.966542 15.944757 15.988298\n",
       " [722] 15.966542 16.010023 15.988298 16.031719 16.010023 16.053386 16.031719\n",
       " [729] 16.075023 16.053386 16.096631 16.075023 16.118210 16.096631 16.139760\n",
       " [736] 16.118210 16.161281 16.139760 16.182773 16.161281 16.204237 16.182773\n",
       " [743] 16.225672 16.204237 16.247078 16.225672 16.268456 16.247078 16.289806\n",
       " [750] 16.268456 16.311128 16.289806 16.332422 16.311128 16.353688 16.332422\n",
       " [757] 16.374926 16.353688 16.396137 16.374926 16.417320 16.396137 16.438475\n",
       " [764] 16.417320 16.459603 16.438475 16.480704 16.459603 16.501778 16.480704\n",
       " [771] 16.522825 16.501778 16.543845 16.522825 16.564838 16.543845 16.585804\n",
       " [778] 16.564838 16.606744 16.585804 16.627657 16.606744 16.648544 16.627657\n",
       " [785] 16.669404 16.648544 16.690239 16.669404 16.711047 16.690239 16.731829\n",
       " [792] 16.711047 16.752585 16.731829 16.773316 16.752585 16.794020 16.773316\n",
       " [799] 16.814699 16.794020 16.835353 16.814699 16.855981 16.835353 16.876583\n",
       " [806] 16.855981 16.897161 16.876583 16.917713 16.897161 16.938240 16.917713\n",
       " [813] 16.958743 16.938240 16.979220 16.958743 16.999673 16.979220 17.020100\n",
       " [820] 16.999673 17.040504 17.020100 17.060882 17.040504 17.081237 17.060882\n",
       " [827] 17.101567 17.081237 17.121872 17.101567 17.142154 17.121872 17.162411\n",
       " [834] 17.142154 17.182645 17.162411 17.202854 17.182645 17.223040 17.202854\n",
       " [841] 17.243202 17.223040 17.263340 17.243202 17.283454 17.263340 17.303546\n",
       " [848] 17.283454 17.323613 17.303546 17.343658 17.323613 17.363679 17.343658\n",
       " [855] 17.383677 17.363679 17.403652 17.383677 17.423603 17.403652 17.443532\n",
       " [862] 17.423603 17.463438 17.443532 17.483322 17.463438 17.503182 17.483322\n",
       " [869] 17.523020 17.503182 17.542836 17.523020 17.562629 17.542836 17.582399\n",
       " [876] 17.562629 17.602148 17.582399 17.621874 17.602148 17.641577 17.621874\n",
       " [883] 17.661259 17.641577 17.680919 17.661259 17.700557 17.680919 17.720173\n",
       " [890] 17.700557 17.739767 17.720173 17.759339 17.739767 17.778890 17.759339\n",
       " [897] 17.798419 17.778890 17.817927 17.798419 17.837413 17.817927 17.856878\n",
       " [904] 17.837413 17.876322 17.856878 17.895744 17.876322 17.915145 17.895744\n",
       " [911] 17.934525 17.915145 17.953884 17.934525 17.973223 17.953884 17.992540\n",
       " [918] 17.973223 18.011836 17.992540 18.031112 18.011836 18.050367 18.031112\n",
       " [925] 18.069601 18.050367 18.088815 18.069601 18.108009 18.088815 18.127182\n",
       " [932] 18.108009 18.146334 18.127182 18.165467 18.146334 18.184579 18.165467\n",
       " [939] 18.203671 18.184579 18.222743 18.203671 18.241794 18.222743 18.260826\n",
       " [946] 18.241794 18.279838 18.260826 18.298830 18.279838 18.317803 18.298830\n",
       " [953] 18.336755 18.317803 18.355688 18.336755 18.374602 18.355688 18.393496\n",
       " [960] 18.374602 18.412370 18.393496 18.431225 18.412370 18.450061 18.431225\n",
       " [967] 18.468877 18.450061 18.487674 18.468877 18.506452 18.487674 18.525211\n",
       " [974] 18.506452 18.543950 18.525211 18.562671 18.543950 18.581373 18.562671\n",
       " [981] 18.600056 18.581373 18.618720 18.600056 18.637365 18.618720 18.655992\n",
       " [988] 18.637365 18.674599 18.655992 18.693189 18.674599 18.711760 18.693189\n",
       " [995] 18.730312 18.711760 18.748846 18.730312 18.767361 18.748846 18.785858\n",
       "[1002] 18.767361 18.804337 18.785858 18.822798 18.804337 18.841240 18.822798\n",
       "[1009] 18.859665 18.841240 18.878071 18.859665 18.896459 18.878071 18.914829\n",
       "[1016] 18.896459 18.933182 18.914829 18.951517 18.933182 18.969833 18.951517\n",
       "[1023] 18.988132 18.969833 19.006414 18.988132 19.024677 19.006414 19.042924\n",
       "[1030] 19.024677 19.061152 19.042924 19.079363 19.061152 19.097557 19.079363\n",
       "[1037] 19.115733 19.097557 19.133892 19.115733 19.152034 19.133892 19.170158\n",
       "[1044] 19.152034 19.188266 19.170158 19.206356 19.188266 19.224429 19.206356\n",
       "[1051] 19.242485 19.224429 19.260524 19.242485 19.278546 19.260524 19.296551\n",
       "[1058] 19.278546 19.314539 19.296551 19.332510 19.314539 19.350465 19.332510\n",
       "[1065] 19.368403 19.350465 19.386324 19.368403 19.404229 19.386324 19.422117\n",
       "[1072] 19.404229 19.439989 19.422117 19.457844 19.439989 19.475683 19.457844\n",
       "[1079] 19.493505 19.475683 19.511311 19.493505 19.529101 19.511311 19.546874\n",
       "[1086] 19.529101 19.564631 19.546874 19.582372 19.564631 19.600097 19.582372\n",
       "[1093] 19.617806 19.600097 19.635499 19.617806 19.653176 19.635499 19.670836\n",
       "[1100] 19.653176 19.688481 19.670836 19.706111 19.688481 19.723724 19.706111\n",
       "[1107] 19.741321 19.723724 19.758903 19.741321 19.776469 19.758903 19.794020\n",
       "[1114] 19.776469 19.811554 19.794020 19.829074 19.811554 19.846577 19.829074\n",
       "[1121] 19.864066 19.846577 19.881538 19.864066 19.898996 19.881538 19.916438\n",
       "[1128] 19.898996 19.933865 19.916438 19.951276 19.933865 19.968672 19.951276\n",
       "[1135] 19.986053 19.968672 20.003419 19.986053 20.020770 20.003419 20.038106\n",
       "[1142] 20.020770 20.055426 20.038106 20.072732 20.055426 20.090022 20.072732\n",
       "[1149] 20.107298 20.090022 20.124559 20.107298 20.141805 20.124559 20.159036\n",
       "[1156] 20.141805 20.176253 20.159036 20.193454 20.176253 20.210641 20.193454\n",
       "[1163] 20.227814 20.210641 20.244971 20.227814 20.262114 20.244971 20.279243\n",
       "[1170] 20.262114 20.296357 20.279243 20.313457 20.296357 20.330542 20.313457\n",
       "[1177] 20.347613 20.330542 20.364669 20.347613 20.381711 20.364669 20.398739\n",
       "[1184] 20.381711 20.415752 20.398739 20.432752 20.415752 20.449737 20.432752\n",
       "[1191] 20.466708 20.449737 20.483665 20.466708 20.500608 20.483665 20.517536\n",
       "[1198] 20.500608 20.534451 20.517536 20.551352 20.534451 20.568239 20.551352\n",
       "[1205] 20.585112 20.568239 20.601971 20.585112 20.618816 20.601971 20.635648\n",
       "[1212] 20.618816 20.652465 20.635648 20.669269 20.652465 20.686059 20.669269\n",
       "[1219] 20.702836 20.686059 20.719599 20.702836 20.736348 20.719599 20.753084\n",
       "[1226] 20.736348 20.769806 20.753084 20.786515 20.769806 20.803210 20.786515\n",
       "[1233] 20.819892 20.803210 20.836561 20.819892 20.853216 20.836561 20.869858\n",
       "[1240] 20.853216 20.886486 20.869858 20.903101 20.886486 20.919703 20.903101\n",
       "[1247] 20.936292 20.919703 20.952867 20.936292 20.969430 20.952867 20.985979\n",
       "[1254] 20.969430 21.002515 20.985979 21.019038 21.002515 21.035548 21.019038\n",
       "[1261] 21.052046 21.035548 21.068530 21.052046 21.085001 21.068530 21.101459\n",
       "[1268] 21.085001 21.117905 21.101459 21.134337 21.117905 21.150757 21.134337\n",
       "[1275] 21.167164 21.150757 21.183558 21.167164 21.199940 21.183558 21.216309\n",
       "[1282] 21.199940 21.232665 21.216309 21.249009 21.232665 21.265340 21.249009\n",
       "[1289] 21.281658 21.265340 21.297964 21.281658 21.314257 21.297964 21.330538\n",
       "[1296] 21.314257 21.346806 21.330538 21.363062 21.346806 21.379306 21.363062\n",
       "[1303] 21.395537 21.379306 21.411756 21.395537 21.427963 21.411756 21.444157\n",
       "[1310] 21.427963 21.460339 21.444157 21.476509 21.460339 21.492666 21.476509\n",
       "[1317] 21.508811 21.492666 21.524945 21.508811 21.541066 21.524945 21.557175\n",
       "[1324] 21.541066 21.573272 21.557175 21.589357 21.573272 21.605429 21.589357\n",
       "[1331] 21.621490 21.605429 21.637539 21.621490 21.653576 21.637539 21.669601\n",
       "[1338] 21.653576 21.685615 21.669601 21.701616 21.685615 21.717605 21.701616\n",
       "[1345] 21.733583 21.717605 21.749549 21.733583 21.765503 21.749549 21.781446\n",
       "[1352] 21.765503 21.797377 21.781446 21.813296 21.797377 21.829203 21.813296\n",
       "[1359] 21.845099 21.829203 21.860983 21.845099 21.876856 21.860983 21.892717\n",
       "[1366] 21.876856 21.908567 21.892717 21.924405 21.908567 21.940232 21.924405\n",
       "[1373] 21.956047 21.940232 21.971851 21.956047 21.987643 21.971851 22.003424\n",
       "[1380] 21.987643 22.019194 22.003424 22.034952 22.019194 22.050699 22.034952\n",
       "[1387] 22.066435 22.050699 22.082159 22.066435 22.097873 22.082159 22.113575\n",
       "[1394] 22.097873 22.129266 22.113575 22.144946 22.129266 22.160614 22.144946\n",
       "[1401] 22.176272 22.160614 22.191918 22.176272 22.207554 22.191918 22.223178\n",
       "[1408] 22.207554 22.238791 22.223178 22.254394 22.238791 22.269985 22.254394\n",
       "[1415] 22.285566 22.269985 22.301135 22.285566 22.316694 22.301135 22.332242\n",
       "[1422] 22.316694 22.347779 22.332242 22.363305 22.347779 22.378820 22.363305\n",
       "[1429] 22.394325 22.378820 22.409819 22.394325 22.425302 22.409819 22.440774\n",
       "[1436] 22.425302 22.456236 22.440774 22.471687 22.456236 22.487127 22.471687\n",
       "[1443] 22.502557 22.487127 22.517976 22.502557 22.533384 22.517976 22.548782\n",
       "[1450] 22.533384 22.564169 22.548782 22.579546 22.564169 22.594913 22.579546\n",
       "[1457] 22.610269 22.594913 22.625614 22.610269 22.640949 22.625614 22.656274\n",
       "[1464] 22.640949 22.671588 22.656274 22.686892 22.671588 22.702185 22.686892\n",
       "[1471] 22.717469 22.702185 22.732742 22.717469 22.748004 22.732742 22.763256\n",
       "[1478] 22.748004 22.778499 22.763256 22.793730 22.778499 22.808952 22.793730\n",
       "[1485] 22.824164 22.808952 22.839365 22.824164 22.854556 22.839365 22.869737\n",
       "[1492] 22.854556 22.884908 22.869737 22.900069 22.884908 22.915220 22.900069\n",
       "[1499] 22.930361 22.915220 22.945492 22.930361 22.960612 22.945492 22.975723\n",
       "[1506] 22.960612 22.990824 22.975723 23.005915 22.990824 23.020996 23.005915\n",
       "[1513] 23.036067 23.020996 23.051128 23.036067 23.066179 23.051128 23.081221\n",
       "[1520] 23.066179 23.096253 23.081221 23.111274 23.096253 23.126287 23.111274\n",
       "[1527] 23.141289 23.126287 23.156281 23.141289 23.171264 23.156281 23.186237\n",
       "[1534] 23.171264 23.201201 23.186237 23.216155 23.201201 23.231099 23.216155\n",
       "[1541] 23.246033 23.231099 23.260958 23.246033 23.275873 23.260958 23.290779\n",
       "[1548] 23.275873 23.305675 23.290779 23.320562 23.305675 23.335439 23.320562\n",
       "[1555] 23.350306 23.335439 23.365164 23.350306 23.380013 23.365164 23.394852\n",
       "[1562] 23.380013 23.409682 23.394852 23.424502 23.409682 23.439313 23.424502\n",
       "[1569] 23.454115 23.439313 23.468907 23.454115 23.483690 23.468907 23.498463\n",
       "[1576] 23.483690 23.513227 23.498463 23.527982 23.513227 23.542728 23.527982\n",
       "[1583] 23.557464 23.542728 23.572192 23.557464 23.586909 23.572192 23.601618\n",
       "[1590] 23.586909 23.616318 23.601618 23.631008 23.616318 23.645689 23.631008\n",
       "[1597] 23.660361 23.645689 23.675024 23.660361 23.689678 23.675024 23.704323\n",
       "[1604] 23.689678 23.718959 23.704323 23.733585 23.718959 23.748203 23.733585\n",
       "[1611] 23.762812 23.748203 23.777411 23.762812 23.792002 23.777411 23.806584\n",
       "[1618] 23.792002 23.821156 23.806584 23.835720 23.821156 23.850275 23.835720\n",
       "[1625] 23.864821 23.850275 23.879358 23.864821 23.893886 23.879358 23.908406\n",
       "[1632] 23.893886 23.922916 23.908406 23.937418 23.922916 23.951911 23.937418\n",
       "[1639] 23.966395 23.951911 23.980870 23.966395 23.995337 23.980870 24.009795\n",
       "[1646] 23.995337 24.024244 24.009795 24.038684 24.024244 24.053116 24.038684\n",
       "[1653] 24.067539 24.053116 24.081953 24.067539 24.096359 24.081953 24.110756\n",
       "[1660] 24.096359 24.125145 24.110756 24.139525 24.125145 24.153896 24.139525\n",
       "[1667] 24.168259 24.153896 24.182613 24.168259 24.196959 24.182613 24.211296\n",
       "[1674] 24.196959 24.225624 24.211296 24.239945 24.225624 24.254256 24.239945\n",
       "[1681] 24.268559 24.254256 24.282854 24.268559 24.297141 24.282854 24.311419\n",
       "[1688] 24.297141 24.325688 24.311419 24.339949 24.325688 24.354202 24.339949\n",
       "[1695] 24.368446 24.354202 24.382682 24.368446 24.396910 24.382682 24.411130\n",
       "[1702] 24.396910 24.425341 24.411130 24.439543 24.425341 24.453738 24.439543\n",
       "[1709] 24.467924 24.453738 24.482102 24.467924 24.496272 24.482102 24.510434\n",
       "[1716] 24.496272 24.524587 24.510434 24.538733 24.524587 24.552870 24.538733\n",
       "[1723] 24.566999 24.552870 24.581119 24.566999 24.595232 24.581119 24.609336\n",
       "[1730] 24.595232 24.623433 24.609336 24.637521 24.623433 24.651602 24.637521\n",
       "[1737] 24.665674 24.651602 24.679738 24.665674 24.693794 24.679738 24.707842\n",
       "[1744] 24.693794 24.721882 24.707842 24.735915 24.721882 24.749939 24.735915\n",
       "[1751] 24.763955 24.749939 24.777963 24.763955 24.791964 24.777963 24.805956\n",
       "[1758] 24.791964 24.819940 24.805956 24.833917 24.819940 24.847886 24.833917\n",
       "[1765] 24.861847 24.847886 24.875800 24.861847 24.889745 24.875800 24.903682\n",
       "[1772] 24.889745 24.917612 24.903682 24.931533 24.917612 24.945447 24.931533\n",
       "[1779] 24.959353 24.945447 24.973252 24.959353 24.987142 24.973252 25.001025\n",
       "[1786] 24.987142 25.014900 25.001025 25.028768 25.014900 25.042628 25.028768\n",
       "[1793] 25.056480 25.042628 25.070324 25.056480 25.084161 25.070324 25.097990\n",
       "[1800] 25.084161 25.111812 25.097990 25.125625 25.111812 25.139432 25.125625\n",
       "[1807] 25.153230 25.139432 25.167021 25.153230 25.180805 25.167021 25.194581\n",
       "[1814] 25.180805 25.208349 25.194581 25.222110 25.208349 25.235863 25.222110\n",
       "[1821] 25.249609 25.235863 25.263348 25.249609 25.277078 25.263348 25.290802\n",
       "[1828] 25.277078 25.304518 25.290802 25.318226 25.304518 25.331927 25.318226\n",
       "[1835] 25.345621 25.331927 25.359307 25.345621 25.372986 25.359307 25.386657\n",
       "[1842] 25.372986 25.400321 25.386657 25.413978 25.400321 25.427627 25.413978\n",
       "[1849] 25.441269 25.427627 25.454904 25.441269 25.468531 25.454904 25.482151\n",
       "[1856] 25.468531 25.495764 25.482151 25.509369 25.495764 25.522968 25.509369\n",
       "[1863] 25.536558 25.522968 25.550142 25.536558 25.563719 25.550142 25.577288\n",
       "[1870] 25.563719 25.590850 25.577288 25.604405 25.590850 25.617952 25.604405\n",
       "[1877] 25.631493 25.617952 25.645026 25.631493 25.658552 25.645026 25.672071\n",
       "[1884] 25.658552 25.685583 25.672071 25.699088 25.685583 25.712585 25.699088\n",
       "[1891] 25.726076 25.712585 25.739559 25.726076 25.753036 25.739559 25.766505\n",
       "[1898] 25.753036 25.779967 25.766505 25.793422 25.779967 25.806871 25.793422\n",
       "[1905] 25.820312 25.806871 25.833746 25.820312 25.847173 25.833746 25.860593\n",
       "[1912] 25.847173 25.874006 25.860593 25.887413 25.874006 25.900812 25.887413\n",
       "[1919] 25.914204 25.900812 25.927589 25.914204 25.940968 25.927589 25.954339\n",
       "[1926] 25.940968 25.967704 25.954339 25.981062 25.967704 25.994413 25.981062\n",
       "[1933] 26.007757 25.994413 26.021094 26.007757 26.034424 26.021094 26.047748\n",
       "[1940] 26.034424 26.061064 26.047748 26.074374 26.061064 26.087677 26.074374\n",
       "[1947] 26.100973 26.087677 26.114263 26.100973 26.127546 26.114263 26.140821\n",
       "[1954] 26.127546 26.154091 26.140821 26.167353 26.154091 26.180609 26.167353\n",
       "[1961] 26.193858 26.180609 26.207100 26.193858 26.220335 26.207100 26.233564\n",
       "[1968] 26.220335 26.246786 26.233564 26.260002 26.246786 26.273211 26.260002\n",
       "[1975] 26.286413 26.273211 26.299608 26.286413 26.312797 26.299608 26.325980\n",
       "[1982] 26.312797 26.339155 26.325980 26.352324 26.339155 26.365487 26.352324\n",
       "[1989] 26.378643 26.365487 26.391792 26.378643 26.404935 26.391792 26.418071\n",
       "[1996] 26.404935 26.431201 26.418071 26.444324 26.431201 26.457440 26.444324\n",
       "[2003] 26.470550 26.457440 26.483654 26.470550 26.496751 26.483654 26.509842\n",
       "[2010] 26.496751 26.522926 26.509842 26.536003 26.522926 26.549075 26.536003\n",
       "[2017] 26.562139 26.549075 26.575198 26.562139 26.588250 26.575198 26.601295\n",
       "[2024] 26.588250 26.614334 26.601295 26.627367 26.614334 26.640393 26.627367\n",
       "[2031] 26.653413 26.640393 26.666427 26.653413 26.679434 26.666427 26.692435\n",
       "[2038] 26.679434 26.705429 26.692435 26.718417 26.705429 26.731399 26.718417\n",
       "[2045] 26.744375 26.731399 26.757344 26.744375 26.770307 26.757344 26.783263\n",
       "[2052] 26.770307 26.796214 26.783263 26.809158 26.796214 26.822096 26.809158\n",
       "[2059] 26.835027 26.822096 26.847952 26.835027 26.860872 26.847952 26.873784\n",
       "[2066] 26.860872 26.886691 26.873784 26.899592 26.886691 26.912486 26.899592\n",
       "[2073] 26.925374 26.912486 26.938256 26.925374 26.951131 26.938256 26.964001\n",
       "[2080] 26.951131 26.976864 26.964001 26.989722 26.976864 27.002573 26.989722\n",
       "[2087] 27.015418 27.002573 27.028257 27.015418 27.041089 27.028257 27.053916\n",
       "[2094] 27.041089 27.066737 27.053916 27.079551 27.066737 27.092360 27.079551\n",
       "[2101] 27.105162 27.092360 27.117959 27.105162 27.130748 27.117959 27.143535\n",
       "[2108] 27.130748 27.156305 27.143535 27.169085 27.156305 27.181835 27.169085\n",
       "[2115] 27.194594 27.181835 27.207461 27.194594 27.219906 27.207461 27.233110\n",
       "[2122] 27.219906 27.245380 27.233110 27.256847 27.245380 27.275140 27.256847\n",
       "[2129] 27.287486 27.275140 27.305343 27.287486\n"
      ]
     },
     "metadata": {},
     "output_type": "display_data"
    }
   ],
   "source": [
    "result_secant=secant(df_1, 1, 1.1, 0.001) # diverges\n",
    "result_secant"
   ]
  },
  {
   "cell_type": "code",
   "execution_count": 406,
   "metadata": {},
   "outputs": [
    {
     "data": {
      "image/png": "[encoded data removed]",
      "text/plain": [
       "plot without title"
      ]
     },
     "metadata": {
      "image/png": {
       "height": 420,
       "width": 420
      },
      "text/plain": {
       "height": 420,
       "width": 420
      }
     },
     "output_type": "display_data"
    }
   ],
   "source": [
    "draw_iteration_secant(1,0,3)"
   ]
  },
  {
   "cell_type": "code",
   "execution_count": 407,
   "metadata": {},
   "outputs": [
    {
     "data": {
      "image/png": "[encoded data removed]",
      "text/plain": [
       "plot without title"
      ]
     },
     "metadata": {
      "image/png": {
       "height": 420,
       "width": 420
      },
      "text/plain": {
       "height": 420,
       "width": 420
      }
     },
     "output_type": "display_data"
    }
   ],
   "source": [
    "draw_iteration_secant(2,0,3)"
   ]
  },
  {
   "cell_type": "code",
   "execution_count": 408,
   "metadata": {},
   "outputs": [
    {
     "data": {
      "image/png": "[encoded data removed]",
      "text/plain": [
       "plot without title"
      ]
     },
     "metadata": {
      "image/png": {
       "height": 420,
       "width": 420
      },
      "text/plain": {
       "height": 420,
       "width": 420
      }
     },
     "output_type": "display_data"
    }
   ],
   "source": [
    "draw_iteration_secant(5,0,3)"
   ]
  },
  {
   "cell_type": "code",
   "execution_count": 409,
   "metadata": {},
   "outputs": [
    {
     "data": {
      "image/png": "[encoded data removed]",
      "text/plain": [
       "plot without title"
      ]
     },
     "metadata": {
      "image/png": {
       "height": 420,
       "width": 420
      },
      "text/plain": {
       "height": 420,
       "width": 420
      }
     },
     "output_type": "display_data"
    }
   ],
   "source": [
    "draw_iteration_secant(500,0,20)"
   ]
  }
 ],
 "metadata": {
  "kernelspec": {
   "display_name": "R",
   "language": "R",
   "name": "ir"
  },
  "language_info": {
   "codemirror_mode": "r",
   "file_extension": ".r",
   "mimetype": "text/x-r-source",
   "name": "R",
   "pygments_lexer": "r",
   "version": "3.6.2"
  }
 },
 "nbformat": 4,
 "nbformat_minor": 4
}
